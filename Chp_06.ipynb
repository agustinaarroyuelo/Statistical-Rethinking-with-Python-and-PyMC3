{
 "cells": [
  {
   "cell_type": "code",
<<<<<<< HEAD
   "execution_count": 1,
=======
   "execution_count": 24,
>>>>>>> 333171254aa00e9c53566517ad8a9b3385d429f0
   "metadata": {
    "collapsed": true
   },
   "outputs": [],
   "source": [
    "%matplotlib inline\n",
    "import pymc3 as pm\n",
    "import numpy as np\n",
    "import pandas as pd\n",
    "from scipy import stats\n",
    "# R-like interface, alternatively you can import statsmodels as import statsmodels.api as sm\n",
    "import statsmodels.formula.api as smf \n",
    "import statsmodels.api as sm\n",
    "import matplotlib.pyplot as plt\n",
    "palette = 'colorblind'\n",
    "import seaborn as sns; sns.set_palette(palette); sns.set_color_codes(palette)\n",
    "import numpy as np"
   ]
  },
  {
   "cell_type": "markdown",
   "metadata": {},
   "source": [
    "#### Code 6.1"
   ]
  },
  {
   "cell_type": "code",
<<<<<<< HEAD
   "execution_count": 2,
=======
   "execution_count": 25,
>>>>>>> 333171254aa00e9c53566517ad8a9b3385d429f0
   "metadata": {},
   "outputs": [
    {
     "data": {
      "text/html": [
       "<div>\n",
       "<table border=\"1\" class=\"dataframe\">\n",
       "  <thead>\n",
       "    <tr style=\"text-align: right;\">\n",
       "      <th></th>\n",
       "      <th>brain</th>\n",
       "      <th>mass</th>\n",
       "      <th>species</th>\n",
       "    </tr>\n",
       "  </thead>\n",
       "  <tbody>\n",
       "    <tr>\n",
       "      <th>0</th>\n",
       "      <td>438</td>\n",
       "      <td>37.0</td>\n",
       "      <td>afarensis</td>\n",
       "    </tr>\n",
       "    <tr>\n",
       "      <th>1</th>\n",
       "      <td>452</td>\n",
       "      <td>35.5</td>\n",
       "      <td>africanus</td>\n",
       "    </tr>\n",
       "    <tr>\n",
       "      <th>2</th>\n",
       "      <td>612</td>\n",
       "      <td>34.5</td>\n",
       "      <td>habilis</td>\n",
       "    </tr>\n",
       "    <tr>\n",
       "      <th>3</th>\n",
       "      <td>521</td>\n",
       "      <td>41.5</td>\n",
       "      <td>boisei</td>\n",
       "    </tr>\n",
       "    <tr>\n",
       "      <th>4</th>\n",
       "      <td>752</td>\n",
       "      <td>55.5</td>\n",
       "      <td>rudolfensis</td>\n",
       "    </tr>\n",
       "    <tr>\n",
       "      <th>5</th>\n",
       "      <td>871</td>\n",
       "      <td>61.0</td>\n",
       "      <td>ergaster</td>\n",
       "    </tr>\n",
       "    <tr>\n",
       "      <th>6</th>\n",
       "      <td>1350</td>\n",
       "      <td>53.5</td>\n",
       "      <td>sapiens</td>\n",
       "    </tr>\n",
       "  </tbody>\n",
       "</table>\n",
       "</div>"
      ],
      "text/plain": [
       "   brain  mass      species\n",
       "0    438  37.0    afarensis\n",
       "1    452  35.5    africanus\n",
       "2    612  34.5      habilis\n",
       "3    521  41.5       boisei\n",
       "4    752  55.5  rudolfensis\n",
       "5    871  61.0     ergaster\n",
       "6   1350  53.5      sapiens"
      ]
     },
<<<<<<< HEAD
     "execution_count": 2,
=======
     "execution_count": 25,
>>>>>>> 333171254aa00e9c53566517ad8a9b3385d429f0
     "metadata": {},
     "output_type": "execute_result"
    }
   ],
   "source": [
    "data = {'species' : ['afarensis', 'africanus', 'habilis', 'boisei', 'rudolfensis', 'ergaster', 'sapiens'],\n",
    "'brain' : [438, 452, 612, 521, 752, 871, 1350],\n",
    "'mass' : [37., 35.5, 34.5, 41.5, 55.5, 61.0, 53.5]}\n",
    "d = pd.DataFrame(data)\n",
    "d"
   ]
  },
  {
   "cell_type": "markdown",
   "metadata": {},
   "source": [
    "#### Code 6.2"
   ]
  },
  {
   "cell_type": "code",
<<<<<<< HEAD
   "execution_count": 3,
=======
   "execution_count": 26,
>>>>>>> 333171254aa00e9c53566517ad8a9b3385d429f0
   "metadata": {
    "collapsed": true
   },
   "outputs": [],
   "source": [
    "m_6_1 = smf.ols('brain ~ mass', data=d).fit()"
   ]
  },
  {
   "cell_type": "markdown",
   "metadata": {},
   "source": [
    "#### Code 6.3"
   ]
  },
  {
   "cell_type": "code",
<<<<<<< HEAD
   "execution_count": 4,
=======
   "execution_count": 27,
>>>>>>> 333171254aa00e9c53566517ad8a9b3385d429f0
   "metadata": {},
   "outputs": [
    {
     "data": {
      "text/plain": [
       "0.4901580479490838"
      ]
     },
<<<<<<< HEAD
     "execution_count": 4,
=======
     "execution_count": 27,
>>>>>>> 333171254aa00e9c53566517ad8a9b3385d429f0
     "metadata": {},
     "output_type": "execute_result"
    }
   ],
   "source": [
    "1 - m_6_1.resid.var()/d.brain.var()\n",
    "\n",
    "# m_6_1.summary() check the value for R-squared"
   ]
  },
  {
   "cell_type": "markdown",
   "metadata": {},
   "source": [
    "#### Code 6.4"
   ]
  },
  {
   "cell_type": "code",
<<<<<<< HEAD
   "execution_count": 5,
=======
   "execution_count": 28,
>>>>>>> 333171254aa00e9c53566517ad8a9b3385d429f0
   "metadata": {
    "collapsed": true
   },
   "outputs": [],
   "source": [
    "m_6_2 = smf.ols('brain ~ mass + I(mass**2)', data=d).fit()"
   ]
  },
  {
   "cell_type": "markdown",
   "metadata": {},
   "source": [
    "#### Code 6.5"
   ]
  },
  {
   "cell_type": "code",
<<<<<<< HEAD
   "execution_count": 6,
=======
   "execution_count": 29,
>>>>>>> 333171254aa00e9c53566517ad8a9b3385d429f0
   "metadata": {
    "collapsed": true
   },
   "outputs": [],
   "source": [
    "m_6_3 = smf.ols('brain ~ mass + I(mass**2) + I(mass**3)', data=d).fit()\n",
    "m_6_4 = smf.ols('brain ~ mass + I(mass**2) + I(mass**3) + I(mass**4)', data=d).fit()\n",
    "m_6_5 = smf.ols('brain ~ mass + I(mass**2) + I(mass**3) + I(mass**4) + I(mass**5)', data=d).fit()\n",
    "m_6_6 = smf.ols('brain ~ mass + I(mass**2) + I(mass**3) + I(mass**4) + I(mass**5) + I(mass**6)', data=d).fit()"
   ]
  },
  {
   "cell_type": "markdown",
   "metadata": {},
   "source": [
    "#### Code 6.6"
   ]
  },
  {
   "cell_type": "code",
<<<<<<< HEAD
   "execution_count": 7,
=======
   "execution_count": 30,
>>>>>>> 333171254aa00e9c53566517ad8a9b3385d429f0
   "metadata": {
    "collapsed": true
   },
   "outputs": [],
   "source": [
    "m_6_7 = smf.ols('brain ~ 1', data=d).fit()"
   ]
  },
  {
   "cell_type": "markdown",
   "metadata": {},
   "source": [
    "#### Code 6.7"
   ]
  },
  {
   "cell_type": "code",
<<<<<<< HEAD
   "execution_count": 8,
=======
   "execution_count": 31,
>>>>>>> 333171254aa00e9c53566517ad8a9b3385d429f0
   "metadata": {
    "collapsed": true
   },
   "outputs": [],
   "source": [
    "d_new = d.drop(d.index[-1])"
   ]
  },
  {
   "cell_type": "markdown",
   "metadata": {},
   "source": [
    "#### Code 6.8"
   ]
  },
  {
   "cell_type": "code",
<<<<<<< HEAD
   "execution_count": 9,
=======
   "execution_count": 32,
>>>>>>> 333171254aa00e9c53566517ad8a9b3385d429f0
   "metadata": {},
   "outputs": [
    {
     "data": {
<<<<<<< HEAD
      "image/png": "iVBORw0KGgoAAAANSUhEUgAAAfoAAADhCAYAAAAgc3elAAAABHNCSVQICAgIfAhkiAAAAAlwSFlz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\nIYTwYf8DcorOIREo6doAAAAASUVORK5CYII=\n",
      "text/plain": [
       "<matplotlib.figure.Figure at 0x7ffafdb89240>"
=======
      "image/png": "iVBORw0KGgoAAAANSUhEUgAAAfoAAADhCAYAAAAgc3elAAAABHNCSVQICAgIfAhkiAAAAAlwSFlz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\nzB29mZlZjbmjNzMzq7HX6VrvYjUS4pgAAAAASUVORK5CYII=\n",
      "text/plain": [
       "<matplotlib.figure.Figure at 0x7f3d8d2dd748>"
>>>>>>> 333171254aa00e9c53566517ad8a9b3385d429f0
      ]
     },
     "metadata": {},
     "output_type": "display_data"
    }
   ],
   "source": [
    "f, (ax1, ax2) = plt.subplots(1, 2, sharey=True, figsize=(8,3))\n",
    "ax1.scatter(d.mass, d.brain, alpha=0.8)\n",
    "ax2.scatter(d.mass, d.brain, alpha=0.8)\n",
    "for i in range(len(d)):\n",
    "    d_new = d.drop(d.index[-i])\n",
    "    m0 = smf.ols('brain ~ mass', d_new).fit()\n",
    "    # need to calculate regression line\n",
    "    # need to add intercept term explicitly\n",
    "    x = sm.add_constant(d_new.mass)  # add constant to new data frame with mass\n",
    "    x_pred = pd.DataFrame({'mass': np.linspace(x.mass.min()-10, x.mass.max()+10, 50)})  # create linspace dataframe\n",
    "    x_pred2 = sm.add_constant(x_pred)  # add constant to newly created linspace dataframe\n",
    "    y_pred = m0.predict(x_pred2)  # calculate predicted values\n",
    "    ax1.plot(x_pred, y_pred, 'gray', alpha=.5)\n",
    "    ax1.set_ylabel('body mass (kg)', fontsize=12);\n",
    "    ax1.set_xlabel('brain volume (cc)', fontsize=12)\n",
    "    ax1.set_title('Underfit model')\n",
    "    \n",
    "    # fifth order model\n",
    "    m1 = smf.ols('brain ~ mass + I(mass**2) + I(mass**3) + I(mass**4) + I(mass**5)', data=d_new).fit()\n",
    "    x = sm.add_constant(d_new.mass)  # add constant to new data frame with mass\n",
    "    x_pred = pd.DataFrame({'mass': np.linspace(x.mass.min()-10, x.mass.max()+10, 200)})  # create linspace dataframe\n",
    "    x_pred2 = sm.add_constant(x_pred)  # add constant to newly created linspace dataframe\n",
    "    y_pred = m1.predict(x_pred2)  # calculate predicted values from fitted model\n",
    "    ax2.plot(x_pred, y_pred, 'gray', alpha=.5)\n",
    "    ax2.set_xlim(32,62)\n",
    "    ax2.set_ylim(-250, 2200)\n",
    "    ax2.set_ylabel('body mass (kg)', fontsize=12);\n",
    "    ax2.set_xlabel('brain volume (cc)', fontsize=12)\n",
    "    ax2.set_title('Overfit model')\n",
    "plt.show()"
   ]
  },
  {
   "cell_type": "markdown",
   "metadata": {},
   "source": [
    "#### Code 6.9"
   ]
  },
  {
   "cell_type": "code",
<<<<<<< HEAD
   "execution_count": 10,
=======
   "execution_count": 33,
>>>>>>> 333171254aa00e9c53566517ad8a9b3385d429f0
   "metadata": {},
   "outputs": [
    {
     "data": {
      "text/plain": [
       "0.6108643020548935"
      ]
     },
<<<<<<< HEAD
     "execution_count": 10,
=======
     "execution_count": 33,
>>>>>>> 333171254aa00e9c53566517ad8a9b3385d429f0
     "metadata": {},
     "output_type": "execute_result"
    }
   ],
   "source": [
    "p = (0.3, 0.7)\n",
    "-sum(p*np.log(p))"
   ]
  },
  {
   "cell_type": "markdown",
   "metadata": {},
   "source": [
    "#### Code 6.10"
   ]
  },
  {
   "cell_type": "code",
<<<<<<< HEAD
   "execution_count": 11,
=======
   "execution_count": 34,
>>>>>>> 333171254aa00e9c53566517ad8a9b3385d429f0
   "metadata": {},
   "outputs": [
    {
     "ename": "SyntaxError",
<<<<<<< HEAD
     "evalue": "invalid syntax (<ipython-input-11-9d0448b4b63f>, line 5)",
     "output_type": "error",
     "traceback": [
      "\u001b[1;36m  File \u001b[1;32m\"<ipython-input-11-9d0448b4b63f>\"\u001b[1;36m, line \u001b[1;32m5\u001b[0m\n\u001b[1;33m    -2 *\u001b[0m\n\u001b[1;37m         ^\u001b[0m\n\u001b[1;31mSyntaxError\u001b[0m\u001b[1;31m:\u001b[0m invalid syntax\n"
=======
     "evalue": "invalid syntax (<ipython-input-34-9d0448b4b63f>, line 5)",
     "output_type": "error",
     "traceback": [
      "\u001b[1;36m  File \u001b[1;32m\"<ipython-input-34-9d0448b4b63f>\"\u001b[1;36m, line \u001b[1;32m5\u001b[0m\n\u001b[1;33m    -2 *\u001b[0m\n\u001b[1;37m         ^\u001b[0m\n\u001b[1;31mSyntaxError\u001b[0m\u001b[1;31m:\u001b[0m invalid syntax\n"
>>>>>>> 333171254aa00e9c53566517ad8a9b3385d429f0
     ]
    }
   ],
   "source": [
    "# fit model\n",
    "m_6_1 = smf.ols('brain ~ mass', data=d).fit()\n",
    "\n",
    "#compute de deviance by cheating\n",
    "-2 * "
   ]
  },
  {
   "cell_type": "markdown",
   "metadata": {},
   "source": [
    "#### Code 6.11"
   ]
  },
  {
   "cell_type": "code",
<<<<<<< HEAD
   "execution_count": 23,
=======
   "execution_count": 35,
>>>>>>> 333171254aa00e9c53566517ad8a9b3385d429f0
   "metadata": {},
   "outputs": [
    {
     "name": "stderr",
     "output_type": "stream",
     "text": [
<<<<<<< HEAD
      "Average ELBO = -inf: 100%|██████████| 200000/200000 [00:24<00:00, 8031.51it/s]\n",
      "100%|██████████| 1000/1000 [00:00<00:00, 1967.01it/s]\n"
=======
      "  0%|          | 0/200000 [00:00<?, ?it/s]\n"
     ]
    },
    {
     "ename": "FloatingPointError",
     "evalue": "NaN occurred in optimization.",
     "output_type": "error",
     "traceback": [
      "\u001b[1;31m---------------------------------------------------------------------------\u001b[0m",
      "\u001b[1;31mFloatingPointError\u001b[0m                        Traceback (most recent call last)",
      "\u001b[1;32m<ipython-input-35-cf07b391c78f>\u001b[0m in \u001b[0;36m<module>\u001b[1;34m()\u001b[0m\n\u001b[0;32m      8\u001b[0m     \u001b[0mmu\u001b[0m \u001b[1;33m=\u001b[0m \u001b[0mpm\u001b[0m\u001b[1;33m.\u001b[0m\u001b[0mDeterministic\u001b[0m\u001b[1;33m(\u001b[0m\u001b[1;34m'mu'\u001b[0m\u001b[1;33m,\u001b[0m \u001b[0ma\u001b[0m\u001b[1;33m+\u001b[0m\u001b[0mb\u001b[0m\u001b[1;33m*\u001b[0m\u001b[0md\u001b[0m\u001b[1;33m[\u001b[0m\u001b[1;34m'mass_s'\u001b[0m\u001b[1;33m]\u001b[0m\u001b[1;33m)\u001b[0m\u001b[1;33m\u001b[0m\u001b[0m\n\u001b[0;32m      9\u001b[0m     \u001b[0mbrain\u001b[0m \u001b[1;33m=\u001b[0m \u001b[0mpm\u001b[0m\u001b[1;33m.\u001b[0m\u001b[0mNormal\u001b[0m\u001b[1;33m(\u001b[0m\u001b[1;34m'brain'\u001b[0m\u001b[1;33m,\u001b[0m \u001b[0mmu\u001b[0m \u001b[1;33m=\u001b[0m \u001b[0mmu\u001b[0m\u001b[1;33m,\u001b[0m \u001b[0msd\u001b[0m \u001b[1;33m=\u001b[0m \u001b[0msigma\u001b[0m\u001b[1;33m,\u001b[0m \u001b[0mobserved\u001b[0m \u001b[1;33m=\u001b[0m \u001b[0md\u001b[0m\u001b[1;33m[\u001b[0m\u001b[1;34m'brain'\u001b[0m\u001b[1;33m]\u001b[0m\u001b[1;33m)\u001b[0m\u001b[1;33m\u001b[0m\u001b[0m\n\u001b[1;32m---> 10\u001b[1;33m     \u001b[0mm_6_8\u001b[0m \u001b[1;33m=\u001b[0m \u001b[0mpm\u001b[0m\u001b[1;33m.\u001b[0m\u001b[0msample\u001b[0m\u001b[1;33m(\u001b[0m\u001b[1;36m1000\u001b[0m\u001b[1;33m)\u001b[0m\u001b[1;33m\u001b[0m\u001b[0m\n\u001b[0m",
      "\u001b[1;32m/home/agustina/anaconda3/lib/python3.5/site-packages/pymc3/sampling.py\u001b[0m in \u001b[0;36msample\u001b[1;34m(draws, step, init, n_init, start, trace, chain, njobs, tune, nuts_kwargs, step_kwargs, progressbar, model, random_seed, live_plot, discard_tuned_samples, **kwargs)\u001b[0m\n\u001b[0;32m    235\u001b[0m         start_, step = init_nuts(init=init, njobs=njobs, n_init=n_init,\n\u001b[0;32m    236\u001b[0m                                  \u001b[0mmodel\u001b[0m\u001b[1;33m=\u001b[0m\u001b[0mmodel\u001b[0m\u001b[1;33m,\u001b[0m \u001b[0mrandom_seed\u001b[0m\u001b[1;33m=\u001b[0m\u001b[0mrandom_seed\u001b[0m\u001b[1;33m,\u001b[0m\u001b[1;33m\u001b[0m\u001b[0m\n\u001b[1;32m--> 237\u001b[1;33m                                  progressbar=progressbar, **args)\n\u001b[0m\u001b[0;32m    238\u001b[0m         \u001b[1;32mif\u001b[0m \u001b[0mstart\u001b[0m \u001b[1;32mis\u001b[0m \u001b[1;32mNone\u001b[0m\u001b[1;33m:\u001b[0m\u001b[1;33m\u001b[0m\u001b[0m\n\u001b[0;32m    239\u001b[0m             \u001b[0mstart\u001b[0m \u001b[1;33m=\u001b[0m \u001b[0mstart_\u001b[0m\u001b[1;33m\u001b[0m\u001b[0m\n",
      "\u001b[1;32m/home/agustina/anaconda3/lib/python3.5/site-packages/pymc3/sampling.py\u001b[0m in \u001b[0;36minit_nuts\u001b[1;34m(init, njobs, n_init, model, random_seed, progressbar, **kwargs)\u001b[0m\n\u001b[0;32m    585\u001b[0m             \u001b[0mcallbacks\u001b[0m\u001b[1;33m=\u001b[0m\u001b[0mcb\u001b[0m\u001b[1;33m,\u001b[0m\u001b[1;33m\u001b[0m\u001b[0m\n\u001b[0;32m    586\u001b[0m             \u001b[0mprogressbar\u001b[0m\u001b[1;33m=\u001b[0m\u001b[0mprogressbar\u001b[0m\u001b[1;33m,\u001b[0m\u001b[1;33m\u001b[0m\u001b[0m\n\u001b[1;32m--> 587\u001b[1;33m             \u001b[0mobj_optimizer\u001b[0m\u001b[1;33m=\u001b[0m\u001b[0mpm\u001b[0m\u001b[1;33m.\u001b[0m\u001b[0madagrad_window\u001b[0m\u001b[1;33m\u001b[0m\u001b[0m\n\u001b[0m\u001b[0;32m    588\u001b[0m         )  # type: pm.MeanField\n\u001b[0;32m    589\u001b[0m         \u001b[0mstart\u001b[0m \u001b[1;33m=\u001b[0m \u001b[0mapprox\u001b[0m\u001b[1;33m.\u001b[0m\u001b[0msample\u001b[0m\u001b[1;33m(\u001b[0m\u001b[0mdraws\u001b[0m\u001b[1;33m=\u001b[0m\u001b[0mnjobs\u001b[0m\u001b[1;33m)\u001b[0m\u001b[1;33m\u001b[0m\u001b[0m\n",
      "\u001b[1;32m/home/agustina/anaconda3/lib/python3.5/site-packages/pymc3/variational/inference.py\u001b[0m in \u001b[0;36mfit\u001b[1;34m(n, local_rv, method, model, random_seed, start, inf_kwargs, **kwargs)\u001b[0m\n\u001b[0;32m    729\u001b[0m                         \u001b[1;34m'or Inference instance'\u001b[0m \u001b[1;33m%\u001b[0m\u001b[1;33m\u001b[0m\u001b[0m\n\u001b[0;32m    730\u001b[0m                         set(_select.keys()))\n\u001b[1;32m--> 731\u001b[1;33m     \u001b[1;32mreturn\u001b[0m \u001b[0minference\u001b[0m\u001b[1;33m.\u001b[0m\u001b[0mfit\u001b[0m\u001b[1;33m(\u001b[0m\u001b[0mn\u001b[0m\u001b[1;33m,\u001b[0m \u001b[1;33m**\u001b[0m\u001b[0mkwargs\u001b[0m\u001b[1;33m)\u001b[0m\u001b[1;33m\u001b[0m\u001b[0m\n\u001b[0m",
      "\u001b[1;32m/home/agustina/anaconda3/lib/python3.5/site-packages/pymc3/variational/inference.py\u001b[0m in \u001b[0;36mfit\u001b[1;34m(self, n, score, callbacks, progressbar, **kwargs)\u001b[0m\n\u001b[0;32m    121\u001b[0m         \u001b[0mprogress\u001b[0m \u001b[1;33m=\u001b[0m \u001b[0mtqdm\u001b[0m\u001b[1;33m.\u001b[0m\u001b[0mtrange\u001b[0m\u001b[1;33m(\u001b[0m\u001b[0mn\u001b[0m\u001b[1;33m,\u001b[0m \u001b[0mdisable\u001b[0m\u001b[1;33m=\u001b[0m\u001b[1;32mnot\u001b[0m \u001b[0mprogressbar\u001b[0m\u001b[1;33m)\u001b[0m\u001b[1;33m\u001b[0m\u001b[0m\n\u001b[0;32m    122\u001b[0m         \u001b[1;32mif\u001b[0m \u001b[0mscore\u001b[0m\u001b[1;33m:\u001b[0m\u001b[1;33m\u001b[0m\u001b[0m\n\u001b[1;32m--> 123\u001b[1;33m             \u001b[0mself\u001b[0m\u001b[1;33m.\u001b[0m\u001b[0m_iterate_with_loss\u001b[0m\u001b[1;33m(\u001b[0m\u001b[0mn\u001b[0m\u001b[1;33m,\u001b[0m \u001b[0mstep_func\u001b[0m\u001b[1;33m,\u001b[0m \u001b[0mprogress\u001b[0m\u001b[1;33m,\u001b[0m \u001b[0mcallbacks\u001b[0m\u001b[1;33m)\u001b[0m\u001b[1;33m\u001b[0m\u001b[0m\n\u001b[0m\u001b[0;32m    124\u001b[0m         \u001b[1;32melse\u001b[0m\u001b[1;33m:\u001b[0m\u001b[1;33m\u001b[0m\u001b[0m\n\u001b[0;32m    125\u001b[0m             \u001b[0mself\u001b[0m\u001b[1;33m.\u001b[0m\u001b[0m_iterate_without_loss\u001b[0m\u001b[1;33m(\u001b[0m\u001b[0mn\u001b[0m\u001b[1;33m,\u001b[0m \u001b[0mstep_func\u001b[0m\u001b[1;33m,\u001b[0m \u001b[0mprogress\u001b[0m\u001b[1;33m,\u001b[0m \u001b[0mcallbacks\u001b[0m\u001b[1;33m)\u001b[0m\u001b[1;33m\u001b[0m\u001b[0m\n",
      "\u001b[1;32m/home/agustina/anaconda3/lib/python3.5/site-packages/pymc3/variational/inference.py\u001b[0m in \u001b[0;36m_iterate_with_loss\u001b[1;34m(self, n, step_func, progress, callbacks)\u001b[0m\n\u001b[0;32m    154\u001b[0m                     \u001b[0mscores\u001b[0m \u001b[1;33m=\u001b[0m \u001b[0mscores\u001b[0m\u001b[1;33m[\u001b[0m\u001b[1;33m:\u001b[0m\u001b[0mi\u001b[0m\u001b[1;33m]\u001b[0m\u001b[1;33m\u001b[0m\u001b[0m\n\u001b[0;32m    155\u001b[0m                     \u001b[0mself\u001b[0m\u001b[1;33m.\u001b[0m\u001b[0mhist\u001b[0m \u001b[1;33m=\u001b[0m \u001b[0mnp\u001b[0m\u001b[1;33m.\u001b[0m\u001b[0mconcatenate\u001b[0m\u001b[1;33m(\u001b[0m\u001b[1;33m[\u001b[0m\u001b[0mself\u001b[0m\u001b[1;33m.\u001b[0m\u001b[0mhist\u001b[0m\u001b[1;33m,\u001b[0m \u001b[0mscores\u001b[0m\u001b[1;33m]\u001b[0m\u001b[1;33m)\u001b[0m\u001b[1;33m\u001b[0m\u001b[0m\n\u001b[1;32m--> 156\u001b[1;33m                     \u001b[1;32mraise\u001b[0m \u001b[0mFloatingPointError\u001b[0m\u001b[1;33m(\u001b[0m\u001b[1;34m'NaN occurred in optimization.'\u001b[0m\u001b[1;33m)\u001b[0m\u001b[1;33m\u001b[0m\u001b[0m\n\u001b[0m\u001b[0;32m    157\u001b[0m                 \u001b[0mscores\u001b[0m\u001b[1;33m[\u001b[0m\u001b[0mi\u001b[0m\u001b[1;33m]\u001b[0m \u001b[1;33m=\u001b[0m \u001b[0me\u001b[0m\u001b[1;33m\u001b[0m\u001b[0m\n\u001b[0;32m    158\u001b[0m                 \u001b[1;32mif\u001b[0m \u001b[0mi\u001b[0m \u001b[1;33m%\u001b[0m \u001b[1;36m10\u001b[0m \u001b[1;33m==\u001b[0m \u001b[1;36m0\u001b[0m\u001b[1;33m:\u001b[0m\u001b[1;33m\u001b[0m\u001b[0m\n",
      "\u001b[1;31mFloatingPointError\u001b[0m: NaN occurred in optimization."
>>>>>>> 333171254aa00e9c53566517ad8a9b3385d429f0
     ]
    }
   ],
   "source": [
    "# standarize the mass before fitting\n",
    "d['mass_s'] = d['mass'] - np.mean(d['mass'] / np.std(d['mass']))\n",
    "\n",
    "with pm.Model() as m_6_8 :\n",
    "    a = pm.Normal('a', mu=np.mean(d['brain']), sd=10)\n",
    "    b = pm.Normal('b', mu=0, sd=10)\n",
    "    sigma = pm.Uniform('sigma', np.std(d['brain']))\n",
    "    mu = pm.Deterministic('mu', a+b*d['mass_s'])\n",
    "    brain = pm.Normal('brain', mu = mu, sd = sigma, observed = d['brain'])\n",
    "    m_6_8 = pm.sample(1000) "
   ]
  },
  {
   "cell_type": "code",
   "execution_count": null,
   "metadata": {
    "collapsed": true
   },
   "outputs": [],
   "source": [
    "theta = "
   ]
  },
  {
   "cell_type": "code",
   "execution_count": null,
   "metadata": {
    "collapsed": true
   },
   "outputs": [],
   "source": [
    "#compute deviance\n",
    "dev = -2*sum(stats.norm.rvs(size=len(d['brain']), loc = , scale = ))"
   ]
  },
  {
   "cell_type": "markdown",
   "metadata": {},
   "source": [
    "#### Code 6.12"
   ]
  },
  {
   "cell_type": "code",
   "execution_count": null,
   "metadata": {
    "collapsed": true
   },
   "outputs": [],
   "source": [
    "N = 20\n",
    "kseq = 1:5\n",
    "dev = "
   ]
  },
  {
   "cell_type": "markdown",
   "metadata": {},
   "source": [
    "#### Code 6.x"
   ]
  },
  {
   "cell_type": "code",
   "execution_count": null,
   "metadata": {
    "collapsed": true
   },
   "outputs": [],
   "source": []
  },
  {
   "cell_type": "markdown",
   "metadata": {},
   "source": [
    "#### Code 6.x"
   ]
  },
  {
   "cell_type": "code",
   "execution_count": null,
   "metadata": {
    "collapsed": true
   },
   "outputs": [],
   "source": []
  },
  {
   "cell_type": "markdown",
   "metadata": {},
   "source": [
    "#### Code 6.x"
   ]
  },
  {
   "cell_type": "code",
   "execution_count": null,
   "metadata": {
    "collapsed": true
   },
   "outputs": [],
   "source": []
  },
  {
   "cell_type": "markdown",
   "metadata": {},
   "source": [
    "#### Code 6.x"
   ]
  },
  {
   "cell_type": "code",
   "execution_count": null,
   "metadata": {
    "collapsed": true
   },
   "outputs": [],
   "source": []
  },
  {
   "cell_type": "markdown",
   "metadata": {},
   "source": [
    "#### Code 6.x"
   ]
  },
  {
   "cell_type": "code",
   "execution_count": null,
   "metadata": {
    "collapsed": true
   },
   "outputs": [],
   "source": []
  },
  {
   "cell_type": "markdown",
   "metadata": {},
   "source": [
    "#### Code 6.x"
   ]
  },
  {
   "cell_type": "code",
   "execution_count": null,
   "metadata": {
    "collapsed": true
   },
   "outputs": [],
   "source": []
  },
  {
   "cell_type": "markdown",
   "metadata": {},
   "source": [
    "#### Code 6.x"
   ]
  },
  {
   "cell_type": "code",
   "execution_count": null,
   "metadata": {
    "collapsed": true
   },
   "outputs": [],
   "source": []
  },
  {
   "cell_type": "markdown",
   "metadata": {},
   "source": [
    "#### Code 6.x"
   ]
  },
  {
   "cell_type": "code",
   "execution_count": null,
   "metadata": {
    "collapsed": true
   },
   "outputs": [],
   "source": []
  },
  {
   "cell_type": "markdown",
   "metadata": {},
   "source": [
    "#### Code 6.x"
   ]
  },
  {
   "cell_type": "code",
   "execution_count": null,
   "metadata": {
    "collapsed": true
   },
   "outputs": [],
   "source": []
  },
  {
   "cell_type": "markdown",
   "metadata": {},
   "source": [
    "#### Code 6.x"
   ]
  },
  {
   "cell_type": "code",
   "execution_count": null,
   "metadata": {
    "collapsed": true
   },
   "outputs": [],
   "source": []
  },
  {
   "cell_type": "markdown",
   "metadata": {},
   "source": [
    "#### Code 6.x"
   ]
  },
  {
   "cell_type": "code",
   "execution_count": null,
   "metadata": {
    "collapsed": true
   },
   "outputs": [],
   "source": []
  },
  {
   "cell_type": "markdown",
   "metadata": {},
   "source": [
    "#### Code 6.x"
   ]
  },
  {
   "cell_type": "code",
   "execution_count": null,
   "metadata": {
    "collapsed": true
   },
   "outputs": [],
   "source": []
  },
  {
   "cell_type": "markdown",
   "metadata": {},
   "source": [
    "#### Code 6.x"
   ]
  },
  {
   "cell_type": "code",
   "execution_count": null,
   "metadata": {
    "collapsed": true
   },
   "outputs": [],
   "source": []
  },
  {
   "cell_type": "markdown",
   "metadata": {},
   "source": [
    "#### Code 6.x"
   ]
  },
  {
   "cell_type": "code",
   "execution_count": null,
   "metadata": {
    "collapsed": true
   },
   "outputs": [],
   "source": []
  },
  {
   "cell_type": "markdown",
   "metadata": {},
   "source": [
    "#### Code 6.x"
   ]
  },
  {
   "cell_type": "code",
   "execution_count": null,
   "metadata": {
    "collapsed": true
   },
   "outputs": [],
   "source": []
  },
  {
   "cell_type": "markdown",
   "metadata": {},
   "source": [
    "#### Code 6.x"
   ]
  },
  {
   "cell_type": "code",
   "execution_count": null,
   "metadata": {
    "collapsed": true
   },
   "outputs": [],
   "source": []
  },
  {
   "cell_type": "markdown",
   "metadata": {},
   "source": [
    "#### Code 6.x"
   ]
  },
  {
   "cell_type": "code",
   "execution_count": null,
   "metadata": {
    "collapsed": true
   },
   "outputs": [],
   "source": []
  },
  {
   "cell_type": "markdown",
   "metadata": {},
   "source": [
    "#### Code 6.x"
   ]
  },
  {
   "cell_type": "code",
   "execution_count": null,
   "metadata": {
    "collapsed": true
   },
   "outputs": [],
   "source": []
  },
  {
   "cell_type": "markdown",
   "metadata": {},
   "source": [
    "#### Code 6.x"
   ]
  },
  {
   "cell_type": "code",
   "execution_count": null,
   "metadata": {
    "collapsed": true
   },
   "outputs": [],
   "source": []
  },
  {
   "cell_type": "markdown",
   "metadata": {},
   "source": [
    "#### Code 6.x"
   ]
  },
  {
   "cell_type": "code",
   "execution_count": null,
   "metadata": {
    "collapsed": true
   },
   "outputs": [],
   "source": []
  },
  {
   "cell_type": "markdown",
   "metadata": {},
   "source": [
    "#### Code 6.x"
   ]
  },
  {
   "cell_type": "code",
   "execution_count": null,
   "metadata": {
    "collapsed": true
   },
   "outputs": [],
   "source": []
  },
  {
   "cell_type": "markdown",
   "metadata": {},
   "source": [
    "#### Code 6.x"
   ]
  },
  {
   "cell_type": "code",
   "execution_count": null,
   "metadata": {
    "collapsed": true
   },
   "outputs": [],
   "source": []
  },
  {
   "cell_type": "markdown",
   "metadata": {},
   "source": [
    "#### Code 6.x"
   ]
  },
  {
   "cell_type": "code",
   "execution_count": null,
   "metadata": {
    "collapsed": true
   },
   "outputs": [],
   "source": []
  },
  {
   "cell_type": "markdown",
   "metadata": {},
   "source": [
    "#### Code 6.x"
   ]
  },
  {
   "cell_type": "code",
   "execution_count": null,
   "metadata": {
    "collapsed": true
   },
   "outputs": [],
   "source": []
  },
  {
   "cell_type": "markdown",
   "metadata": {},
   "source": [
    "#### Code 6.x"
   ]
  },
  {
   "cell_type": "code",
   "execution_count": null,
   "metadata": {
    "collapsed": true
   },
   "outputs": [],
   "source": []
  },
  {
   "cell_type": "markdown",
   "metadata": {},
   "source": [
    "#### Code 6.x"
   ]
  },
  {
   "cell_type": "code",
   "execution_count": null,
   "metadata": {
    "collapsed": true
   },
   "outputs": [],
   "source": []
  },
  {
   "cell_type": "markdown",
   "metadata": {},
   "source": [
    "#### Code 6.x"
   ]
  },
  {
   "cell_type": "code",
   "execution_count": null,
   "metadata": {
    "collapsed": true
   },
   "outputs": [],
   "source": []
  },
  {
   "cell_type": "markdown",
   "metadata": {},
   "source": [
    "#### Code 6.x"
   ]
  },
  {
   "cell_type": "code",
   "execution_count": null,
   "metadata": {
    "collapsed": true
   },
   "outputs": [],
   "source": []
  },
  {
   "cell_type": "markdown",
   "metadata": {},
   "source": [
    "#### Code 6.x"
   ]
  },
  {
   "cell_type": "code",
   "execution_count": null,
   "metadata": {
    "collapsed": true
   },
   "outputs": [],
   "source": []
  },
  {
   "cell_type": "markdown",
   "metadata": {},
   "source": [
    "#### Code 6.x"
   ]
  },
  {
   "cell_type": "code",
   "execution_count": null,
   "metadata": {
    "collapsed": true
   },
   "outputs": [],
   "source": []
  },
  {
   "cell_type": "markdown",
   "metadata": {},
   "source": [
    "#### Code 6.x"
   ]
  },
  {
   "cell_type": "code",
   "execution_count": null,
   "metadata": {
    "collapsed": true
   },
   "outputs": [],
   "source": []
  },
  {
   "cell_type": "markdown",
   "metadata": {},
   "source": [
    "#### Code 6.x"
   ]
  },
  {
   "cell_type": "code",
   "execution_count": null,
   "metadata": {
    "collapsed": true
   },
   "outputs": [],
   "source": []
  },
  {
   "cell_type": "markdown",
   "metadata": {},
   "source": [
    "#### Code 6.x"
   ]
  },
  {
   "cell_type": "code",
   "execution_count": null,
   "metadata": {
    "collapsed": true
   },
   "outputs": [],
   "source": []
  },
  {
   "cell_type": "markdown",
   "metadata": {},
   "source": [
    "#### Code 6.x"
   ]
  },
  {
   "cell_type": "code",
   "execution_count": null,
   "metadata": {
    "collapsed": true
   },
   "outputs": [],
   "source": []
  },
  {
   "cell_type": "code",
   "execution_count": null,
<<<<<<< HEAD
   "metadata": {},
=======
   "metadata": {
    "collapsed": true
   },
>>>>>>> 333171254aa00e9c53566517ad8a9b3385d429f0
   "outputs": [],
   "source": [
    "import sys, IPython, scipy, matplotlib, platform\n",
    "print(\"This notebook was createad on a computer %s running %s and using:\\nPython %s\\nIPython %s\\nPyMC3 %s\\nNumPy %s\\nPandas %s\\nSciPy %s\\nMatplotlib %s\\nSeaborn %s\\n\" % (platform.machine(), ' '.join(platform.linux_distribution()[:2]), sys.version[:5], IPython.__version__, pm.__version__, np.__version__, pd.__version__, scipy.__version__, matplotlib.__version__, sns.__version__))"
   ]
  }
 ],
 "metadata": {
  "anaconda-cloud": {},
  "kernelspec": {
   "display_name": "Python 3",
   "language": "python",
   "name": "python3"
  },
  "language_info": {
   "codemirror_mode": {
    "name": "ipython",
    "version": 3
   },
   "file_extension": ".py",
   "mimetype": "text/x-python",
   "name": "python",
   "nbconvert_exporter": "python",
   "pygments_lexer": "ipython3",
   "version": "3.5.2"
  }
 },
 "nbformat": 4,
 "nbformat_minor": 2
}
