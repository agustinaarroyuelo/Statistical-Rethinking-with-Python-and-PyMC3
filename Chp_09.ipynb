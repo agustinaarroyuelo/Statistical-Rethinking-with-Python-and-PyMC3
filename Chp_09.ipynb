{
 "cells": [
  {
   "cell_type": "code",
   "execution_count": 1,
   "metadata": {
    "collapsed": true
   },
   "outputs": [],
   "source": [
    "%matplotlib inline\n",
    "import pymc3 as pm\n",
    "import numpy as np\n",
    "import pandas as pd\n",
    "from scipy import stats\n",
    "import matplotlib.pyplot as plt\n",
    "plt.style.use(['seaborn-darkgrid', 'seaborn-colorblind'])"
   ]
  },
  {
   "cell_type": "markdown",
   "metadata": {},
   "source": [
    "#### Code 9.1"
   ]
  },
  {
   "cell_type": "code",
   "execution_count": 2,
   "metadata": {
    "collapsed": true
   },
   "outputs": [],
   "source": [
    "d = {'A':[0, 0, 10, 0, 0], 'B':[0, 1, 8, 1, 0], 'C':[0, 2, 6, 2, 0], 'D':[1, 2, 4, 2, 1], 'E':[2, 2, 2, 2, 2]}\n",
    "p = pd.DataFrame(data=d)"
   ]
  },
  {
   "cell_type": "markdown",
   "metadata": {},
   "source": [
    "#### Code 9.2"
   ]
  },
  {
   "cell_type": "code",
   "execution_count": 3,
   "metadata": {
    "collapsed": true
   },
   "outputs": [],
   "source": [
    "p_norm = p/p.sum(0)"
   ]
  },
  {
   "cell_type": "markdown",
   "metadata": {},
   "source": [
    "#### Code 9.3"
   ]
  },
  {
   "cell_type": "code",
   "execution_count": 4,
   "metadata": {},
   "outputs": [
    {
     "name": "stdout",
     "output_type": "stream",
     "text": [
      "A   -0.000000\n",
      "B    0.639032\n",
      "C    0.950271\n",
      "D    1.470808\n",
      "E    1.609438\n",
      "dtype: float64\n"
     ]
    }
   ],
   "source": [
    "def entropy(x):\n",
    "    y = []\n",
    "    for i in x:\n",
    "        if i == 0:\n",
    "            y.append(0)\n",
    "        else: \n",
    "            y.append(i*np.log(i))\n",
    "    h = -sum(y)\n",
    "    return h\n",
    "H = p_norm.apply(entropy, axis=0)\n",
    "print(H)"
   ]
  },
  {
   "cell_type": "markdown",
   "metadata": {},
   "source": [
    "#### Code 9.4"
   ]
  },
  {
   "cell_type": "code",
   "execution_count": 5,
   "metadata": {},
   "outputs": [
    {
     "data": {
      "image/png": "[encoded data removed]",
      "text/plain": [
       "<matplotlib.figure.Figure at 0x7fc8eb285da0>"
      ]
     },
     "metadata": {},
     "output_type": "display_data"
    }
   ],
   "source": [
    "ways = [1, 90, 1260, 37800, 113400]\n",
    "logwayspp = np.log(ways)/10\n",
    "plt.plot(logwayspp, H, 'o')\n",
    "plt.plot([0.0, max(logwayspp)], [0.0, max(H)],'--k')\n",
    "plt.ylabel('entropy', fontsize=14);\n",
    "plt.xlabel('log(ways) per pebble', fontsize=14)\n",
    "plt.show()"
   ]
  },
  {
   "cell_type": "markdown",
   "metadata": {},
   "source": [
    "#### Code 9.5"
   ]
  },
  {
   "cell_type": "code",
   "execution_count": 6,
   "metadata": {},
   "outputs": [
    {
     "name": "stdout",
     "output_type": "stream",
     "text": [
      "[1.0, 1.0, 1.0, 1.0]\n"
     ]
    }
   ],
   "source": [
    "# Build list of the candidate distributions.\n",
    "p = [[1/4, 1/4, 1/4, 1/4], [2/6, 1/6, 1/6, 2/6], [1/6, 2/6, 2/6, 1/6], [1/8, 4/8, 2/8, 1/8]]\n",
    "\n",
    "# Compute expected value of each. The sum of the multiplied entries is just a dot product.\n",
    "p_ev = [np.dot(i,[0, 1, 1, 2]) for i in p]\n",
    "print(p_ev)"
   ]
  },
  {
   "cell_type": "markdown",
   "metadata": {},
   "source": [
    "#### Code 9.6"
   ]
  },
  {
   "cell_type": "code",
   "execution_count": 7,
   "metadata": {},
   "outputs": [
    {
     "name": "stdout",
     "output_type": "stream",
     "text": [
      "[1.3862943611198906, 1.3296613488547582, 1.3296613488547582, 1.2130075659799042]\n"
     ]
    }
   ],
   "source": [
    "# Compute entropy of each distribution\n",
    "p_ent = [entropy(i) for i in p]\n",
    "print(p_ent)"
   ]
  },
  {
   "cell_type": "markdown",
   "metadata": {},
   "source": [
    "#### Code 9.7"
   ]
  },
  {
   "cell_type": "code",
   "execution_count": 8,
   "metadata": {},
   "outputs": [
    {
     "name": "stdout",
     "output_type": "stream",
     "text": [
      "[0.09000000000000002, 0.21000000000000002, 0.21000000000000002, 0.48999999999999994]\n"
     ]
    }
   ],
   "source": [
    "p = 0.7\n",
    "A = [(1-p)**2, p*(1-p), (1-p)*p, p**2]\n",
    "print(A)"
   ]
  },
  {
   "cell_type": "markdown",
   "metadata": {},
   "source": [
    "#### Code 9.8"
   ]
  },
  {
   "cell_type": "code",
   "execution_count": 9,
   "metadata": {},
   "outputs": [
    {
     "data": {
      "text/plain": [
       "1.221728604109787"
      ]
     },
     "execution_count": 9,
     "metadata": {},
     "output_type": "execute_result"
    }
   ],
   "source": [
    "-np.sum(A*np.log(A))"
   ]
  },
  {
   "cell_type": "markdown",
   "metadata": {},
   "source": [
    "#### Code 9.9"
   ]
  },
  {
   "cell_type": "code",
   "execution_count": 10,
   "metadata": {
    "collapsed": true
   },
   "outputs": [],
   "source": [
    "def sim_p(G=1.4):\n",
    "    x123 = np.random.uniform(size=3)\n",
    "    x4 = (G * np.sum(x123) - x123[1] - x123[2]) / (2 - G)\n",
    "    x1234 = np.concatenate((x123, [x4]))\n",
    "    z = np.sum(x1234)\n",
    "    p = x1234 / z\n",
    "    return - np.sum(p * np.log(p)), p"
   ]
  },
  {
   "cell_type": "markdown",
   "metadata": {},
   "source": [
    "#### Code 9.10"
   ]
  },
  {
   "cell_type": "code",
   "execution_count": 11,
   "metadata": {},
   "outputs": [],
   "source": [
    "H = []\n",
    "p = np.zeros((10**5, 4))\n",
    "for rep in range(10**5):\n",
    "    h, p_ = sim_p()\n",
    "    H.append(h)\n",
    "    p[rep] = p_"
   ]
  },
  {
   "cell_type": "code",
   "execution_count": 12,
   "metadata": {},
   "outputs": [
    {
     "data": {
      "image/png": "[encoded data removed]",
      "text/plain": [
       "<matplotlib.figure.Figure at 0x7fc8eb20c908>"
      ]
     },
     "metadata": {},
     "output_type": "display_data"
    }
   ],
   "source": [
    "pm.kdeplot(H)\n",
    "plt.xlabel('Entropy', fontsize=14)\n",
    "plt.ylabel('Density', fontsize=14);"
   ]
  },
  {
   "cell_type": "markdown",
   "metadata": {},
   "source": [
    "#### Code 9.12"
   ]
  },
  {
   "cell_type": "code",
   "execution_count": 13,
   "metadata": {},
   "outputs": [
    {
     "data": {
      "text/plain": [
       "1.2217274607942563"
      ]
     },
     "execution_count": 13,
     "metadata": {},
     "output_type": "execute_result"
    }
   ],
   "source": [
    "np.max(H)"
   ]
  },
  {
   "cell_type": "markdown",
   "metadata": {},
   "source": [
    "#### Code 9.13"
   ]
  },
  {
   "cell_type": "code",
   "execution_count": 14,
   "metadata": {},
   "outputs": [
    {
     "data": {
      "text/plain": [
       "array([ 0.09029136,  0.20990356,  0.20951372,  0.49029136])"
      ]
     },
     "execution_count": 14,
     "metadata": {},
     "output_type": "execute_result"
    }
   ],
   "source": [
    "p[np.argmax(H)]"
   ]
  },
  {
   "cell_type": "code",
   "execution_count": 15,
   "metadata": {},
   "outputs": [
    {
     "name": "stdout",
     "output_type": "stream",
     "text": [
      "This notebook was createad on a computer x86_64 running debian stretch/sid and using:\n",
      "Python 3.5.4\n",
      "IPython 4.1.2\n",
      "PyMC3 3.2\n",
      "NumPy 1.13.3\n",
      "Pandas 0.20.3\n",
      "SciPy 0.19.1\n",
      "Matplotlib 2.0.2\n",
      "\n"
     ]
    }
   ],
   "source": [
    "import sys, IPython, scipy, matplotlib, platform\n",
    "print(\"This notebook was createad on a computer %s running %s and using:\\nPython %s\\nIPython %s\\nPyMC3 %s\\nNumPy %s\\nPandas %s\\nSciPy %s\\nMatplotlib %s\\n\" % (platform.machine(), ' '.join(platform.linux_distribution()[:2]), sys.version[:5], IPython.__version__, pm.__version__, np.__version__, pd.__version__, scipy.__version__, matplotlib.__version__))"
   ]
  }
 ],
 "metadata": {
  "anaconda-cloud": {},
  "kernelspec": {
   "display_name": "Python 3",
   "language": "python",
   "name": "python3"
  },
  "language_info": {
   "codemirror_mode": {
    "name": "ipython",
    "version": 3
   },
   "file_extension": ".py",
   "mimetype": "text/x-python",
   "name": "python",
   "nbconvert_exporter": "python",
   "pygments_lexer": "ipython3",
   "version": "3.5.4"
  }
 },
 "nbformat": 4,
 "nbformat_minor": 2
}
