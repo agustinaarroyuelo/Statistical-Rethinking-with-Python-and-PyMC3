{
 "cells": [
  {
   "cell_type": "code",
   "execution_count": 1,
   "metadata": {
    "collapsed": true
   },
   "outputs": [],
   "source": [
    "%matplotlib inline\n",
    "import pymc3 as pm\n",
    "import numpy as np\n",
    "import pandas as pd\n",
    "from scipy import stats\n",
    "from scipy.special import expit as logistic\n",
    "import matplotlib.pyplot as plt\n",
    "plt.style.use(['seaborn-colorblind', 'seaborn-darkgrid'])"
   ]
  },
  {
   "cell_type": "markdown",
   "metadata": {},
   "source": [
    "#### Code 10.1"
   ]
  },
  {
   "cell_type": "code",
   "execution_count": 2,
   "metadata": {
    "collapsed": true
   },
   "outputs": [],
   "source": [
    "d = pd.read_csv('Data/chimpanzees.csv', sep=\";\")\n",
    "# we change \"actor\" to zero-index\n",
    "d.actor = d.actor - 1"
   ]
  },
  {
   "cell_type": "markdown",
   "metadata": {},
   "source": [
    "#### Code 10.2"
   ]
  },
  {
   "cell_type": "code",
   "execution_count": 3,
   "metadata": {},
   "outputs": [
    {
     "name": "stderr",
     "output_type": "stream",
     "text": [
      "100%|██████████| 2500/2500 [00:30<00:00, 81.41it/s]\n"
     ]
    }
   ],
   "source": [
    "with pm.Model() as model_10_1:\n",
    "    a = pm.Normal('a', 0, 10)\n",
    "    bp = pm.Normal('bp', 0, 10)\n",
    "    p = pm.math.invlogit(a)    \n",
    "    pulled_left = pm.Binomial('pulled_left', 1, p, observed=d.pulled_left)\n",
    "\n",
    "    trace_10_1 = pm.sample(2000)"
   ]
  },
  {
   "cell_type": "code",
   "execution_count": 4,
   "metadata": {},
   "outputs": [
    {
     "data": {
      "text/html": [
       "<div>\n",
       "<style>\n",
       "    .dataframe thead tr:only-child th {\n",
       "        text-align: right;\n",
       "    }\n",
       "\n",
       "    .dataframe thead th {\n",
       "        text-align: left;\n",
       "    }\n",
       "\n",
       "    .dataframe tbody tr th {\n",
       "        vertical-align: top;\n",
       "    }\n",
       "</style>\n",
       "<table border=\"1\" class=\"dataframe\">\n",
       "  <thead>\n",
       "    <tr style=\"text-align: right;\">\n",
       "      <th></th>\n",
       "      <th>mean</th>\n",
       "      <th>sd</th>\n",
       "      <th>mc_error</th>\n",
       "      <th>hpd_5.5</th>\n",
       "      <th>hpd_94.5</th>\n",
       "    </tr>\n",
       "  </thead>\n",
       "  <tbody>\n",
       "    <tr>\n",
       "      <th>a</th>\n",
       "      <td>0.32</td>\n",
       "      <td>0.09</td>\n",
       "      <td>0.00</td>\n",
       "      <td>0.18</td>\n",
       "      <td>0.46</td>\n",
       "    </tr>\n",
       "    <tr>\n",
       "      <th>bp</th>\n",
       "      <td>-0.34</td>\n",
       "      <td>10.12</td>\n",
       "      <td>0.15</td>\n",
       "      <td>-15.80</td>\n",
       "      <td>16.13</td>\n",
       "    </tr>\n",
       "  </tbody>\n",
       "</table>\n",
       "</div>"
      ],
      "text/plain": [
       "    mean     sd  mc_error  hpd_5.5  hpd_94.5\n",
       "a   0.32   0.09      0.00     0.18      0.46\n",
       "bp -0.34  10.12      0.15   -15.80     16.13"
      ]
     },
     "execution_count": 4,
     "metadata": {},
     "output_type": "execute_result"
    }
   ],
   "source": [
    "df_10_1 = pm.df_summary(trace_10_1, alpha=0.11)\n",
    "df_10_1.round(2)"
   ]
  },
  {
   "cell_type": "markdown",
   "metadata": {},
   "source": [
    "#### Code 10.3"
   ]
  },
  {
   "cell_type": "code",
   "execution_count": 5,
   "metadata": {},
   "outputs": [
    {
     "data": {
      "text/html": [
       "<div>\n",
       "<style>\n",
       "    .dataframe thead tr:only-child th {\n",
       "        text-align: right;\n",
       "    }\n",
       "\n",
       "    .dataframe thead th {\n",
       "        text-align: left;\n",
       "    }\n",
       "\n",
       "    .dataframe tbody tr th {\n",
       "        vertical-align: top;\n",
       "    }\n",
       "</style>\n",
       "<table border=\"1\" class=\"dataframe\">\n",
       "  <thead>\n",
       "    <tr style=\"text-align: right;\">\n",
       "      <th></th>\n",
       "      <th>hpd_5.5</th>\n",
       "      <th>hpd_94.5</th>\n",
       "    </tr>\n",
       "  </thead>\n",
       "  <tbody>\n",
       "    <tr>\n",
       "      <th>a</th>\n",
       "      <td>0.54</td>\n",
       "      <td>0.61</td>\n",
       "    </tr>\n",
       "    <tr>\n",
       "      <th>bp</th>\n",
       "      <td>0.00</td>\n",
       "      <td>1.00</td>\n",
       "    </tr>\n",
       "  </tbody>\n",
       "</table>\n",
       "</div>"
      ],
      "text/plain": [
       "    hpd_5.5  hpd_94.5\n",
       "a      0.54      0.61\n",
       "bp     0.00      1.00"
      ]
     },
     "execution_count": 5,
     "metadata": {},
     "output_type": "execute_result"
    }
   ],
   "source": [
    "logistic(df_10_1.iloc[:,-2:]).round(2)"
   ]
  },
  {
   "cell_type": "markdown",
   "metadata": {},
   "source": [
    "#### Code 10.4"
   ]
  },
  {
   "cell_type": "code",
   "execution_count": 6,
   "metadata": {},
   "outputs": [
    {
     "name": "stderr",
     "output_type": "stream",
     "text": [
      "100%|██████████| 2500/2500 [00:53<00:00, 46.93it/s]\n",
      "100%|██████████| 2500/2500 [01:14<00:00, 33.68it/s]\n"
     ]
    }
   ],
   "source": [
    "with pm.Model() as model_10_2:\n",
    "    a = pm.Normal('a', 0, 10)\n",
    "    bp = pm.Normal('bp', 0, 10)\n",
    "    p = pm.math.invlogit(a + bp * d.prosoc_left)\n",
    "    pulled_left = pm.Binomial('pulled_left', 1, p, observed=d.pulled_left)\n",
    "\n",
    "    trace_10_2 = pm.sample(2000)\n",
    "\n",
    "with pm.Model() as model_10_3:\n",
    "    a = pm.Normal('a', 0, 10)\n",
    "    bp = pm.Normal('bp', 0, 10)\n",
    "    bpC = pm.Normal('bpC', 0, 10)\n",
    "    p = pm.math.invlogit(a + (bp + bpC * d.condition) * d.prosoc_left)\n",
    "    pulled_left = pm.Binomial('pulled_left', 1, p, observed=d.pulled_left)\n",
    "\n",
    "    trace_10_3 = pm.sample(2000)"
   ]
  },
  {
   "cell_type": "markdown",
   "metadata": {},
   "source": [
    "#### Code 10.5"
   ]
  },
  {
   "cell_type": "code",
   "execution_count": 7,
   "metadata": {},
   "outputs": [
    {
     "data": {
      "text/html": [
       "<div>\n",
       "<style>\n",
       "    .dataframe thead tr:only-child th {\n",
       "        text-align: right;\n",
       "    }\n",
       "\n",
       "    .dataframe thead th {\n",
       "        text-align: left;\n",
       "    }\n",
       "\n",
       "    .dataframe tbody tr th {\n",
       "        vertical-align: top;\n",
       "    }\n",
       "</style>\n",
       "<table border=\"1\" class=\"dataframe\">\n",
       "  <thead>\n",
       "    <tr style=\"text-align: right;\">\n",
       "      <th></th>\n",
       "      <th>WAIC</th>\n",
       "      <th>pWAIC</th>\n",
       "      <th>dWAIC</th>\n",
       "      <th>weight</th>\n",
       "      <th>SE</th>\n",
       "      <th>dSE</th>\n",
       "      <th>warning</th>\n",
       "    </tr>\n",
       "  </thead>\n",
       "  <tbody>\n",
       "    <tr>\n",
       "      <th>1</th>\n",
       "      <td>680.53</td>\n",
       "      <td>2.02</td>\n",
       "      <td>0</td>\n",
       "      <td>0.7</td>\n",
       "      <td>9.41</td>\n",
       "      <td>0</td>\n",
       "      <td>0</td>\n",
       "    </tr>\n",
       "    <tr>\n",
       "      <th>2</th>\n",
       "      <td>682.34</td>\n",
       "      <td>3</td>\n",
       "      <td>1.8</td>\n",
       "      <td>0.28</td>\n",
       "      <td>9.39</td>\n",
       "      <td>0.83</td>\n",
       "      <td>0</td>\n",
       "    </tr>\n",
       "    <tr>\n",
       "      <th>0</th>\n",
       "      <td>687.88</td>\n",
       "      <td>0.97</td>\n",
       "      <td>7.35</td>\n",
       "      <td>0.02</td>\n",
       "      <td>7.15</td>\n",
       "      <td>6.24</td>\n",
       "      <td>0</td>\n",
       "    </tr>\n",
       "  </tbody>\n",
       "</table>\n",
       "</div>"
      ],
      "text/plain": [
       "     WAIC pWAIC dWAIC weight    SE   dSE warning\n",
       "1  680.53  2.02     0    0.7  9.41     0       0\n",
       "2  682.34     3   1.8   0.28  9.39  0.83       0\n",
       "0  687.88  0.97  7.35   0.02  7.15  6.24       0"
      ]
     },
     "execution_count": 7,
     "metadata": {},
     "output_type": "execute_result"
    }
   ],
   "source": [
    "comp_df = pm.compare(traces=[trace_10_1, trace_10_2, trace_10_3],\n",
    "                     models=[model_10_1, model_10_2, model_10_3],\n",
    "                     method='pseudo-BMA')\n",
    "comp_df.round(2)"
   ]
  },
  {
   "cell_type": "code",
   "execution_count": 8,
   "metadata": {},
   "outputs": [
    {
     "data": {
      "image/png": "[encoded data removed]",
      "text/plain": [
       "<matplotlib.figure.Figure at 0x7f3dbd6f9f98>"
      ]
     },
     "metadata": {},
     "output_type": "display_data"
    }
   ],
   "source": [
    "pm.compareplot(comp_df);"
   ]
  },
  {
   "cell_type": "markdown",
   "metadata": {},
   "source": [
    "#### Code 10.6"
   ]
  },
  {
   "cell_type": "code",
   "execution_count": 9,
   "metadata": {},
   "outputs": [
    {
     "data": {
      "text/html": [
       "<div>\n",
       "<style>\n",
       "    .dataframe thead tr:only-child th {\n",
       "        text-align: right;\n",
       "    }\n",
       "\n",
       "    .dataframe thead th {\n",
       "        text-align: left;\n",
       "    }\n",
       "\n",
       "    .dataframe tbody tr th {\n",
       "        vertical-align: top;\n",
       "    }\n",
       "</style>\n",
       "<table border=\"1\" class=\"dataframe\">\n",
       "  <thead>\n",
       "    <tr style=\"text-align: right;\">\n",
       "      <th></th>\n",
       "      <th>mean</th>\n",
       "      <th>sd</th>\n",
       "      <th>mc_error</th>\n",
       "      <th>hpd_2.5</th>\n",
       "      <th>hpd_97.5</th>\n",
       "    </tr>\n",
       "  </thead>\n",
       "  <tbody>\n",
       "    <tr>\n",
       "      <th>a</th>\n",
       "      <td>0.05</td>\n",
       "      <td>0.13</td>\n",
       "      <td>0.00</td>\n",
       "      <td>-0.19</td>\n",
       "      <td>0.31</td>\n",
       "    </tr>\n",
       "    <tr>\n",
       "      <th>bp</th>\n",
       "      <td>0.61</td>\n",
       "      <td>0.22</td>\n",
       "      <td>0.01</td>\n",
       "      <td>0.18</td>\n",
       "      <td>1.05</td>\n",
       "    </tr>\n",
       "    <tr>\n",
       "      <th>bpC</th>\n",
       "      <td>-0.11</td>\n",
       "      <td>0.27</td>\n",
       "      <td>0.01</td>\n",
       "      <td>-0.62</td>\n",
       "      <td>0.39</td>\n",
       "    </tr>\n",
       "  </tbody>\n",
       "</table>\n",
       "</div>"
      ],
      "text/plain": [
       "     mean    sd  mc_error  hpd_2.5  hpd_97.5\n",
       "a    0.05  0.13      0.00    -0.19      0.31\n",
       "bp   0.61  0.22      0.01     0.18      1.05\n",
       "bpC -0.11  0.27      0.01    -0.62      0.39"
      ]
     },
     "execution_count": 9,
     "metadata": {},
     "output_type": "execute_result"
    }
   ],
   "source": [
    "pm.df_summary(trace_10_3).round(2)"
   ]
  },
  {
   "cell_type": "markdown",
   "metadata": {},
   "source": [
    "#### Code 10.7"
   ]
  },
  {
   "cell_type": "code",
   "execution_count": 10,
   "metadata": {},
   "outputs": [
    {
     "data": {
      "text/plain": [
       "1.8404313987816374"
      ]
     },
     "execution_count": 10,
     "metadata": {},
     "output_type": "execute_result"
    }
   ],
   "source": [
    "np.exp(0.61)"
   ]
  },
  {
   "cell_type": "markdown",
   "metadata": {},
   "source": [
    "#### Code 10.8"
   ]
  },
  {
   "cell_type": "code",
   "execution_count": 11,
   "metadata": {},
   "outputs": [
    {
     "data": {
      "text/plain": [
       "0.98201379003790845"
      ]
     },
     "execution_count": 11,
     "metadata": {},
     "output_type": "execute_result"
    }
   ],
   "source": [
    "logistic(4)"
   ]
  },
  {
   "cell_type": "markdown",
   "metadata": {},
   "source": [
    "#### Code 10.9"
   ]
  },
  {
   "cell_type": "code",
   "execution_count": 12,
   "metadata": {},
   "outputs": [
    {
     "data": {
      "text/plain": [
       "0.99014624447676869"
      ]
     },
     "execution_count": 12,
     "metadata": {},
     "output_type": "execute_result"
    }
   ],
   "source": [
    "logistic(4 + 0.61)"
   ]
  },
  {
   "cell_type": "markdown",
   "metadata": {},
   "source": [
    "#### Code 10.10 and 10.11"
   ]
  },
  {
   "cell_type": "code",
   "execution_count": 13,
   "metadata": {},
   "outputs": [
    {
     "name": "stderr",
     "output_type": "stream",
     "text": [
      "100%|██████████| 1000/1000 [00:04<00:00, 227.96it/s]\n"
     ]
    }
   ],
   "source": [
    "d_pred = pd.DataFrame({'prosoc_left' : [0, 1, 0, 1], 'condition' : [0, 0, 1, 1]})\n",
    "traces = [trace_10_1, trace_10_2, trace_10_3]\n",
    "models = [model_10_1, model_10_2, model_10_3]\n",
    "\n",
    "\n",
    "chimp_ensemble = pm.sample_ppc_w(traces=traces, models=models, samples=1000, \n",
    "                                 weights=comp_df.weight.sort_index(ascending=True))"
   ]
  },
  {
   "cell_type": "code",
   "execution_count": 82,
   "metadata": {},
   "outputs": [
    {
     "ename": "IndexError",
     "evalue": "too many indices for array",
     "output_type": "error",
     "traceback": [
      "\u001b[1;31m---------------------------------------------------------------------------\u001b[0m",
      "\u001b[1;31mIndexError\u001b[0m                                Traceback (most recent call last)",
      "\u001b[1;32m<ipython-input-82-568e66c5806d>\u001b[0m in \u001b[0;36m<module>\u001b[1;34m()\u001b[0m\n\u001b[0;32m      7\u001b[0m     \u001b[1;32mfor\u001b[0m \u001b[0mcp\u001b[0m \u001b[1;32min\u001b[0m \u001b[0mcond\u001b[0m\u001b[1;33m:\u001b[0m\u001b[1;33m\u001b[0m\u001b[0m\n\u001b[0;32m      8\u001b[0m         \u001b[1;32mfor\u001b[0m \u001b[0mpl\u001b[0m \u001b[1;32min\u001b[0m \u001b[0mprosoc_l\u001b[0m\u001b[1;33m:\u001b[0m\u001b[1;33m\u001b[0m\u001b[0m\n\u001b[1;32m----> 9\u001b[1;33m             \u001b[0mtmp\u001b[0m\u001b[1;33m.\u001b[0m\u001b[0mappend\u001b[0m\u001b[1;33m(\u001b[0m\u001b[0mnp\u001b[0m\u001b[1;33m.\u001b[0m\u001b[0mmean\u001b[0m\u001b[1;33m(\u001b[0m\u001b[0mrt\u001b[0m\u001b[1;33m[\u001b[0m\u001b[0mi\u001b[0m\u001b[1;33m]\u001b[0m\u001b[1;33m[\u001b[0m\u001b[1;33m(\u001b[0m\u001b[0md\u001b[0m\u001b[1;33m.\u001b[0m\u001b[0mprosoc_left\u001b[0m\u001b[1;33m==\u001b[0m\u001b[0mpl\u001b[0m\u001b[1;33m)\u001b[0m \u001b[1;33m&\u001b[0m \u001b[1;33m(\u001b[0m\u001b[0md\u001b[0m\u001b[1;33m.\u001b[0m\u001b[0mchose_prosoc\u001b[0m\u001b[1;33m==\u001b[0m\u001b[0mcp\u001b[0m\u001b[1;33m)\u001b[0m\u001b[1;33m]\u001b[0m\u001b[1;33m)\u001b[0m\u001b[1;33m)\u001b[0m\u001b[1;33m\u001b[0m\u001b[0m\n\u001b[0m\u001b[0;32m     10\u001b[0m     \u001b[0mpred_mean\u001b[0m\u001b[1;33m[\u001b[0m\u001b[0mi\u001b[0m\u001b[1;33m]\u001b[0m \u001b[1;33m=\u001b[0m \u001b[0mtmp\u001b[0m\u001b[1;33m\u001b[0m\u001b[0m\n\u001b[0;32m     11\u001b[0m \u001b[1;33m\u001b[0m\u001b[0m\n",
      "\u001b[1;31mIndexError\u001b[0m: too many indices for array"
     ]
    }
   ],
   "source": [
    "rt = chimp_ensemble['pulled_left']\n",
    "pred_mean = np.zeros((1000, 4))\n",
    "cond = d.condition.unique()\n",
    "prosoc_l = d.prosoc_left.unique()\n",
    "for i in range(len(rt)):\n",
    "    tmp = []\n",
    "    for cp in cond:\n",
    "        for pl in prosoc_l:\n",
    "            tmp.append(np.mean(rt[i][(d.prosoc_left==pl) & (d.chose_prosoc==cp)]))\n",
    "    pred_mean[i] = tmp\n",
    "    \n",
    "ticks = range(4)\n",
    "mp = pred_mean.mean(0)\n",
    "hpd = pm.hpd(pred_mean)\n",
    "plt.fill_between(ticks, hpd[:,1], hpd[:,0], alpha=0.25, color='k')\n",
    "plt.plot(mp, color='k')\n",
    "plt.xticks(ticks, (\"0/0\",\"1/0\",\"0/1\",\"1/1\"))\n",
    "chimps = d.groupby(['actor', 'prosoc_left', 'condition']).agg('mean')['pulled_left'].values.reshape(7, -1)\n",
    "for i in range(7):\n",
    "    plt.plot(chimps[i], 'C0')\n",
    "\n",
    "plt.ylim(0, 1.1);"
   ]
  },
  {
   "cell_type": "markdown",
   "metadata": {},
   "source": [
    "#### Code 10.12 & 10.13\n",
    "This is the same as 10.6, but in the book using MCMC rather than quadratic approximation."
   ]
  },
  {
   "cell_type": "markdown",
   "metadata": {},
   "source": [
    "#### Code 10.14"
   ]
  },
  {
   "cell_type": "code",
   "execution_count": 18,
   "metadata": {},
   "outputs": [
    {
     "name": "stderr",
     "output_type": "stream",
     "text": [
      " 78%|███████▊  | 1943/2500 [03:36<01:02,  8.97it/s]/home/agustina/anaconda3/lib/python3.5/site-packages/pymc3-3.2-py3.5.egg/pymc3/step_methods/hmc/nuts.py:467: UserWarning: Chain 1 contains 10 diverging samples after tuning. If increasing `target_accept` does not help try to reparameterize.\n",
      "  % (self._chain_id, n_diverging))\n",
      "100%|██████████| 2500/2500 [04:10<00:00,  9.97it/s]\n"
     ]
    }
   ],
   "source": [
    "with pm.Model() as model_10_4:\n",
    "    a = pm.Normal('alpha', 0, 10, shape=len(d.actor.unique()))\n",
    "    bp = pm.Normal('bp', 0, 10)\n",
    "    bpC = pm.Normal('bpC', 0, 10)\n",
    "    p = pm.math.invlogit(a[d.actor.values] + (bp + bpC * d.condition) * d.prosoc_left)\n",
    "    pulled_left = pm.Binomial('pulled_left', 1, p, observed=d.pulled_left)\n",
    "\n",
    "    trace_10_4 = pm.sample(2000)"
   ]
  },
  {
   "cell_type": "markdown",
   "metadata": {},
   "source": [
    "#### Code 10.15"
   ]
  },
  {
   "cell_type": "code",
   "execution_count": 19,
   "metadata": {},
   "outputs": [
    {
     "data": {
      "text/plain": [
       "array([0, 1, 2, 3, 4, 5, 6])"
      ]
     },
     "execution_count": 19,
     "metadata": {},
     "output_type": "execute_result"
    }
   ],
   "source": [
    "# remember we use a zero-index\n",
    "d['actor'].unique()"
   ]
  },
  {
   "cell_type": "markdown",
   "metadata": {},
   "source": [
    "#### Code 10.16"
   ]
  },
  {
   "cell_type": "code",
   "execution_count": 20,
   "metadata": {},
   "outputs": [
    {
     "data": {
      "text/html": [
       "<div>\n",
       "<style>\n",
       "    .dataframe thead tr:only-child th {\n",
       "        text-align: right;\n",
       "    }\n",
       "\n",
       "    .dataframe thead th {\n",
       "        text-align: left;\n",
       "    }\n",
       "\n",
       "    .dataframe tbody tr th {\n",
       "        vertical-align: top;\n",
       "    }\n",
       "</style>\n",
       "<table border=\"1\" class=\"dataframe\">\n",
       "  <thead>\n",
       "    <tr style=\"text-align: right;\">\n",
       "      <th></th>\n",
       "      <th>mean</th>\n",
       "      <th>sd</th>\n",
       "      <th>mc_error</th>\n",
       "      <th>hpd_5.5</th>\n",
       "      <th>hpd_94.5</th>\n",
       "    </tr>\n",
       "  </thead>\n",
       "  <tbody>\n",
       "    <tr>\n",
       "      <th>alpha__0</th>\n",
       "      <td>-0.75</td>\n",
       "      <td>0.27</td>\n",
       "      <td>0.00</td>\n",
       "      <td>-1.20</td>\n",
       "      <td>-0.34</td>\n",
       "    </tr>\n",
       "    <tr>\n",
       "      <th>alpha__1</th>\n",
       "      <td>11.24</td>\n",
       "      <td>5.58</td>\n",
       "      <td>0.14</td>\n",
       "      <td>3.27</td>\n",
       "      <td>18.75</td>\n",
       "    </tr>\n",
       "    <tr>\n",
       "      <th>alpha__2</th>\n",
       "      <td>-1.06</td>\n",
       "      <td>0.28</td>\n",
       "      <td>0.00</td>\n",
       "      <td>-1.53</td>\n",
       "      <td>-0.64</td>\n",
       "    </tr>\n",
       "    <tr>\n",
       "      <th>alpha__3</th>\n",
       "      <td>-1.06</td>\n",
       "      <td>0.28</td>\n",
       "      <td>0.01</td>\n",
       "      <td>-1.48</td>\n",
       "      <td>-0.59</td>\n",
       "    </tr>\n",
       "    <tr>\n",
       "      <th>alpha__4</th>\n",
       "      <td>-0.75</td>\n",
       "      <td>0.27</td>\n",
       "      <td>0.01</td>\n",
       "      <td>-1.16</td>\n",
       "      <td>-0.30</td>\n",
       "    </tr>\n",
       "    <tr>\n",
       "      <th>alpha__5</th>\n",
       "      <td>0.21</td>\n",
       "      <td>0.27</td>\n",
       "      <td>0.00</td>\n",
       "      <td>-0.23</td>\n",
       "      <td>0.63</td>\n",
       "    </tr>\n",
       "    <tr>\n",
       "      <th>alpha__6</th>\n",
       "      <td>1.82</td>\n",
       "      <td>0.38</td>\n",
       "      <td>0.01</td>\n",
       "      <td>1.21</td>\n",
       "      <td>2.42</td>\n",
       "    </tr>\n",
       "    <tr>\n",
       "      <th>bp</th>\n",
       "      <td>0.84</td>\n",
       "      <td>0.26</td>\n",
       "      <td>0.01</td>\n",
       "      <td>0.44</td>\n",
       "      <td>1.26</td>\n",
       "    </tr>\n",
       "    <tr>\n",
       "      <th>bpC</th>\n",
       "      <td>-0.14</td>\n",
       "      <td>0.30</td>\n",
       "      <td>0.01</td>\n",
       "      <td>-0.61</td>\n",
       "      <td>0.35</td>\n",
       "    </tr>\n",
       "  </tbody>\n",
       "</table>\n",
       "</div>"
      ],
      "text/plain": [
       "           mean    sd  mc_error  hpd_5.5  hpd_94.5\n",
       "alpha__0  -0.75  0.27      0.00    -1.20     -0.34\n",
       "alpha__1  11.24  5.58      0.14     3.27     18.75\n",
       "alpha__2  -1.06  0.28      0.00    -1.53     -0.64\n",
       "alpha__3  -1.06  0.28      0.01    -1.48     -0.59\n",
       "alpha__4  -0.75  0.27      0.01    -1.16     -0.30\n",
       "alpha__5   0.21  0.27      0.00    -0.23      0.63\n",
       "alpha__6   1.82  0.38      0.01     1.21      2.42\n",
       "bp         0.84  0.26      0.01     0.44      1.26\n",
       "bpC       -0.14  0.30      0.01    -0.61      0.35"
      ]
     },
     "execution_count": 20,
     "metadata": {},
     "output_type": "execute_result"
    }
   ],
   "source": [
    "pm.df_summary(trace_10_4, alpha=0.11).round(2)"
   ]
  },
  {
   "cell_type": "markdown",
   "metadata": {},
   "source": [
    "#### Code 10.17"
   ]
  },
  {
   "cell_type": "code",
   "execution_count": 21,
   "metadata": {},
   "outputs": [
    {
     "data": {
      "text/html": [
       "<div>\n",
       "<style>\n",
       "    .dataframe thead tr:only-child th {\n",
       "        text-align: right;\n",
       "    }\n",
       "\n",
       "    .dataframe thead th {\n",
       "        text-align: left;\n",
       "    }\n",
       "\n",
       "    .dataframe tbody tr th {\n",
       "        vertical-align: top;\n",
       "    }\n",
       "</style>\n",
       "<table border=\"1\" class=\"dataframe\">\n",
       "  <thead>\n",
       "    <tr style=\"text-align: right;\">\n",
       "      <th></th>\n",
       "      <th>bp</th>\n",
       "      <th>bpC</th>\n",
       "      <th>alpha__0</th>\n",
       "      <th>alpha__1</th>\n",
       "      <th>alpha__2</th>\n",
       "      <th>alpha__3</th>\n",
       "      <th>alpha__4</th>\n",
       "      <th>alpha__5</th>\n",
       "      <th>alpha__6</th>\n",
       "    </tr>\n",
       "  </thead>\n",
       "  <tbody>\n",
       "    <tr>\n",
       "      <th>0</th>\n",
       "      <td>0.858356</td>\n",
       "      <td>0.020622</td>\n",
       "      <td>-0.627092</td>\n",
       "      <td>11.767471</td>\n",
       "      <td>-1.219927</td>\n",
       "      <td>-1.084652</td>\n",
       "      <td>-0.810191</td>\n",
       "      <td>0.479901</td>\n",
       "      <td>2.179455</td>\n",
       "    </tr>\n",
       "    <tr>\n",
       "      <th>1</th>\n",
       "      <td>0.810698</td>\n",
       "      <td>-0.272230</td>\n",
       "      <td>-0.822731</td>\n",
       "      <td>17.964828</td>\n",
       "      <td>-1.321517</td>\n",
       "      <td>-0.965018</td>\n",
       "      <td>-0.880570</td>\n",
       "      <td>0.529529</td>\n",
       "      <td>2.408210</td>\n",
       "    </tr>\n",
       "    <tr>\n",
       "      <th>2</th>\n",
       "      <td>0.768482</td>\n",
       "      <td>-0.286192</td>\n",
       "      <td>-0.739695</td>\n",
       "      <td>18.745527</td>\n",
       "      <td>-1.370155</td>\n",
       "      <td>-1.152026</td>\n",
       "      <td>-0.752067</td>\n",
       "      <td>0.499289</td>\n",
       "      <td>2.564550</td>\n",
       "    </tr>\n",
       "    <tr>\n",
       "      <th>3</th>\n",
       "      <td>0.927384</td>\n",
       "      <td>-0.178712</td>\n",
       "      <td>-0.736614</td>\n",
       "      <td>23.973036</td>\n",
       "      <td>-1.108530</td>\n",
       "      <td>-1.312878</td>\n",
       "      <td>-0.694916</td>\n",
       "      <td>0.559086</td>\n",
       "      <td>1.711767</td>\n",
       "    </tr>\n",
       "    <tr>\n",
       "      <th>4</th>\n",
       "      <td>0.898291</td>\n",
       "      <td>-0.244631</td>\n",
       "      <td>-0.792693</td>\n",
       "      <td>25.681210</td>\n",
       "      <td>-1.042947</td>\n",
       "      <td>-1.425626</td>\n",
       "      <td>-0.531843</td>\n",
       "      <td>0.326976</td>\n",
       "      <td>1.990875</td>\n",
       "    </tr>\n",
       "  </tbody>\n",
       "</table>\n",
       "</div>"
      ],
      "text/plain": [
       "         bp       bpC  alpha__0   alpha__1  alpha__2  alpha__3  alpha__4  \\\n",
       "0  0.858356  0.020622 -0.627092  11.767471 -1.219927 -1.084652 -0.810191   \n",
       "1  0.810698 -0.272230 -0.822731  17.964828 -1.321517 -0.965018 -0.880570   \n",
       "2  0.768482 -0.286192 -0.739695  18.745527 -1.370155 -1.152026 -0.752067   \n",
       "3  0.927384 -0.178712 -0.736614  23.973036 -1.108530 -1.312878 -0.694916   \n",
       "4  0.898291 -0.244631 -0.792693  25.681210 -1.042947 -1.425626 -0.531843   \n",
       "\n",
       "   alpha__5  alpha__6  \n",
       "0  0.479901  2.179455  \n",
       "1  0.529529  2.408210  \n",
       "2  0.499289  2.564550  \n",
       "3  0.559086  1.711767  \n",
       "4  0.326976  1.990875  "
      ]
     },
     "execution_count": 21,
     "metadata": {},
     "output_type": "execute_result"
    }
   ],
   "source": [
    "post = pm.trace_to_dataframe(trace_10_4)\n",
    "post.head()"
   ]
  },
  {
   "cell_type": "markdown",
   "metadata": {},
   "source": [
    "#### Code 10.18"
   ]
  },
  {
   "cell_type": "code",
   "execution_count": 22,
   "metadata": {},
   "outputs": [
    {
     "data": {
      "image/png": "[encoded data removed]",
      "text/plain": [
       "<matplotlib.figure.Figure at 0x7f3da3896ba8>"
      ]
     },
     "metadata": {},
     "output_type": "display_data"
    }
   ],
   "source": [
    "pm.kdeplot(post['alpha__1']);"
   ]
  },
  {
   "cell_type": "markdown",
   "metadata": {},
   "source": [
    "#### Code 10.19"
   ]
  },
  {
   "cell_type": "code",
   "execution_count": 23,
   "metadata": {},
   "outputs": [
    {
     "name": "stderr",
     "output_type": "stream",
     "text": [
      "100%|██████████| 1000/1000 [00:14<00:00, 69.48it/s]\n"
     ]
    }
   ],
   "source": [
    "rt = pm.sample_ppc(trace_10_4, 1000, model_10_4)['pulled_left']"
   ]
  },
  {
   "cell_type": "code",
   "execution_count": 24,
   "metadata": {},
   "outputs": [
    {
     "data": {
      "image/png": "[encoded data removed]",
      "text/plain": [
       "<matplotlib.figure.Figure at 0x7f3da7420400>"
      ]
     },
     "metadata": {},
     "output_type": "display_data"
    }
   ],
   "source": [
    "chimp = 2\n",
    "pred_mean = np.zeros((1000, 4))\n",
    "cond = d.condition.unique()\n",
    "prosoc_l = d.prosoc_left.unique()\n",
    "for i in range(len(rt)):\n",
    "    tmp = []\n",
    "    for cp in cond:\n",
    "        for pl in prosoc_l:\n",
    "            tmp.append(np.mean(rt[i][(d.prosoc_left == pl) & (d.chose_prosoc == cp) & (d.actor == chimp)]))\n",
    "    pred_mean[i] = tmp\n",
    "\n",
    "ticks = range(4)\n",
    "mp = pred_mean.mean(0)\n",
    "hpd = pm.hpd(pred_mean, alpha=0.11)\n",
    "plt.fill_between(ticks, hpd[:,1], hpd[:,0], alpha=0.25, color='k')\n",
    "plt.plot(mp, color='k')\n",
    "plt.xticks(ticks, (\"0/0\",\"1/0\",\"0/1\",\"1/1\"))\n",
    "chimps = d[d.actor == chimp].groupby(['condition', 'prosoc_left', ]).agg('mean')['pulled_left'].values\n",
    "plt.plot(chimps, 'C0')\n",
    "\n",
    "plt.ylim(0, 1.1);"
   ]
  },
  {
   "cell_type": "markdown",
   "metadata": {},
   "source": [
    "#### Code 10.20"
   ]
  },
  {
   "cell_type": "code",
   "execution_count": 25,
   "metadata": {},
   "outputs": [
    {
     "data": {
      "text/html": [
       "<div>\n",
       "<style>\n",
       "    .dataframe thead tr:only-child th {\n",
       "        text-align: right;\n",
       "    }\n",
       "\n",
       "    .dataframe thead th {\n",
       "        text-align: left;\n",
       "    }\n",
       "\n",
       "    .dataframe tbody tr th {\n",
       "        vertical-align: top;\n",
       "    }\n",
       "</style>\n",
       "<table border=\"1\" class=\"dataframe\">\n",
       "  <thead>\n",
       "    <tr style=\"text-align: right;\">\n",
       "      <th></th>\n",
       "      <th>actor</th>\n",
       "      <th>condition</th>\n",
       "      <th>prosoc_left</th>\n",
       "      <th>pulled_left</th>\n",
       "    </tr>\n",
       "  </thead>\n",
       "  <tbody>\n",
       "    <tr>\n",
       "      <th>0</th>\n",
       "      <td>0</td>\n",
       "      <td>0</td>\n",
       "      <td>0</td>\n",
       "      <td>6</td>\n",
       "    </tr>\n",
       "    <tr>\n",
       "      <th>1</th>\n",
       "      <td>0</td>\n",
       "      <td>0</td>\n",
       "      <td>1</td>\n",
       "      <td>9</td>\n",
       "    </tr>\n",
       "    <tr>\n",
       "      <th>2</th>\n",
       "      <td>0</td>\n",
       "      <td>1</td>\n",
       "      <td>0</td>\n",
       "      <td>5</td>\n",
       "    </tr>\n",
       "    <tr>\n",
       "      <th>3</th>\n",
       "      <td>0</td>\n",
       "      <td>1</td>\n",
       "      <td>1</td>\n",
       "      <td>10</td>\n",
       "    </tr>\n",
       "    <tr>\n",
       "      <th>4</th>\n",
       "      <td>1</td>\n",
       "      <td>0</td>\n",
       "      <td>0</td>\n",
       "      <td>18</td>\n",
       "    </tr>\n",
       "    <tr>\n",
       "      <th>5</th>\n",
       "      <td>1</td>\n",
       "      <td>0</td>\n",
       "      <td>1</td>\n",
       "      <td>18</td>\n",
       "    </tr>\n",
       "    <tr>\n",
       "      <th>6</th>\n",
       "      <td>1</td>\n",
       "      <td>1</td>\n",
       "      <td>0</td>\n",
       "      <td>18</td>\n",
       "    </tr>\n",
       "  </tbody>\n",
       "</table>\n",
       "</div>"
      ],
      "text/plain": [
       "   actor  condition  prosoc_left  pulled_left\n",
       "0      0          0            0            6\n",
       "1      0          0            1            9\n",
       "2      0          1            0            5\n",
       "3      0          1            1           10\n",
       "4      1          0            0           18\n",
       "5      1          0            1           18\n",
       "6      1          1            0           18"
      ]
     },
     "execution_count": 25,
     "metadata": {},
     "output_type": "execute_result"
    }
   ],
   "source": [
    "d_aggregated = d.groupby(['actor', 'condition', 'prosoc_left',  ])['pulled_left'].sum().reset_index()\n",
    "d_aggregated.head(7)"
   ]
  },
  {
   "cell_type": "markdown",
   "metadata": {},
   "source": [
    "#### Code 10.21"
   ]
  },
  {
   "cell_type": "code",
   "execution_count": 26,
   "metadata": {},
   "outputs": [
    {
     "name": "stderr",
     "output_type": "stream",
     "text": [
      "100%|██████████| 2500/2500 [01:23<00:00, 29.80it/s]\n"
     ]
    }
   ],
   "source": [
    "with pm.Model() as model_10_5:\n",
    "    a = pm.Normal('alpha', 0, 10)\n",
    "    bp = pm.Normal('bp', 0, 10)\n",
    "    bpC = pm.Normal('bpC', 0, 10)\n",
    "    p = pm.math.invlogit(a + (bp + bpC * d_aggregated.condition) * d_aggregated.prosoc_left)\n",
    "    pulled_left = pm.Binomial('pulled_left', 18, p, observed=d_aggregated.pulled_left)\n",
    "\n",
    "    trace_10_5 = pm.sample(2000)"
   ]
  },
  {
   "cell_type": "code",
   "execution_count": 27,
   "metadata": {},
   "outputs": [
    {
     "data": {
      "text/html": [
       "<div>\n",
       "<style>\n",
       "    .dataframe thead tr:only-child th {\n",
       "        text-align: right;\n",
       "    }\n",
       "\n",
       "    .dataframe thead th {\n",
       "        text-align: left;\n",
       "    }\n",
       "\n",
       "    .dataframe tbody tr th {\n",
       "        vertical-align: top;\n",
       "    }\n",
       "</style>\n",
       "<table border=\"1\" class=\"dataframe\">\n",
       "  <thead>\n",
       "    <tr style=\"text-align: right;\">\n",
       "      <th></th>\n",
       "      <th>mean</th>\n",
       "      <th>sd</th>\n",
       "      <th>mc_error</th>\n",
       "      <th>hpd_2.5</th>\n",
       "      <th>hpd_97.5</th>\n",
       "    </tr>\n",
       "  </thead>\n",
       "  <tbody>\n",
       "    <tr>\n",
       "      <th>alpha</th>\n",
       "      <td>0.047341</td>\n",
       "      <td>0.125471</td>\n",
       "      <td>0.002402</td>\n",
       "      <td>-0.185356</td>\n",
       "      <td>0.299667</td>\n",
       "    </tr>\n",
       "    <tr>\n",
       "      <th>bp</th>\n",
       "      <td>0.617887</td>\n",
       "      <td>0.223174</td>\n",
       "      <td>0.004078</td>\n",
       "      <td>0.167482</td>\n",
       "      <td>1.021358</td>\n",
       "    </tr>\n",
       "    <tr>\n",
       "      <th>bpC</th>\n",
       "      <td>-0.109395</td>\n",
       "      <td>0.257499</td>\n",
       "      <td>0.005108</td>\n",
       "      <td>-0.585989</td>\n",
       "      <td>0.420310</td>\n",
       "    </tr>\n",
       "  </tbody>\n",
       "</table>\n",
       "</div>"
      ],
      "text/plain": [
       "           mean        sd  mc_error   hpd_2.5  hpd_97.5\n",
       "alpha  0.047341  0.125471  0.002402 -0.185356  0.299667\n",
       "bp     0.617887  0.223174  0.004078  0.167482  1.021358\n",
       "bpC   -0.109395  0.257499  0.005108 -0.585989  0.420310"
      ]
     },
     "execution_count": 27,
     "metadata": {},
     "output_type": "execute_result"
    }
   ],
   "source": [
    "pm.df_summary(trace_10_5)"
   ]
  },
  {
   "cell_type": "code",
   "execution_count": 28,
   "metadata": {},
   "outputs": [
    {
     "data": {
      "text/plain": [
       "array([[ True,  True,  True,  True,  True],\n",
       "       [ True,  True,  True, False, False],\n",
       "       [ True,  True,  True, False, False]], dtype=bool)"
      ]
     },
     "execution_count": 28,
     "metadata": {},
     "output_type": "execute_result"
    }
   ],
   "source": [
    "# hacky check of similarity to 10_3, within a hundreth\n",
    "np.isclose(pm.df_summary(trace_10_5), pm.df_summary(trace_10_3), atol=0.01)"
   ]
  },
  {
   "cell_type": "markdown",
   "metadata": {},
   "source": [
    "#### Code 10.22"
   ]
  },
  {
   "cell_type": "code",
   "execution_count": 29,
   "metadata": {},
   "outputs": [
    {
     "data": {
      "text/html": [
       "<div>\n",
       "<style>\n",
       "    .dataframe thead tr:only-child th {\n",
       "        text-align: right;\n",
       "    }\n",
       "\n",
       "    .dataframe thead th {\n",
       "        text-align: left;\n",
       "    }\n",
       "\n",
       "    .dataframe tbody tr th {\n",
       "        vertical-align: top;\n",
       "    }\n",
       "</style>\n",
       "<table border=\"1\" class=\"dataframe\">\n",
       "  <thead>\n",
       "    <tr style=\"text-align: right;\">\n",
       "      <th></th>\n",
       "      <th>dept</th>\n",
       "      <th>applicant.gender</th>\n",
       "      <th>admit</th>\n",
       "      <th>reject</th>\n",
       "      <th>applications</th>\n",
       "    </tr>\n",
       "  </thead>\n",
       "  <tbody>\n",
       "    <tr>\n",
       "      <th>1</th>\n",
       "      <td>A</td>\n",
       "      <td>male</td>\n",
       "      <td>512</td>\n",
       "      <td>313</td>\n",
       "      <td>825</td>\n",
       "    </tr>\n",
       "    <tr>\n",
       "      <th>2</th>\n",
       "      <td>A</td>\n",
       "      <td>female</td>\n",
       "      <td>89</td>\n",
       "      <td>19</td>\n",
       "      <td>108</td>\n",
       "    </tr>\n",
       "    <tr>\n",
       "      <th>3</th>\n",
       "      <td>B</td>\n",
       "      <td>male</td>\n",
       "      <td>353</td>\n",
       "      <td>207</td>\n",
       "      <td>560</td>\n",
       "    </tr>\n",
       "    <tr>\n",
       "      <th>4</th>\n",
       "      <td>B</td>\n",
       "      <td>female</td>\n",
       "      <td>17</td>\n",
       "      <td>8</td>\n",
       "      <td>25</td>\n",
       "    </tr>\n",
       "    <tr>\n",
       "      <th>5</th>\n",
       "      <td>C</td>\n",
       "      <td>male</td>\n",
       "      <td>120</td>\n",
       "      <td>205</td>\n",
       "      <td>325</td>\n",
       "    </tr>\n",
       "    <tr>\n",
       "      <th>6</th>\n",
       "      <td>C</td>\n",
       "      <td>female</td>\n",
       "      <td>202</td>\n",
       "      <td>391</td>\n",
       "      <td>593</td>\n",
       "    </tr>\n",
       "    <tr>\n",
       "      <th>7</th>\n",
       "      <td>D</td>\n",
       "      <td>male</td>\n",
       "      <td>138</td>\n",
       "      <td>279</td>\n",
       "      <td>417</td>\n",
       "    </tr>\n",
       "    <tr>\n",
       "      <th>8</th>\n",
       "      <td>D</td>\n",
       "      <td>female</td>\n",
       "      <td>131</td>\n",
       "      <td>244</td>\n",
       "      <td>375</td>\n",
       "    </tr>\n",
       "    <tr>\n",
       "      <th>9</th>\n",
       "      <td>E</td>\n",
       "      <td>male</td>\n",
       "      <td>53</td>\n",
       "      <td>138</td>\n",
       "      <td>191</td>\n",
       "    </tr>\n",
       "    <tr>\n",
       "      <th>10</th>\n",
       "      <td>E</td>\n",
       "      <td>female</td>\n",
       "      <td>94</td>\n",
       "      <td>299</td>\n",
       "      <td>393</td>\n",
       "    </tr>\n",
       "    <tr>\n",
       "      <th>11</th>\n",
       "      <td>F</td>\n",
       "      <td>male</td>\n",
       "      <td>22</td>\n",
       "      <td>351</td>\n",
       "      <td>373</td>\n",
       "    </tr>\n",
       "    <tr>\n",
       "      <th>12</th>\n",
       "      <td>F</td>\n",
       "      <td>female</td>\n",
       "      <td>24</td>\n",
       "      <td>317</td>\n",
       "      <td>341</td>\n",
       "    </tr>\n",
       "  </tbody>\n",
       "</table>\n",
       "</div>"
      ],
      "text/plain": [
       "   dept applicant.gender  admit  reject  applications\n",
       "1     A             male    512     313           825\n",
       "2     A           female     89      19           108\n",
       "3     B             male    353     207           560\n",
       "4     B           female     17       8            25\n",
       "5     C             male    120     205           325\n",
       "6     C           female    202     391           593\n",
       "7     D             male    138     279           417\n",
       "8     D           female    131     244           375\n",
       "9     E             male     53     138           191\n",
       "10    E           female     94     299           393\n",
       "11    F             male     22     351           373\n",
       "12    F           female     24     317           341"
      ]
     },
     "execution_count": 29,
     "metadata": {},
     "output_type": "execute_result"
    }
   ],
   "source": [
    "d_ad = pd.read_csv('./Data/UCBadmit.csv', sep=';')\n",
    "d_ad"
   ]
  },
  {
   "cell_type": "markdown",
   "metadata": {},
   "source": [
    "#### Code 10.23"
   ]
  },
  {
   "cell_type": "code",
   "execution_count": 30,
   "metadata": {},
   "outputs": [
    {
     "name": "stderr",
     "output_type": "stream",
     "text": [
      "100%|██████████| 3000/3000 [01:23<00:00, 35.80it/s]\n",
      "100%|██████████| 3000/3000 [00:46<00:00, 64.98it/s]\n"
     ]
    }
   ],
   "source": [
    "d_ad['male'] = (d_ad['applicant.gender'] == 'male').astype(int)\n",
    "\n",
    "with pm.Model() as model_10_6:\n",
    "    a = pm.Normal('a', 0, 10)\n",
    "    bm = pm.Normal('bm', 0, 10)\n",
    "    p = pm.math.invlogit(a + bm * d_ad.male)\n",
    "    admit = pm.Binomial('admit', p=p, n=d_ad.applications, observed=d_ad.admit)\n",
    "    \n",
    "    trace_10_6 = pm.sample(2000, tune=1000)\n",
    "    \n",
    "with pm.Model() as model_10_7:\n",
    "    a = pm.Normal('a', 0, 10)\n",
    "    p = pm.math.invlogit(a)\n",
    "    admit = pm.Binomial('admit', p=p, n=d_ad.applications, observed=d_ad.admit)\n",
    "    \n",
    "    trace_10_7 = pm.sample(2000, tune=1000)"
   ]
  },
  {
   "cell_type": "markdown",
   "metadata": {},
   "source": [
    "#### Code 10.24"
   ]
  },
  {
   "cell_type": "code",
   "execution_count": 31,
   "metadata": {},
   "outputs": [
    {
     "data": {
      "text/html": [
       "<div>\n",
       "<style>\n",
       "    .dataframe thead tr:only-child th {\n",
       "        text-align: right;\n",
       "    }\n",
       "\n",
       "    .dataframe thead th {\n",
       "        text-align: left;\n",
       "    }\n",
       "\n",
       "    .dataframe tbody tr th {\n",
       "        vertical-align: top;\n",
       "    }\n",
       "</style>\n",
       "<table border=\"1\" class=\"dataframe\">\n",
       "  <thead>\n",
       "    <tr style=\"text-align: right;\">\n",
       "      <th></th>\n",
       "      <th>WAIC</th>\n",
       "      <th>pWAIC</th>\n",
       "      <th>dWAIC</th>\n",
       "      <th>weight</th>\n",
       "      <th>SE</th>\n",
       "      <th>dSE</th>\n",
       "      <th>warning</th>\n",
       "    </tr>\n",
       "  </thead>\n",
       "  <tbody>\n",
       "    <tr>\n",
       "      <th>0</th>\n",
       "      <td>991.46</td>\n",
       "      <td>112.65</td>\n",
       "      <td>0</td>\n",
       "      <td>1</td>\n",
       "      <td>312.73</td>\n",
       "      <td>0</td>\n",
       "      <td>1</td>\n",
       "    </tr>\n",
       "    <tr>\n",
       "      <th>1</th>\n",
       "      <td>1046.67</td>\n",
       "      <td>83.32</td>\n",
       "      <td>55.21</td>\n",
       "      <td>0</td>\n",
       "      <td>313.79</td>\n",
       "      <td>155.85</td>\n",
       "      <td>1</td>\n",
       "    </tr>\n",
       "  </tbody>\n",
       "</table>\n",
       "</div>"
      ],
      "text/plain": [
       "      WAIC   pWAIC  dWAIC weight      SE     dSE warning\n",
       "0   991.46  112.65      0      1  312.73       0       1\n",
       "1  1046.67   83.32  55.21      0  313.79  155.85       1"
      ]
     },
     "execution_count": 31,
     "metadata": {},
     "output_type": "execute_result"
    }
   ],
   "source": [
    "# Something goofy here... \n",
    "# not even close to WAIC values, larger standard error\n",
    "\n",
    "comp_df = pm.compare([trace_10_6, trace_10_7], [model_10_6, model_10_7], method='pseudo-BMA')\n",
    "comp_df"
   ]
  },
  {
   "cell_type": "markdown",
   "metadata": {},
   "source": [
    "#### Code 10.25"
   ]
  },
  {
   "cell_type": "code",
   "execution_count": 32,
   "metadata": {},
   "outputs": [
    {
     "data": {
      "text/html": [
       "<div>\n",
       "<style>\n",
       "    .dataframe thead tr:only-child th {\n",
       "        text-align: right;\n",
       "    }\n",
       "\n",
       "    .dataframe thead th {\n",
       "        text-align: left;\n",
       "    }\n",
       "\n",
       "    .dataframe tbody tr th {\n",
       "        vertical-align: top;\n",
       "    }\n",
       "</style>\n",
       "<table border=\"1\" class=\"dataframe\">\n",
       "  <thead>\n",
       "    <tr style=\"text-align: right;\">\n",
       "      <th></th>\n",
       "      <th>mean</th>\n",
       "      <th>sd</th>\n",
       "      <th>mc_error</th>\n",
       "      <th>hpd_2.5</th>\n",
       "      <th>hpd_97.5</th>\n",
       "    </tr>\n",
       "  </thead>\n",
       "  <tbody>\n",
       "    <tr>\n",
       "      <th>a</th>\n",
       "      <td>-0.83</td>\n",
       "      <td>0.05</td>\n",
       "      <td>0.0</td>\n",
       "      <td>-0.92</td>\n",
       "      <td>-0.73</td>\n",
       "    </tr>\n",
       "    <tr>\n",
       "      <th>bm</th>\n",
       "      <td>0.61</td>\n",
       "      <td>0.06</td>\n",
       "      <td>0.0</td>\n",
       "      <td>0.49</td>\n",
       "      <td>0.73</td>\n",
       "    </tr>\n",
       "  </tbody>\n",
       "</table>\n",
       "</div>"
      ],
      "text/plain": [
       "    mean    sd  mc_error  hpd_2.5  hpd_97.5\n",
       "a  -0.83  0.05       0.0    -0.92     -0.73\n",
       "bm  0.61  0.06       0.0     0.49      0.73"
      ]
     },
     "execution_count": 32,
     "metadata": {},
     "output_type": "execute_result"
    }
   ],
   "source": [
    "pm.df_summary(trace_10_6).round(2)"
   ]
  },
  {
   "cell_type": "markdown",
   "metadata": {},
   "source": [
    "#### Code 10.26"
   ]
  },
  {
   "cell_type": "code",
   "execution_count": 33,
   "metadata": {},
   "outputs": [
    {
     "data": {
      "text/plain": [
       "2.5%     0.113798\n",
       "50%      0.141242\n",
       "97.5%    0.169309\n",
       "dtype: float64"
      ]
     },
     "execution_count": 33,
     "metadata": {},
     "output_type": "execute_result"
    }
   ],
   "source": [
    "post = pm.trace_to_dataframe(trace_10_6)\n",
    "p_admit_male = logistic(post['a'] + post['bm'])\n",
    "p_admit_female = logistic(post['a'])\n",
    "diff_admit = p_admit_male - p_admit_female\n",
    "diff_admit.describe(percentiles=[.025, .5, .975])[['2.5%', '50%', '97.5%']]"
   ]
  },
  {
   "cell_type": "markdown",
   "metadata": {},
   "source": [
    "#### Code 10.27"
   ]
  },
  {
   "cell_type": "code",
   "execution_count": 34,
   "metadata": {},
   "outputs": [
    {
     "data": {
      "text/plain": [
       "(0, 1)"
      ]
     },
     "execution_count": 34,
     "metadata": {},
     "output_type": "execute_result"
    },
    {
     "data": {
      "image/png": "[encoded data removed]",
      "text/plain": [
       "<matplotlib.figure.Figure at 0x7f3d9dca59e8>"
      ]
     },
     "metadata": {},
     "output_type": "display_data"
    }
   ],
   "source": [
    "for i in range(6):\n",
    "    x = 1 + 2 * i\n",
    "    y1 = d_ad.admit[x] / d_ad.applications[x]\n",
    "    y2 = d_ad.admit[x+1] / d_ad.applications[x+1]\n",
    "    plt.plot([x, x+1], [y1, y2], '-C0o', lw=2)\n",
    "    plt.text(x + 0.25, (y1+y2)/2 + 0.05, d_ad.dept[x])\n",
    "plt.ylim(0, 1)"
   ]
  },
  {
   "cell_type": "markdown",
   "metadata": {},
   "source": [
    "#### Code 10.28"
   ]
  },
  {
   "cell_type": "code",
   "execution_count": 35,
   "metadata": {
    "collapsed": true
   },
   "outputs": [],
   "source": [
    "d_ad['dept_id'] = pd.Categorical(d_ad['dept']).codes"
   ]
  },
  {
   "cell_type": "code",
   "execution_count": 36,
   "metadata": {},
   "outputs": [
    {
     "name": "stderr",
     "output_type": "stream",
     "text": [
      "100%|██████████| 2500/2500 [01:10<00:00, 35.53it/s]\n",
      "100%|██████████| 2500/2500 [01:44<00:00, 23.86it/s]\n"
     ]
    }
   ],
   "source": [
    "with pm.Model() as model_10_8:\n",
    "    a = pm.Normal('a', 0, 10, shape=len(d_ad['dept'].unique()))\n",
    "    p = pm.math.invlogit(a[d_ad['dept_id'].values])\n",
    "    admit = pm.Binomial('admit', p=p, n=d_ad['applications'], observed=d_ad['admit'])\n",
    "    \n",
    "    trace_10_8 = pm.sample(2000)\n",
    "\n",
    "with pm.Model() as model_10_9:\n",
    "    a = pm.Normal('a', 0, 10, shape=len(d_ad['dept'].unique()))\n",
    "    bm = pm.Normal('bm', 0, 10)\n",
    "    p = pm.math.invlogit(a[d_ad['dept_id'].values] + bm * d_ad['male'])\n",
    "    admit = pm.Binomial('admit', p=p, n=d_ad['applications'], observed=d_ad['admit'])\n",
    "    \n",
    "    trace_10_9 = pm.sample(2000)"
   ]
  },
  {
   "cell_type": "markdown",
   "metadata": {},
   "source": [
    "#### Code 10.29"
   ]
  },
  {
   "cell_type": "code",
   "execution_count": 37,
   "metadata": {},
   "outputs": [
    {
     "data": {
      "text/html": [
       "<div>\n",
       "<style>\n",
       "    .dataframe thead tr:only-child th {\n",
       "        text-align: right;\n",
       "    }\n",
       "\n",
       "    .dataframe thead th {\n",
       "        text-align: left;\n",
       "    }\n",
       "\n",
       "    .dataframe tbody tr th {\n",
       "        vertical-align: top;\n",
       "    }\n",
       "</style>\n",
       "<table border=\"1\" class=\"dataframe\">\n",
       "  <thead>\n",
       "    <tr style=\"text-align: right;\">\n",
       "      <th></th>\n",
       "      <th>WAIC</th>\n",
       "      <th>pWAIC</th>\n",
       "      <th>dWAIC</th>\n",
       "      <th>weight</th>\n",
       "      <th>SE</th>\n",
       "      <th>dSE</th>\n",
       "      <th>warning</th>\n",
       "    </tr>\n",
       "  </thead>\n",
       "  <tbody>\n",
       "    <tr>\n",
       "      <th>2</th>\n",
       "      <td>104.9</td>\n",
       "      <td>6.42</td>\n",
       "      <td>0</td>\n",
       "      <td>0.85</td>\n",
       "      <td>17.03</td>\n",
       "      <td>0</td>\n",
       "      <td>1</td>\n",
       "    </tr>\n",
       "    <tr>\n",
       "      <th>3</th>\n",
       "      <td>108.42</td>\n",
       "      <td>9.39</td>\n",
       "      <td>3.52</td>\n",
       "      <td>0.15</td>\n",
       "      <td>15.5</td>\n",
       "      <td>3.57</td>\n",
       "      <td>1</td>\n",
       "    </tr>\n",
       "    <tr>\n",
       "      <th>0</th>\n",
       "      <td>991.46</td>\n",
       "      <td>112.65</td>\n",
       "      <td>886.56</td>\n",
       "      <td>0</td>\n",
       "      <td>312.73</td>\n",
       "      <td>309.75</td>\n",
       "      <td>1</td>\n",
       "    </tr>\n",
       "    <tr>\n",
       "      <th>1</th>\n",
       "      <td>1046.67</td>\n",
       "      <td>83.32</td>\n",
       "      <td>941.77</td>\n",
       "      <td>0</td>\n",
       "      <td>313.79</td>\n",
       "      <td>311.54</td>\n",
       "      <td>1</td>\n",
       "    </tr>\n",
       "  </tbody>\n",
       "</table>\n",
       "</div>"
      ],
      "text/plain": [
       "      WAIC   pWAIC   dWAIC weight      SE     dSE warning\n",
       "2    104.9    6.42       0   0.85   17.03       0       1\n",
       "3   108.42    9.39    3.52   0.15    15.5    3.57       1\n",
       "0   991.46  112.65  886.56      0  312.73  309.75       1\n",
       "1  1046.67   83.32  941.77      0  313.79  311.54       1"
      ]
     },
     "execution_count": 37,
     "metadata": {},
     "output_type": "execute_result"
    }
   ],
   "source": [
    "# WAIC values still off\n",
    "# Plus warning flag\n",
    "\n",
    "comp_df = pm.compare(traces=[trace_10_6, trace_10_7, trace_10_8, trace_10_9],\n",
    "                     models=[model_10_6, model_10_7, model_10_8, model_10_9], method='pseudo-BMA')\n",
    "comp_df"
   ]
  },
  {
   "cell_type": "markdown",
   "metadata": {},
   "source": [
    "#### Code 10.30"
   ]
  },
  {
   "cell_type": "code",
   "execution_count": 38,
   "metadata": {},
   "outputs": [
    {
     "data": {
      "text/html": [
       "<div>\n",
       "<style>\n",
       "    .dataframe thead tr:only-child th {\n",
       "        text-align: right;\n",
       "    }\n",
       "\n",
       "    .dataframe thead th {\n",
       "        text-align: left;\n",
       "    }\n",
       "\n",
       "    .dataframe tbody tr th {\n",
       "        vertical-align: top;\n",
       "    }\n",
       "</style>\n",
       "<table border=\"1\" class=\"dataframe\">\n",
       "  <thead>\n",
       "    <tr style=\"text-align: right;\">\n",
       "      <th></th>\n",
       "      <th>mean</th>\n",
       "      <th>sd</th>\n",
       "      <th>mc_error</th>\n",
       "      <th>hpd_2.5</th>\n",
       "      <th>hpd_97.5</th>\n",
       "    </tr>\n",
       "  </thead>\n",
       "  <tbody>\n",
       "    <tr>\n",
       "      <th>a__0</th>\n",
       "      <td>0.68</td>\n",
       "      <td>0.10</td>\n",
       "      <td>0.0</td>\n",
       "      <td>0.50</td>\n",
       "      <td>0.88</td>\n",
       "    </tr>\n",
       "    <tr>\n",
       "      <th>a__1</th>\n",
       "      <td>0.64</td>\n",
       "      <td>0.11</td>\n",
       "      <td>0.0</td>\n",
       "      <td>0.41</td>\n",
       "      <td>0.85</td>\n",
       "    </tr>\n",
       "    <tr>\n",
       "      <th>a__2</th>\n",
       "      <td>-0.58</td>\n",
       "      <td>0.07</td>\n",
       "      <td>0.0</td>\n",
       "      <td>-0.73</td>\n",
       "      <td>-0.44</td>\n",
       "    </tr>\n",
       "    <tr>\n",
       "      <th>a__3</th>\n",
       "      <td>-0.61</td>\n",
       "      <td>0.09</td>\n",
       "      <td>0.0</td>\n",
       "      <td>-0.78</td>\n",
       "      <td>-0.44</td>\n",
       "    </tr>\n",
       "    <tr>\n",
       "      <th>a__4</th>\n",
       "      <td>-1.06</td>\n",
       "      <td>0.10</td>\n",
       "      <td>0.0</td>\n",
       "      <td>-1.25</td>\n",
       "      <td>-0.86</td>\n",
       "    </tr>\n",
       "    <tr>\n",
       "      <th>a__5</th>\n",
       "      <td>-2.64</td>\n",
       "      <td>0.16</td>\n",
       "      <td>0.0</td>\n",
       "      <td>-2.94</td>\n",
       "      <td>-2.33</td>\n",
       "    </tr>\n",
       "    <tr>\n",
       "      <th>bm</th>\n",
       "      <td>-0.10</td>\n",
       "      <td>0.08</td>\n",
       "      <td>0.0</td>\n",
       "      <td>-0.26</td>\n",
       "      <td>0.06</td>\n",
       "    </tr>\n",
       "  </tbody>\n",
       "</table>\n",
       "</div>"
      ],
      "text/plain": [
       "      mean    sd  mc_error  hpd_2.5  hpd_97.5\n",
       "a__0  0.68  0.10       0.0     0.50      0.88\n",
       "a__1  0.64  0.11       0.0     0.41      0.85\n",
       "a__2 -0.58  0.07       0.0    -0.73     -0.44\n",
       "a__3 -0.61  0.09       0.0    -0.78     -0.44\n",
       "a__4 -1.06  0.10       0.0    -1.25     -0.86\n",
       "a__5 -2.64  0.16       0.0    -2.94     -2.33\n",
       "bm   -0.10  0.08       0.0    -0.26      0.06"
      ]
     },
     "execution_count": 38,
     "metadata": {},
     "output_type": "execute_result"
    }
   ],
   "source": [
    "pm.df_summary(trace_10_9).round(2)"
   ]
  },
  {
   "cell_type": "markdown",
   "metadata": {},
   "source": [
    "#### Code 10.31\n",
    "Replicated model above but with MCMC in book."
   ]
  },
  {
   "cell_type": "markdown",
   "metadata": {},
   "source": [
    "#### Code 10.32"
   ]
  },
  {
   "cell_type": "code",
   "execution_count": 84,
   "metadata": {},
   "outputs": [],
   "source": [
    "import statsmodels.api as sm\n",
    "m10_7glm = sm.OLS(np.concatenate((d_ad['admit'], d_ad['reject'])).reshape(-1, 2), np.array([1]*12))\n",
    "m10_6glm = sm.OLS(np.concatenate((d_ad['admit'], d_ad['reject'])).reshape(-1, 2), d_ad['male'])\n",
    "m10_8glm = sm.OLS(np.concatenate((d_ad['admit'], d_ad['reject'])).reshape(-1, 2), d_ad['dept_id'])\n",
    "m10_9glm = sm.OLS(np.concatenate((d_ad['admit'], d_ad['reject'])).reshape(-1, 2), d_ad['male'] + d_ad['dept_id'])"
   ]
  },
  {
   "cell_type": "markdown",
   "metadata": {},
   "source": [
    "#### Code 10.33"
   ]
  },
  {
   "cell_type": "code",
   "execution_count": 85,
   "metadata": {
    "collapsed": true
   },
   "outputs": [],
   "source": [
    "d = pd.read_csv('Data/chimpanzees.csv', sep=\";\")\n",
    "m10_4glm = sm.OLS(d['pulled_left'], d['actor'] + d['prosoc_left'] * d['condition'] - d['condition'])"
   ]
  },
  {
   "cell_type": "markdown",
   "metadata": {},
   "source": [
    "#### Code 10.34"
   ]
  },
  {
   "cell_type": "code",
   "execution_count": 86,
   "metadata": {},
   "outputs": [
    {
     "data": {
      "text/latex": [
       "$$Intercept \\sim \\text{Flat}()\\\\prosoc\\_left \\sim \\text{Normal}(\\mathit{mu}=0, \\mathit{sd}=1000.0)\\\\prosoc\\_left:condition \\sim \\text{Normal}(\\mathit{mu}=0, \\mathit{sd}=1000.0)\\\\sd \\sim \\text{HalfCauchy}(\\mathit{beta}=10)\\\\y \\sim \\text{Normal}(\\mathit{mu}=f(array,f(Intercept,prosoc\\_left,prosoc\\_left:condition)), \\mathit{sd}=f(sd))$$"
      ],
      "text/plain": [
       "<pymc3.glm.linear.GLM at 0x7f3d96900588>"
      ]
     },
     "execution_count": 86,
     "metadata": {},
     "output_type": "execute_result"
    }
   ],
   "source": [
    "pm.GLM.from_formula('pulled_left ~ prosoc_left * condition - condition', data=d)"
   ]
  },
  {
   "cell_type": "markdown",
   "metadata": {},
   "source": [
    "#### Code 10.35"
   ]
  },
  {
   "cell_type": "code",
   "execution_count": 112,
   "metadata": {},
   "outputs": [
    {
     "name": "stdout",
     "output_type": "stream",
     "text": [
      "                            OLS Regression Results                            \n",
      "==============================================================================\n",
      "Dep. Variable:                      y   R-squared:                       0.500\n",
      "Model:                            OLS   Adj. R-squared:                  0.474\n",
      "Method:                 Least Squares   F-statistic:                     19.00\n",
      "Date:                Fri, 03 Nov 2017   Prob (F-statistic):           0.000338\n",
      "Time:                        17:54:49   Log-Likelihood:                -14.516\n",
      "No. Observations:                  20   AIC:                             31.03\n",
      "Df Residuals:                      19   BIC:                             32.03\n",
      "Df Model:                           1                                         \n",
      "Covariance Type:            nonrobust                                         \n",
      "==============================================================================\n",
      "                 coef    std err          t      P>|t|      [0.025      0.975]\n",
      "------------------------------------------------------------------------------\n",
      "x1             0.5000      0.115      4.359      0.000       0.260       0.740\n",
      "==============================================================================\n",
      "Omnibus:                       51.661   Durbin-Watson:                   0.400\n",
      "Prob(Omnibus):                  0.000   Jarque-Bera (JB):              245.660\n",
      "Skew:                          -4.129   Prob(JB):                     4.52e-54\n",
      "Kurtosis:                      18.053   Cond. No.                         1.00\n",
      "==============================================================================\n",
      "\n",
      "Warnings:\n",
      "[1] Standard Errors assume that the covariance matrix of the errors is correctly specified.\n"
     ]
    }
   ],
   "source": [
    "# outcome and predictro almost perfectly associated\n",
    "y = np.concatenate((np.repeat(0, 10), np.repeat(1, 10)))\n",
    "x = np.concatenate((np.repeat(-1, 9), np.repeat(1, 11)))\n",
    "# fit binomial GLM\n",
    "m_bad = sm.OLS(y, x)\n",
    "results = m_bad.fit()\n",
    "print(results.summary())"
   ]
  },
  {
   "cell_type": "markdown",
   "metadata": {},
   "source": [
    "#### Code 10.36"
   ]
  },
  {
   "cell_type": "code",
   "execution_count": null,
   "metadata": {
    "collapsed": true
   },
   "outputs": [],
   "source": [
    "with pm.Model() as model_good:\n",
    "    a = pm.Normal('a', 0, 10, shape=len(d_ad['dept'].unique()))\n",
    "    p = pm.math.invlogit(a[d_ad['dept_id'].values])\n",
    "    admit = pm.Binomial('admit', p=p, n=d_ad['applications'], observed=d_ad['admit'])\n",
    "    \n",
    "    trace_10_8 = pm.sample(2000)"
   ]
  },
  {
   "cell_type": "code",
   "execution_count": 39,
   "metadata": {},
   "outputs": [
    {
     "name": "stdout",
     "output_type": "stream",
     "text": [
      "This notebook was createad on a computer x86_64 running debian stretch/sid and using:\n",
      "Python 3.5.4\n",
      "IPython 4.1.2\n",
      "PyMC3 3.2\n",
      "NumPy 1.13.3\n",
      "Pandas 0.20.3\n",
      "SciPy 0.19.1\n",
      "Matplotlib 2.0.2\n",
      "\n"
     ]
    }
   ],
   "source": [
    "import sys, IPython, scipy, matplotlib, platform\n",
    "print(\"This notebook was createad on a computer %s running %s and using:\\nPython %s\\nIPython %s\\nPyMC3 %s\\nNumPy %s\\nPandas %s\\nSciPy %s\\nMatplotlib %s\\n\" % (platform.machine(), ' '.join(platform.linux_distribution()[:2]), sys.version[:5], IPython.__version__, pm.__version__, np.__version__, pd.__version__, scipy.__version__, matplotlib.__version__))"
   ]
  }
 ],
 "metadata": {
  "kernelspec": {
   "display_name": "Python 3",
   "language": "python",
   "name": "python3"
  },
  "language_info": {
   "codemirror_mode": {
    "name": "ipython",
    "version": 3
   },
   "file_extension": ".py",
   "mimetype": "text/x-python",
   "name": "python",
   "nbconvert_exporter": "python",
   "pygments_lexer": "ipython3",
   "version": "3.5.4"
  }
 },
 "nbformat": 4,
 "nbformat_minor": 1
}
