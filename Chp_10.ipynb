{
 "cells": [
  {
   "cell_type": "code",
   "execution_count": 1,
   "metadata": {
    "collapsed": true
   },
   "outputs": [],
   "source": [
    "%matplotlib inline\n",
    "from __future__ import division  # just in case you are still using python2\n",
    "import pymc3 as pm\n",
    "import numpy as np\n",
    "import pandas as pd\n",
    "from scipy import stats\n",
    "from scipy.special import expit as logistic\n",
    "import matplotlib.pyplot as plt\n",
    "import seaborn as sns\n",
    "sns.set_palette('colorblind')"
   ]
  },
  {
   "cell_type": "markdown",
   "metadata": {},
   "source": [
    "#### Code 10.1"
   ]
  },
  {
   "cell_type": "code",
   "execution_count": 2,
   "metadata": {
    "collapsed": true
   },
   "outputs": [],
   "source": [
    "d = pd.read_csv('Data/chimpanzees.csv', sep=\";\")"
   ]
  },
  {
   "cell_type": "markdown",
   "metadata": {},
   "source": [
    "#### Code 10.2"
   ]
  },
  {
   "cell_type": "code",
   "execution_count": 3,
   "metadata": {},
   "outputs": [
    {
     "name": "stderr",
     "output_type": "stream",
     "text": [
      "Auto-assigning NUTS sampler...\n",
      "Initializing NUTS using ADVI...\n",
      "Average Loss = 349.03:   4%|▍         | 8085/200000 [00:01<00:26, 7245.66it/s]\n",
      "Convergence archived at 8500\n",
      "Interrupted at 8,500 [4%]: Average Loss = 356.63\n",
      "100%|██████████| 2500/2500 [00:01<00:00, 1618.18it/s]\n"
     ]
    }
   ],
   "source": [
    "with pm.Model() as model_10_1:\n",
    "    a = pm.Normal('a', 0, 10)\n",
    "    p = pm.math.invlogit(a)\n",
    "    pulled_left = pm.Binomial('pulled_left', 1, p, observed=d['pulled_left'])\n",
    "\n",
    "    trace_10_1 = pm.sample(2000)"
   ]
  },
  {
   "cell_type": "code",
   "execution_count": 4,
   "metadata": {},
   "outputs": [
    {
     "data": {
      "text/html": [
       "<div>\n",
       "<style>\n",
       "    .dataframe thead tr:only-child th {\n",
       "        text-align: right;\n",
       "    }\n",
       "\n",
       "    .dataframe thead th {\n",
       "        text-align: left;\n",
       "    }\n",
       "\n",
       "    .dataframe tbody tr th {\n",
       "        vertical-align: top;\n",
       "    }\n",
       "</style>\n",
       "<table border=\"1\" class=\"dataframe\">\n",
       "  <thead>\n",
       "    <tr style=\"text-align: right;\">\n",
       "      <th></th>\n",
       "      <th>mean</th>\n",
       "      <th>sd</th>\n",
       "      <th>mc_error</th>\n",
       "      <th>hpd_5.5</th>\n",
       "      <th>hpd_94.5</th>\n",
       "    </tr>\n",
       "  </thead>\n",
       "  <tbody>\n",
       "    <tr>\n",
       "      <th>a</th>\n",
       "      <td>0.320542</td>\n",
       "      <td>0.090116</td>\n",
       "      <td>0.002605</td>\n",
       "      <td>0.173468</td>\n",
       "      <td>0.461414</td>\n",
       "    </tr>\n",
       "  </tbody>\n",
       "</table>\n",
       "</div>"
      ],
      "text/plain": [
       "       mean        sd  mc_error   hpd_5.5  hpd_94.5\n",
       "a  0.320542  0.090116  0.002605  0.173468  0.461414"
      ]
     },
     "execution_count": 4,
     "metadata": {},
     "output_type": "execute_result"
    }
   ],
   "source": [
    "df_10_1 = pm.df_summary(trace_10_1, alpha=0.11)\n",
    "df_10_1"
   ]
  },
  {
   "cell_type": "markdown",
   "metadata": {},
   "source": [
    "#### Code 10.3"
   ]
  },
  {
   "cell_type": "code",
   "execution_count": 5,
   "metadata": {},
   "outputs": [
    {
     "data": {
      "text/html": [
       "<div>\n",
       "<style>\n",
       "    .dataframe thead tr:only-child th {\n",
       "        text-align: right;\n",
       "    }\n",
       "\n",
       "    .dataframe thead th {\n",
       "        text-align: left;\n",
       "    }\n",
       "\n",
       "    .dataframe tbody tr th {\n",
       "        vertical-align: top;\n",
       "    }\n",
       "</style>\n",
       "<table border=\"1\" class=\"dataframe\">\n",
       "  <thead>\n",
       "    <tr style=\"text-align: right;\">\n",
       "      <th></th>\n",
       "      <th>hpd_5.5</th>\n",
       "      <th>hpd_94.5</th>\n",
       "    </tr>\n",
       "  </thead>\n",
       "  <tbody>\n",
       "    <tr>\n",
       "      <th>a</th>\n",
       "      <td>0.543259</td>\n",
       "      <td>0.613349</td>\n",
       "    </tr>\n",
       "  </tbody>\n",
       "</table>\n",
       "</div>"
      ],
      "text/plain": [
       "    hpd_5.5  hpd_94.5\n",
       "a  0.543259  0.613349"
      ]
     },
     "execution_count": 5,
     "metadata": {},
     "output_type": "execute_result"
    }
   ],
   "source": [
    "logistic(df_10_1.iloc[:,-2:])"
   ]
  },
  {
   "cell_type": "markdown",
   "metadata": {},
   "source": [
    "#### Code 10.4"
   ]
  },
  {
   "cell_type": "code",
   "execution_count": 6,
   "metadata": {},
   "outputs": [
    {
     "name": "stderr",
     "output_type": "stream",
     "text": [
      "Auto-assigning NUTS sampler...\n",
      "Initializing NUTS using ADVI...\n",
      "Average Loss = 349.6:   4%|▍         | 8298/200000 [00:02<00:50, 3762.50it/s] \n",
      "Convergence archived at 8300\n",
      "Interrupted at 8,300 [4%]: Average Loss = 361.4\n",
      "100%|██████████| 2500/2500 [00:05<00:00, 447.19it/s]\n",
      "Auto-assigning NUTS sampler...\n",
      "Initializing NUTS using ADVI...\n",
      "Average Loss = 352.54:   5%|▌         | 10029/200000 [00:03<01:00, 3135.60it/s]\n",
      "Convergence archived at 10100\n",
      "Interrupted at 10,100 [5%]: Average Loss = 364.77\n",
      "100%|██████████| 2500/2500 [00:08<00:00, 297.33it/s]\n"
     ]
    }
   ],
   "source": [
    "with pm.Model() as model_10_2:\n",
    "    a = pm.Normal('a', 0, 10)\n",
    "    bp = pm.Normal('bp', 0, 10)\n",
    "    p = pm.math.invlogit(a + bp * d['prosoc_left'])\n",
    "    pulled_left = pm.Binomial('pulled_left', 1, p, observed=d['pulled_left'])\n",
    "\n",
    "    trace_10_2 = pm.sample(2000)\n",
    "\n",
    "with pm.Model() as model_10_3:\n",
    "    a = pm.Normal('a', 0, 10)\n",
    "    bp = pm.Normal('bp', 0, 10)\n",
    "    bpC = pm.Normal('bpC', 0, 10)\n",
    "    p = pm.math.invlogit(a + (bp + bpC * d['condition']) * d['prosoc_left'])\n",
    "    pulled_left = pm.Binomial('pulled_left', 1, p, observed=d['pulled_left'])\n",
    "\n",
    "    trace_10_3 = pm.sample(2000)"
   ]
  },
  {
   "cell_type": "markdown",
   "metadata": {},
   "source": [
    "#### Code 10.5"
   ]
  },
  {
   "cell_type": "code",
   "execution_count": 7,
   "metadata": {},
   "outputs": [
    {
     "data": {
      "text/html": [
       "<div>\n",
       "<style>\n",
       "    .dataframe thead tr:only-child th {\n",
       "        text-align: right;\n",
       "    }\n",
       "\n",
       "    .dataframe thead th {\n",
       "        text-align: left;\n",
       "    }\n",
       "\n",
       "    .dataframe tbody tr th {\n",
       "        vertical-align: top;\n",
       "    }\n",
       "</style>\n",
       "<table border=\"1\" class=\"dataframe\">\n",
       "  <thead>\n",
       "    <tr style=\"text-align: right;\">\n",
       "      <th></th>\n",
       "      <th>WAIC</th>\n",
       "      <th>pWAIC</th>\n",
       "      <th>dWAIC</th>\n",
       "      <th>weight</th>\n",
       "      <th>SE</th>\n",
       "      <th>dSE</th>\n",
       "      <th>warning</th>\n",
       "    </tr>\n",
       "  </thead>\n",
       "  <tbody>\n",
       "    <tr>\n",
       "      <th>1</th>\n",
       "      <td>680.511</td>\n",
       "      <td>2.00585</td>\n",
       "      <td>0</td>\n",
       "      <td>0.737098</td>\n",
       "      <td>9.38833</td>\n",
       "      <td>0</td>\n",
       "      <td>0</td>\n",
       "    </tr>\n",
       "    <tr>\n",
       "      <th>2</th>\n",
       "      <td>682.714</td>\n",
       "      <td>3.1865</td>\n",
       "      <td>2.20361</td>\n",
       "      <td>0.244916</td>\n",
       "      <td>9.50879</td>\n",
       "      <td>0.0293049</td>\n",
       "      <td>0</td>\n",
       "    </tr>\n",
       "    <tr>\n",
       "      <th>0</th>\n",
       "      <td>687.937</td>\n",
       "      <td>0.99843</td>\n",
       "      <td>7.42624</td>\n",
       "      <td>0.0179861</td>\n",
       "      <td>7.1191</td>\n",
       "      <td>1.75409</td>\n",
       "      <td>0</td>\n",
       "    </tr>\n",
       "  </tbody>\n",
       "</table>\n",
       "</div>"
      ],
      "text/plain": [
       "      WAIC    pWAIC    dWAIC     weight       SE        dSE warning\n",
       "1  680.511  2.00585        0   0.737098  9.38833          0       0\n",
       "2  682.714   3.1865  2.20361   0.244916  9.50879  0.0293049       0\n",
       "0  687.937  0.99843  7.42624  0.0179861   7.1191    1.75409       0"
      ]
     },
     "execution_count": 7,
     "metadata": {},
     "output_type": "execute_result"
    }
   ],
   "source": [
    "comp_df = pm.compare(traces=[trace_10_1, trace_10_2, trace_10_3], models=[model_10_1, model_10_2, model_10_3])\n",
    "comp_df.round(2)"
   ]
  },
  {
   "cell_type": "code",
   "execution_count": 8,
   "metadata": {},
   "outputs": [
    {
     "data": {
      "image/png": "[encoded data removed]",
      "text/plain": [
       "<matplotlib.figure.Figure at 0x7fa47d744ef0>"
      ]
     },
     "metadata": {},
     "output_type": "display_data"
    }
   ],
   "source": [
    "pm.compareplot(comp_df);"
   ]
  },
  {
   "cell_type": "markdown",
   "metadata": {},
   "source": [
    "#### Code 10.6"
   ]
  },
  {
   "cell_type": "code",
   "execution_count": 9,
   "metadata": {},
   "outputs": [
    {
     "data": {
      "text/html": [
       "<div>\n",
       "<style>\n",
       "    .dataframe thead tr:only-child th {\n",
       "        text-align: right;\n",
       "    }\n",
       "\n",
       "    .dataframe thead th {\n",
       "        text-align: left;\n",
       "    }\n",
       "\n",
       "    .dataframe tbody tr th {\n",
       "        vertical-align: top;\n",
       "    }\n",
       "</style>\n",
       "<table border=\"1\" class=\"dataframe\">\n",
       "  <thead>\n",
       "    <tr style=\"text-align: right;\">\n",
       "      <th></th>\n",
       "      <th>mean</th>\n",
       "      <th>sd</th>\n",
       "      <th>mc_error</th>\n",
       "      <th>hpd_2.5</th>\n",
       "      <th>hpd_97.5</th>\n",
       "    </tr>\n",
       "  </thead>\n",
       "  <tbody>\n",
       "    <tr>\n",
       "      <th>a</th>\n",
       "      <td>0.05</td>\n",
       "      <td>0.13</td>\n",
       "      <td>0.00</td>\n",
       "      <td>-0.19</td>\n",
       "      <td>0.31</td>\n",
       "    </tr>\n",
       "    <tr>\n",
       "      <th>bp</th>\n",
       "      <td>0.61</td>\n",
       "      <td>0.24</td>\n",
       "      <td>0.01</td>\n",
       "      <td>0.15</td>\n",
       "      <td>1.08</td>\n",
       "    </tr>\n",
       "    <tr>\n",
       "      <th>bpC</th>\n",
       "      <td>-0.10</td>\n",
       "      <td>0.28</td>\n",
       "      <td>0.01</td>\n",
       "      <td>-0.61</td>\n",
       "      <td>0.48</td>\n",
       "    </tr>\n",
       "  </tbody>\n",
       "</table>\n",
       "</div>"
      ],
      "text/plain": [
       "     mean    sd  mc_error  hpd_2.5  hpd_97.5\n",
       "a    0.05  0.13      0.00    -0.19      0.31\n",
       "bp   0.61  0.24      0.01     0.15      1.08\n",
       "bpC -0.10  0.28      0.01    -0.61      0.48"
      ]
     },
     "execution_count": 9,
     "metadata": {},
     "output_type": "execute_result"
    }
   ],
   "source": [
    "pm.df_summary(trace_10_3).round(2)"
   ]
  },
  {
   "cell_type": "markdown",
   "metadata": {},
   "source": [
    "#### Code 10.7"
   ]
  },
  {
   "cell_type": "code",
   "execution_count": 10,
   "metadata": {},
   "outputs": [
    {
     "data": {
      "text/plain": [
       "1.8404313987816374"
      ]
     },
     "execution_count": 10,
     "metadata": {},
     "output_type": "execute_result"
    }
   ],
   "source": [
    "np.exp(0.61)"
   ]
  },
  {
   "cell_type": "markdown",
   "metadata": {},
   "source": [
    "#### Code 10.8"
   ]
  },
  {
   "cell_type": "code",
   "execution_count": 11,
   "metadata": {},
   "outputs": [
    {
     "data": {
      "text/plain": [
       "0.98201379003790845"
      ]
     },
     "execution_count": 11,
     "metadata": {},
     "output_type": "execute_result"
    }
   ],
   "source": [
    "logistic(4)"
   ]
  },
  {
   "cell_type": "markdown",
   "metadata": {},
   "source": [
    "#### Code 10.9"
   ]
  },
  {
   "cell_type": "code",
   "execution_count": 12,
   "metadata": {},
   "outputs": [
    {
     "data": {
      "text/plain": [
       "0.99014624447676869"
      ]
     },
     "execution_count": 12,
     "metadata": {},
     "output_type": "execute_result"
    }
   ],
   "source": [
    "logistic(4 + 0.61)"
   ]
  },
  {
   "cell_type": "markdown",
   "metadata": {},
   "source": [
    "#### Code 10.10"
   ]
  },
  {
   "cell_type": "code",
   "execution_count": 13,
   "metadata": {
    "collapsed": true
   },
   "outputs": [],
   "source": [
    "d_pred = pd.DataFrame({'prosoc_left' : [0, 1, 0, 1], 'condition' : [0, 0, 1, 1]})\n",
    "\n",
    "# MODEL ENSEMBLE"
   ]
  },
  {
   "cell_type": "markdown",
   "metadata": {},
   "source": [
    "#### Code 10.11"
   ]
  },
  {
   "cell_type": "code",
   "execution_count": 14,
   "metadata": {
    "collapsed": true
   },
   "outputs": [],
   "source": [
    "# PLOTTING"
   ]
  },
  {
   "cell_type": "markdown",
   "metadata": {},
   "source": [
    "#### Code 10.12 & 10.13\n",
    "This is the same as 10.6, but in the book using MCMC rather than quadratic approximation."
   ]
  },
  {
   "cell_type": "markdown",
   "metadata": {},
   "source": [
    "#### Code 10.14"
   ]
  },
  {
   "cell_type": "code",
   "execution_count": 15,
   "metadata": {},
   "outputs": [
    {
     "name": "stderr",
     "output_type": "stream",
     "text": [
      "Auto-assigning NUTS sampler...\n",
      "Initializing NUTS using ADVI...\n",
      "Average Loss = 288.51:  11%|█▏        | 22838/200000 [00:07<00:59, 2973.17it/s]\n",
      "Convergence archived at 23100\n",
      "Interrupted at 23,100 [11%]: Average Loss = 303.81\n",
      "100%|██████████| 2500/2500 [00:15<00:00, 156.60it/s]\n"
     ]
    }
   ],
   "source": [
    "# indices are 0 indexed\n",
    "d['actor_0'] = d['actor'] - 1\n",
    "\n",
    "with pm.Model() as model_10_4:\n",
    "    a = pm.Normal('alpha', 0, 10, shape=len(d['actor'].unique()))\n",
    "    bp = pm.Normal('bp', 0, 10)\n",
    "    bpC = pm.Normal('bpC', 0, 10)\n",
    "    p = pm.math.invlogit(a[d['actor_0'].values] + (bp + bpC*d['condition'])*d['prosoc_left'] )\n",
    "    pulled_left = pm.Binomial('pulled_left', 1, p, observed=d['pulled_left'])\n",
    "\n",
    "    trace_10_4 = pm.sample(2000)"
   ]
  },
  {
   "cell_type": "markdown",
   "metadata": {},
   "source": [
    "#### Code 10.15"
   ]
  },
  {
   "cell_type": "code",
   "execution_count": 16,
   "metadata": {},
   "outputs": [
    {
     "data": {
      "text/plain": [
       "{1: 0, 2: 1, 3: 2, 4: 3, 5: 4, 6: 5, 7: 6}"
      ]
     },
     "execution_count": 16,
     "metadata": {},
     "output_type": "execute_result"
    }
   ],
   "source": [
    "# This is just a mapping from 1-index to 0-index vals\n",
    "dict(zip(d['actor'].unique(), d['actor_0'].unique()))"
   ]
  },
  {
   "cell_type": "markdown",
   "metadata": {},
   "source": [
    "#### Code 10.16"
   ]
  },
  {
   "cell_type": "code",
   "execution_count": 17,
   "metadata": {},
   "outputs": [
    {
     "data": {
      "text/html": [
       "<div>\n",
       "<style>\n",
       "    .dataframe thead tr:only-child th {\n",
       "        text-align: right;\n",
       "    }\n",
       "\n",
       "    .dataframe thead th {\n",
       "        text-align: left;\n",
       "    }\n",
       "\n",
       "    .dataframe tbody tr th {\n",
       "        vertical-align: top;\n",
       "    }\n",
       "</style>\n",
       "<table border=\"1\" class=\"dataframe\">\n",
       "  <thead>\n",
       "    <tr style=\"text-align: right;\">\n",
       "      <th></th>\n",
       "      <th>mean</th>\n",
       "      <th>sd</th>\n",
       "      <th>mc_error</th>\n",
       "      <th>hpd_5.5</th>\n",
       "      <th>hpd_94.5</th>\n",
       "    </tr>\n",
       "  </thead>\n",
       "  <tbody>\n",
       "    <tr>\n",
       "      <th>alpha__0</th>\n",
       "      <td>-0.74</td>\n",
       "      <td>0.26</td>\n",
       "      <td>0.01</td>\n",
       "      <td>-1.11</td>\n",
       "      <td>-0.31</td>\n",
       "    </tr>\n",
       "    <tr>\n",
       "      <th>alpha__1</th>\n",
       "      <td>11.18</td>\n",
       "      <td>5.67</td>\n",
       "      <td>0.31</td>\n",
       "      <td>3.67</td>\n",
       "      <td>19.27</td>\n",
       "    </tr>\n",
       "    <tr>\n",
       "      <th>alpha__2</th>\n",
       "      <td>-1.05</td>\n",
       "      <td>0.28</td>\n",
       "      <td>0.01</td>\n",
       "      <td>-1.47</td>\n",
       "      <td>-0.59</td>\n",
       "    </tr>\n",
       "    <tr>\n",
       "      <th>alpha__3</th>\n",
       "      <td>-1.04</td>\n",
       "      <td>0.27</td>\n",
       "      <td>0.01</td>\n",
       "      <td>-1.46</td>\n",
       "      <td>-0.60</td>\n",
       "    </tr>\n",
       "    <tr>\n",
       "      <th>alpha__4</th>\n",
       "      <td>-0.73</td>\n",
       "      <td>0.28</td>\n",
       "      <td>0.01</td>\n",
       "      <td>-1.16</td>\n",
       "      <td>-0.29</td>\n",
       "    </tr>\n",
       "    <tr>\n",
       "      <th>alpha__5</th>\n",
       "      <td>0.22</td>\n",
       "      <td>0.26</td>\n",
       "      <td>0.00</td>\n",
       "      <td>-0.17</td>\n",
       "      <td>0.67</td>\n",
       "    </tr>\n",
       "    <tr>\n",
       "      <th>alpha__6</th>\n",
       "      <td>1.81</td>\n",
       "      <td>0.40</td>\n",
       "      <td>0.01</td>\n",
       "      <td>1.21</td>\n",
       "      <td>2.44</td>\n",
       "    </tr>\n",
       "    <tr>\n",
       "      <th>bp</th>\n",
       "      <td>0.84</td>\n",
       "      <td>0.26</td>\n",
       "      <td>0.01</td>\n",
       "      <td>0.39</td>\n",
       "      <td>1.22</td>\n",
       "    </tr>\n",
       "    <tr>\n",
       "      <th>bpC</th>\n",
       "      <td>-0.14</td>\n",
       "      <td>0.29</td>\n",
       "      <td>0.01</td>\n",
       "      <td>-0.61</td>\n",
       "      <td>0.30</td>\n",
       "    </tr>\n",
       "  </tbody>\n",
       "</table>\n",
       "</div>"
      ],
      "text/plain": [
       "           mean    sd  mc_error  hpd_5.5  hpd_94.5\n",
       "alpha__0  -0.74  0.26      0.01    -1.11     -0.31\n",
       "alpha__1  11.18  5.67      0.31     3.67     19.27\n",
       "alpha__2  -1.05  0.28      0.01    -1.47     -0.59\n",
       "alpha__3  -1.04  0.27      0.01    -1.46     -0.60\n",
       "alpha__4  -0.73  0.28      0.01    -1.16     -0.29\n",
       "alpha__5   0.22  0.26      0.00    -0.17      0.67\n",
       "alpha__6   1.81  0.40      0.01     1.21      2.44\n",
       "bp         0.84  0.26      0.01     0.39      1.22\n",
       "bpC       -0.14  0.29      0.01    -0.61      0.30"
      ]
     },
     "execution_count": 17,
     "metadata": {},
     "output_type": "execute_result"
    }
   ],
   "source": [
    "pm.df_summary(trace_10_4, alpha=0.11).round(2)"
   ]
  },
  {
   "cell_type": "markdown",
   "metadata": {},
   "source": [
    "#### Code 10.7"
   ]
  },
  {
   "cell_type": "code",
   "execution_count": 18,
   "metadata": {},
   "outputs": [
    {
     "data": {
      "text/html": [
       "<div>\n",
       "<style>\n",
       "    .dataframe thead tr:only-child th {\n",
       "        text-align: right;\n",
       "    }\n",
       "\n",
       "    .dataframe thead th {\n",
       "        text-align: left;\n",
       "    }\n",
       "\n",
       "    .dataframe tbody tr th {\n",
       "        vertical-align: top;\n",
       "    }\n",
       "</style>\n",
       "<table border=\"1\" class=\"dataframe\">\n",
       "  <thead>\n",
       "    <tr style=\"text-align: right;\">\n",
       "      <th></th>\n",
       "      <th>bp</th>\n",
       "      <th>alpha__0</th>\n",
       "      <th>alpha__1</th>\n",
       "      <th>alpha__2</th>\n",
       "      <th>alpha__3</th>\n",
       "      <th>alpha__4</th>\n",
       "      <th>alpha__5</th>\n",
       "      <th>alpha__6</th>\n",
       "      <th>bpC</th>\n",
       "    </tr>\n",
       "  </thead>\n",
       "  <tbody>\n",
       "    <tr>\n",
       "      <th>0</th>\n",
       "      <td>0.661176</td>\n",
       "      <td>-0.899297</td>\n",
       "      <td>6.395335</td>\n",
       "      <td>-1.012638</td>\n",
       "      <td>-1.138821</td>\n",
       "      <td>-0.360087</td>\n",
       "      <td>0.589264</td>\n",
       "      <td>0.432569</td>\n",
       "      <td>-0.037871</td>\n",
       "    </tr>\n",
       "    <tr>\n",
       "      <th>1</th>\n",
       "      <td>0.579221</td>\n",
       "      <td>-0.660346</td>\n",
       "      <td>6.609983</td>\n",
       "      <td>-0.651408</td>\n",
       "      <td>-1.322949</td>\n",
       "      <td>-0.919465</td>\n",
       "      <td>0.415787</td>\n",
       "      <td>2.137415</td>\n",
       "      <td>0.409617</td>\n",
       "    </tr>\n",
       "    <tr>\n",
       "      <th>2</th>\n",
       "      <td>0.361839</td>\n",
       "      <td>-0.271379</td>\n",
       "      <td>6.628812</td>\n",
       "      <td>-1.141547</td>\n",
       "      <td>-1.380073</td>\n",
       "      <td>-0.360942</td>\n",
       "      <td>0.199943</td>\n",
       "      <td>1.706148</td>\n",
       "      <td>0.107964</td>\n",
       "    </tr>\n",
       "    <tr>\n",
       "      <th>3</th>\n",
       "      <td>0.906468</td>\n",
       "      <td>-1.064950</td>\n",
       "      <td>10.358911</td>\n",
       "      <td>-0.814536</td>\n",
       "      <td>-0.595922</td>\n",
       "      <td>-0.966513</td>\n",
       "      <td>0.378236</td>\n",
       "      <td>1.974581</td>\n",
       "      <td>-0.490946</td>\n",
       "    </tr>\n",
       "    <tr>\n",
       "      <th>4</th>\n",
       "      <td>0.607095</td>\n",
       "      <td>-0.546842</td>\n",
       "      <td>14.803244</td>\n",
       "      <td>-1.007331</td>\n",
       "      <td>-1.244998</td>\n",
       "      <td>-1.086006</td>\n",
       "      <td>0.350347</td>\n",
       "      <td>2.032545</td>\n",
       "      <td>0.206660</td>\n",
       "    </tr>\n",
       "  </tbody>\n",
       "</table>\n",
       "</div>"
      ],
      "text/plain": [
       "         bp  alpha__0   alpha__1  alpha__2  alpha__3  alpha__4  alpha__5  \\\n",
       "0  0.661176 -0.899297   6.395335 -1.012638 -1.138821 -0.360087  0.589264   \n",
       "1  0.579221 -0.660346   6.609983 -0.651408 -1.322949 -0.919465  0.415787   \n",
       "2  0.361839 -0.271379   6.628812 -1.141547 -1.380073 -0.360942  0.199943   \n",
       "3  0.906468 -1.064950  10.358911 -0.814536 -0.595922 -0.966513  0.378236   \n",
       "4  0.607095 -0.546842  14.803244 -1.007331 -1.244998 -1.086006  0.350347   \n",
       "\n",
       "   alpha__6       bpC  \n",
       "0  0.432569 -0.037871  \n",
       "1  2.137415  0.409617  \n",
       "2  1.706148  0.107964  \n",
       "3  1.974581 -0.490946  \n",
       "4  2.032545  0.206660  "
      ]
     },
     "execution_count": 18,
     "metadata": {},
     "output_type": "execute_result"
    }
   ],
   "source": [
    "post = pm.trace_to_dataframe(trace_10_4)\n",
    "post.head()"
   ]
  },
  {
   "cell_type": "markdown",
   "metadata": {},
   "source": [
    "#### Code 10.18"
   ]
  },
  {
   "cell_type": "code",
   "execution_count": 19,
   "metadata": {},
   "outputs": [
    {
     "data": {
      "image/png": "[encoded data removed]",
      "text/plain": [
       "<matplotlib.figure.Figure at 0x7fa47aa6f8d0>"
      ]
     },
     "metadata": {},
     "output_type": "display_data"
    }
   ],
   "source": [
    "pm.kdeplot(post['alpha__1']);"
   ]
  },
  {
   "cell_type": "markdown",
   "metadata": {},
   "source": [
    "#### Code 10.19"
   ]
  },
  {
   "cell_type": "code",
   "execution_count": 20,
   "metadata": {
    "collapsed": true
   },
   "outputs": [],
   "source": [
    "# Posterior Prediction Plots"
   ]
  },
  {
   "cell_type": "markdown",
   "metadata": {},
   "source": [
    "#### Code 10.20"
   ]
  },
  {
   "cell_type": "code",
   "execution_count": 21,
   "metadata": {
    "collapsed": true
   },
   "outputs": [],
   "source": [
    "d_aggregated = d.groupby(['actor', 'condition', 'prosoc_left',  ])['pulled_left'].sum().reset_index()"
   ]
  },
  {
   "cell_type": "markdown",
   "metadata": {},
   "source": [
    "#### Code 10.21"
   ]
  },
  {
   "cell_type": "code",
   "execution_count": 22,
   "metadata": {},
   "outputs": [
    {
     "name": "stderr",
     "output_type": "stream",
     "text": [
      "Auto-assigning NUTS sampler...\n",
      "Initializing NUTS using ADVI...\n",
      "Average Loss = 142.68:   5%|▍         | 9581/200000 [00:01<00:29, 6428.12it/s]\n",
      "Convergence archived at 10100\n",
      "Interrupted at 10,100 [5%]: Average Loss = 154.68\n",
      "100%|██████████| 2500/2500 [00:03<00:00, 657.42it/s]\n"
     ]
    }
   ],
   "source": [
    "# indices are 0 indexed\n",
    "d['actor_0'] = d['actor'] - 1\n",
    "\n",
    "with pm.Model() as model_10_5:\n",
    "    a = pm.Normal('alpha', 0, 10)\n",
    "    bp = pm.Normal('bp', 0, 10)\n",
    "    bpC = pm.Normal('bpC', 0, 10)\n",
    "    p = pm.math.invlogit(a + (bp + bpC*d_aggregated['condition'])*d_aggregated['prosoc_left'] )\n",
    "    pulled_left = pm.Binomial('pulled_left', 18, p, observed=d_aggregated['pulled_left'])\n",
    "\n",
    "    trace_10_5 = pm.sample(2000)"
   ]
  },
  {
   "cell_type": "code",
   "execution_count": 23,
   "metadata": {},
   "outputs": [
    {
     "data": {
      "text/html": [
       "<div>\n",
       "<style>\n",
       "    .dataframe thead tr:only-child th {\n",
       "        text-align: right;\n",
       "    }\n",
       "\n",
       "    .dataframe thead th {\n",
       "        text-align: left;\n",
       "    }\n",
       "\n",
       "    .dataframe tbody tr th {\n",
       "        vertical-align: top;\n",
       "    }\n",
       "</style>\n",
       "<table border=\"1\" class=\"dataframe\">\n",
       "  <thead>\n",
       "    <tr style=\"text-align: right;\">\n",
       "      <th></th>\n",
       "      <th>mean</th>\n",
       "      <th>sd</th>\n",
       "      <th>mc_error</th>\n",
       "      <th>hpd_2.5</th>\n",
       "      <th>hpd_97.5</th>\n",
       "    </tr>\n",
       "  </thead>\n",
       "  <tbody>\n",
       "    <tr>\n",
       "      <th>alpha</th>\n",
       "      <td>0.046022</td>\n",
       "      <td>0.127651</td>\n",
       "      <td>0.003339</td>\n",
       "      <td>-0.218562</td>\n",
       "      <td>0.277854</td>\n",
       "    </tr>\n",
       "    <tr>\n",
       "      <th>bp</th>\n",
       "      <td>0.617771</td>\n",
       "      <td>0.229220</td>\n",
       "      <td>0.007033</td>\n",
       "      <td>0.171571</td>\n",
       "      <td>1.026437</td>\n",
       "    </tr>\n",
       "    <tr>\n",
       "      <th>bpC</th>\n",
       "      <td>-0.111843</td>\n",
       "      <td>0.264856</td>\n",
       "      <td>0.007116</td>\n",
       "      <td>-0.613489</td>\n",
       "      <td>0.399010</td>\n",
       "    </tr>\n",
       "  </tbody>\n",
       "</table>\n",
       "</div>"
      ],
      "text/plain": [
       "           mean        sd  mc_error   hpd_2.5  hpd_97.5\n",
       "alpha  0.046022  0.127651  0.003339 -0.218562  0.277854\n",
       "bp     0.617771  0.229220  0.007033  0.171571  1.026437\n",
       "bpC   -0.111843  0.264856  0.007116 -0.613489  0.399010"
      ]
     },
     "execution_count": 23,
     "metadata": {},
     "output_type": "execute_result"
    }
   ],
   "source": [
    "pm.df_summary(trace_10_5)"
   ]
  },
  {
   "cell_type": "code",
   "execution_count": 24,
   "metadata": {},
   "outputs": [
    {
     "data": {
      "text/plain": [
       "array([[ True,  True,  True, False, False],\n",
       "       [ True,  True,  True, False, False],\n",
       "       [ True, False,  True,  True, False]], dtype=bool)"
      ]
     },
     "execution_count": 24,
     "metadata": {},
     "output_type": "execute_result"
    }
   ],
   "source": [
    "# hacky check of similarity to 10_3, within a hundreth\n",
    "np.isclose(pm.df_summary(trace_10_5), pm.df_summary(trace_10_3), atol=0.01)"
   ]
  },
  {
   "cell_type": "markdown",
   "metadata": {},
   "source": [
    "#### Code 10.22"
   ]
  },
  {
   "cell_type": "code",
   "execution_count": 25,
   "metadata": {},
   "outputs": [
    {
     "data": {
      "text/html": [
       "<div>\n",
       "<style>\n",
       "    .dataframe thead tr:only-child th {\n",
       "        text-align: right;\n",
       "    }\n",
       "\n",
       "    .dataframe thead th {\n",
       "        text-align: left;\n",
       "    }\n",
       "\n",
       "    .dataframe tbody tr th {\n",
       "        vertical-align: top;\n",
       "    }\n",
       "</style>\n",
       "<table border=\"1\" class=\"dataframe\">\n",
       "  <thead>\n",
       "    <tr style=\"text-align: right;\">\n",
       "      <th></th>\n",
       "      <th>dept</th>\n",
       "      <th>applicant.gender</th>\n",
       "      <th>admit</th>\n",
       "      <th>reject</th>\n",
       "      <th>applications</th>\n",
       "    </tr>\n",
       "  </thead>\n",
       "  <tbody>\n",
       "    <tr>\n",
       "      <th>1</th>\n",
       "      <td>A</td>\n",
       "      <td>male</td>\n",
       "      <td>512</td>\n",
       "      <td>313</td>\n",
       "      <td>825</td>\n",
       "    </tr>\n",
       "    <tr>\n",
       "      <th>2</th>\n",
       "      <td>A</td>\n",
       "      <td>female</td>\n",
       "      <td>89</td>\n",
       "      <td>19</td>\n",
       "      <td>108</td>\n",
       "    </tr>\n",
       "    <tr>\n",
       "      <th>3</th>\n",
       "      <td>B</td>\n",
       "      <td>male</td>\n",
       "      <td>353</td>\n",
       "      <td>207</td>\n",
       "      <td>560</td>\n",
       "    </tr>\n",
       "    <tr>\n",
       "      <th>4</th>\n",
       "      <td>B</td>\n",
       "      <td>female</td>\n",
       "      <td>17</td>\n",
       "      <td>8</td>\n",
       "      <td>25</td>\n",
       "    </tr>\n",
       "    <tr>\n",
       "      <th>5</th>\n",
       "      <td>C</td>\n",
       "      <td>male</td>\n",
       "      <td>120</td>\n",
       "      <td>205</td>\n",
       "      <td>325</td>\n",
       "    </tr>\n",
       "    <tr>\n",
       "      <th>6</th>\n",
       "      <td>C</td>\n",
       "      <td>female</td>\n",
       "      <td>202</td>\n",
       "      <td>391</td>\n",
       "      <td>593</td>\n",
       "    </tr>\n",
       "    <tr>\n",
       "      <th>7</th>\n",
       "      <td>D</td>\n",
       "      <td>male</td>\n",
       "      <td>138</td>\n",
       "      <td>279</td>\n",
       "      <td>417</td>\n",
       "    </tr>\n",
       "    <tr>\n",
       "      <th>8</th>\n",
       "      <td>D</td>\n",
       "      <td>female</td>\n",
       "      <td>131</td>\n",
       "      <td>244</td>\n",
       "      <td>375</td>\n",
       "    </tr>\n",
       "    <tr>\n",
       "      <th>9</th>\n",
       "      <td>E</td>\n",
       "      <td>male</td>\n",
       "      <td>53</td>\n",
       "      <td>138</td>\n",
       "      <td>191</td>\n",
       "    </tr>\n",
       "    <tr>\n",
       "      <th>10</th>\n",
       "      <td>E</td>\n",
       "      <td>female</td>\n",
       "      <td>94</td>\n",
       "      <td>299</td>\n",
       "      <td>393</td>\n",
       "    </tr>\n",
       "    <tr>\n",
       "      <th>11</th>\n",
       "      <td>F</td>\n",
       "      <td>male</td>\n",
       "      <td>22</td>\n",
       "      <td>351</td>\n",
       "      <td>373</td>\n",
       "    </tr>\n",
       "    <tr>\n",
       "      <th>12</th>\n",
       "      <td>F</td>\n",
       "      <td>female</td>\n",
       "      <td>24</td>\n",
       "      <td>317</td>\n",
       "      <td>341</td>\n",
       "    </tr>\n",
       "  </tbody>\n",
       "</table>\n",
       "</div>"
      ],
      "text/plain": [
       "   dept applicant.gender  admit  reject  applications\n",
       "1     A             male    512     313           825\n",
       "2     A           female     89      19           108\n",
       "3     B             male    353     207           560\n",
       "4     B           female     17       8            25\n",
       "5     C             male    120     205           325\n",
       "6     C           female    202     391           593\n",
       "7     D             male    138     279           417\n",
       "8     D           female    131     244           375\n",
       "9     E             male     53     138           191\n",
       "10    E           female     94     299           393\n",
       "11    F             male     22     351           373\n",
       "12    F           female     24     317           341"
      ]
     },
     "execution_count": 25,
     "metadata": {},
     "output_type": "execute_result"
    }
   ],
   "source": [
    "d = pd.read_csv('./Data/UCBadmit.csv', sep=';')\n",
    "d"
   ]
  },
  {
   "cell_type": "markdown",
   "metadata": {},
   "source": [
    "#### Code 10.23"
   ]
  },
  {
   "cell_type": "code",
   "execution_count": 26,
   "metadata": {},
   "outputs": [
    {
     "name": "stderr",
     "output_type": "stream",
     "text": [
      "Auto-assigning NUTS sampler...\n",
      "Initializing NUTS using ADVI...\n",
      "Average Loss = 460.16:   5%|▌         | 10071/200000 [00:01<00:26, 7129.47it/s]\n",
      "Convergence archived at 10200\n",
      "Interrupted at 10,200 [5%]: Average Loss = 603.42\n",
      "100%|██████████| 2500/2500 [00:02<00:00, 893.23it/s]\n",
      "Auto-assigning NUTS sampler...\n",
      "Initializing NUTS using ADVI...\n",
      "Average Loss = 491.02:   4%|▍         | 8961/200000 [00:01<00:23, 8143.97it/s]\n",
      "Convergence archived at 9700\n",
      "Interrupted at 9,700 [4%]: Average Loss = 566.9\n",
      "100%|██████████| 2500/2500 [00:01<00:00, 1467.97it/s]\n"
     ]
    }
   ],
   "source": [
    "d['male'] = (d['applicant.gender'] == 'male').astype(int)\n",
    "\n",
    "with pm.Model() as model_10_6:\n",
    "    a = pm.Normal('a', 0, 10)\n",
    "    bm = pm.Normal('bm', 0, 10)\n",
    "    p = pm.math.invlogit(a + bm*d['male'])\n",
    "    admit = pm.Binomial('admit', p=p, n=d['applications'], observed=d['admit'])\n",
    "    \n",
    "    trace_10_6 = pm.sample(2000)\n",
    "    \n",
    "with pm.Model() as model_10_7:\n",
    "    a = pm.Normal('a', 0, 10)\n",
    "    p = pm.math.invlogit(a)\n",
    "    admit = pm.Binomial('admit', p=p, n=d['applications'], observed=d['admit'])\n",
    "    \n",
    "    trace_10_7 = pm.sample(2000)"
   ]
  },
  {
   "cell_type": "markdown",
   "metadata": {},
   "source": [
    "#### Code 10.24"
   ]
  },
  {
   "cell_type": "code",
   "execution_count": 27,
   "metadata": {},
   "outputs": [
    {
     "data": {
      "text/html": [
       "<div>\n",
       "<style>\n",
       "    .dataframe thead tr:only-child th {\n",
       "        text-align: right;\n",
       "    }\n",
       "\n",
       "    .dataframe thead th {\n",
       "        text-align: left;\n",
       "    }\n",
       "\n",
       "    .dataframe tbody tr th {\n",
       "        vertical-align: top;\n",
       "    }\n",
       "</style>\n",
       "<table border=\"1\" class=\"dataframe\">\n",
       "  <thead>\n",
       "    <tr style=\"text-align: right;\">\n",
       "      <th></th>\n",
       "      <th>WAIC</th>\n",
       "      <th>pWAIC</th>\n",
       "      <th>dWAIC</th>\n",
       "      <th>weight</th>\n",
       "      <th>SE</th>\n",
       "      <th>dSE</th>\n",
       "      <th>warning</th>\n",
       "    </tr>\n",
       "  </thead>\n",
       "  <tbody>\n",
       "    <tr>\n",
       "      <th>0</th>\n",
       "      <td>985.364</td>\n",
       "      <td>111.225</td>\n",
       "      <td>0</td>\n",
       "      <td>1</td>\n",
       "      <td>309.984</td>\n",
       "      <td>0</td>\n",
       "      <td>1</td>\n",
       "    </tr>\n",
       "    <tr>\n",
       "      <th>1</th>\n",
       "      <td>1059.02</td>\n",
       "      <td>91.227</td>\n",
       "      <td>73.6561</td>\n",
       "      <td>1.01341e-16</td>\n",
       "      <td>318.694</td>\n",
       "      <td>7570.07</td>\n",
       "      <td>1</td>\n",
       "    </tr>\n",
       "  </tbody>\n",
       "</table>\n",
       "</div>"
      ],
      "text/plain": [
       "      WAIC    pWAIC    dWAIC       weight       SE      dSE warning\n",
       "0  985.364  111.225        0            1  309.984        0       1\n",
       "1  1059.02   91.227  73.6561  1.01341e-16  318.694  7570.07       1"
      ]
     },
     "execution_count": 27,
     "metadata": {},
     "output_type": "execute_result"
    }
   ],
   "source": [
    "# Something goofy here... \n",
    "# not even close to WAIC values, larger standard error\n",
    "\n",
    "comp_df = pm.compare(traces=[trace_10_6, trace_10_7], models=[model_10_6, model_10_7])\n",
    "comp_df"
   ]
  },
  {
   "cell_type": "markdown",
   "metadata": {},
   "source": [
    "#### Code 10.25"
   ]
  },
  {
   "cell_type": "code",
   "execution_count": 28,
   "metadata": {},
   "outputs": [
    {
     "data": {
      "text/html": [
       "<div>\n",
       "<style>\n",
       "    .dataframe thead tr:only-child th {\n",
       "        text-align: right;\n",
       "    }\n",
       "\n",
       "    .dataframe thead th {\n",
       "        text-align: left;\n",
       "    }\n",
       "\n",
       "    .dataframe tbody tr th {\n",
       "        vertical-align: top;\n",
       "    }\n",
       "</style>\n",
       "<table border=\"1\" class=\"dataframe\">\n",
       "  <thead>\n",
       "    <tr style=\"text-align: right;\">\n",
       "      <th></th>\n",
       "      <th>mean</th>\n",
       "      <th>sd</th>\n",
       "      <th>mc_error</th>\n",
       "      <th>hpd_2.5</th>\n",
       "      <th>hpd_97.5</th>\n",
       "    </tr>\n",
       "  </thead>\n",
       "  <tbody>\n",
       "    <tr>\n",
       "      <th>a</th>\n",
       "      <td>-0.828383</td>\n",
       "      <td>0.050765</td>\n",
       "      <td>0.002171</td>\n",
       "      <td>-0.927574</td>\n",
       "      <td>-0.732577</td>\n",
       "    </tr>\n",
       "    <tr>\n",
       "      <th>bm</th>\n",
       "      <td>0.606661</td>\n",
       "      <td>0.063442</td>\n",
       "      <td>0.002820</td>\n",
       "      <td>0.475581</td>\n",
       "      <td>0.721417</td>\n",
       "    </tr>\n",
       "  </tbody>\n",
       "</table>\n",
       "</div>"
      ],
      "text/plain": [
       "        mean        sd  mc_error   hpd_2.5  hpd_97.5\n",
       "a  -0.828383  0.050765  0.002171 -0.927574 -0.732577\n",
       "bm  0.606661  0.063442  0.002820  0.475581  0.721417"
      ]
     },
     "execution_count": 28,
     "metadata": {},
     "output_type": "execute_result"
    }
   ],
   "source": [
    "pm.df_summary(trace_10_6)"
   ]
  },
  {
   "cell_type": "markdown",
   "metadata": {},
   "source": [
    "#### Code 10.26"
   ]
  },
  {
   "cell_type": "code",
   "execution_count": 31,
   "metadata": {},
   "outputs": [
    {
     "data": {
      "text/plain": [
       "count    2000.000000\n",
       "mean        0.140722\n",
       "std         0.014275\n",
       "min         0.100471\n",
       "2.5%        0.112610\n",
       "50%         0.140886\n",
       "97.5%       0.168409\n",
       "max         0.191535\n",
       "dtype: float64"
      ]
     },
     "execution_count": 31,
     "metadata": {},
     "output_type": "execute_result"
    }
   ],
   "source": [
    "post = pm.trace_to_dataframe(trace_10_6)\n",
    "p_admit_male = logistic(post['a'] + post['bm'])\n",
    "p_admit_female = logistic(post['a'])\n",
    "diff_admit = p_admit_male - p_admit_female\n",
    "diff_admit.describe(percentiles=[.025, .5, .975])"
   ]
  },
  {
   "cell_type": "markdown",
   "metadata": {},
   "source": [
    "#### Code 10.27"
   ]
  },
  {
   "cell_type": "code",
   "execution_count": null,
   "metadata": {
    "collapsed": true
   },
   "outputs": [],
   "source": [
    "# Posterior Predictive Check Plotting"
   ]
  },
  {
   "cell_type": "markdown",
   "metadata": {},
   "source": [
    "#### Code 10.28"
   ]
  },
  {
   "cell_type": "code",
   "execution_count": 32,
   "metadata": {},
   "outputs": [
    {
     "name": "stdout",
     "output_type": "stream",
     "text": [
      "B 1\n",
      "A 0\n",
      "E 4\n",
      "D 3\n",
      "C 2\n",
      "F 5\n"
     ]
    }
   ],
   "source": [
    "depts = d['dept'].unique()\n",
    "dept_index = dict(zip(depts, range(len(depts))))\n",
    "d['dept_id'] = d['dept'].map(dept_index)\n",
    "for dept in dept_index:\n",
    "    print(dept, dept_index[dept])"
   ]
  },
  {
   "cell_type": "markdown",
   "metadata": {},
   "source": [
    "⚠️ Note when doing this index mapping, you need to append `.values` to the indexed values in the model, otherwise you'll get:\n",
    "\n",
    "```\n",
    "TypeError: invalid type comparison```"
   ]
  },
  {
   "cell_type": "code",
   "execution_count": 33,
   "metadata": {},
   "outputs": [
    {
     "name": "stderr",
     "output_type": "stream",
     "text": [
      "Auto-assigning NUTS sampler...\n",
      "Initializing NUTS using ADVI...\n",
      "Average Loss = 77.036:   5%|▌         | 10862/200000 [00:01<00:25, 7351.28it/s]\n",
      "Convergence archived at 10900\n",
      "Interrupted at 10,900 [5%]: Average Loss = 241.73\n",
      "100%|██████████| 2500/2500 [00:03<00:00, 737.89it/s]\n",
      "Auto-assigning NUTS sampler...\n",
      "Initializing NUTS using ADVI...\n",
      "Average Loss = 86.999:   5%|▌         | 10677/200000 [00:01<01:19, 2387.24it/s]\n",
      "Convergence archived at 11000\n",
      "Interrupted at 11,000 [5%]: Average Loss = 282.47\n",
      "100%|██████████| 2500/2500 [00:04<00:00, 597.40it/s]\n"
     ]
    }
   ],
   "source": [
    "with pm.Model() as model_10_8:\n",
    "    a = pm.Normal('a', 0, 10, shape=len(depts))\n",
    "    p = pm.math.invlogit(a[d['dept_id'].values])\n",
    "    admit = pm.Binomial('admit', p=p, n=d['applications'], observed=d['admit'])\n",
    "    \n",
    "    trace_10_8 = pm.sample(2000)\n",
    "\n",
    "with pm.Model() as model_10_9:\n",
    "    a = pm.Normal('a', 0, 10, shape=len(depts))\n",
    "    bm = pm.Normal('bm', 0, 10)\n",
    "    p = pm.math.invlogit(a[d['dept_id'].values] + bm*d['male'])\n",
    "    admit = pm.Binomial('admit', p=p, n=d['applications'], observed=d['admit'])\n",
    "    \n",
    "    trace_10_9 = pm.sample(2000)"
   ]
  },
  {
   "cell_type": "markdown",
   "metadata": {},
   "source": [
    "#### Code 10.29"
   ]
  },
  {
   "cell_type": "code",
   "execution_count": 34,
   "metadata": {},
   "outputs": [
    {
     "data": {
      "text/html": [
       "<div>\n",
       "<style>\n",
       "    .dataframe thead tr:only-child th {\n",
       "        text-align: right;\n",
       "    }\n",
       "\n",
       "    .dataframe thead th {\n",
       "        text-align: left;\n",
       "    }\n",
       "\n",
       "    .dataframe tbody tr th {\n",
       "        vertical-align: top;\n",
       "    }\n",
       "</style>\n",
       "<table border=\"1\" class=\"dataframe\">\n",
       "  <thead>\n",
       "    <tr style=\"text-align: right;\">\n",
       "      <th></th>\n",
       "      <th>WAIC</th>\n",
       "      <th>pWAIC</th>\n",
       "      <th>dWAIC</th>\n",
       "      <th>weight</th>\n",
       "      <th>SE</th>\n",
       "      <th>dSE</th>\n",
       "      <th>warning</th>\n",
       "    </tr>\n",
       "  </thead>\n",
       "  <tbody>\n",
       "    <tr>\n",
       "      <th>2</th>\n",
       "      <td>104.862</td>\n",
       "      <td>6.43161</td>\n",
       "      <td>0</td>\n",
       "      <td>0.85756</td>\n",
       "      <td>17.161</td>\n",
       "      <td>0</td>\n",
       "      <td>1</td>\n",
       "    </tr>\n",
       "    <tr>\n",
       "      <th>3</th>\n",
       "      <td>108.452</td>\n",
       "      <td>9.43187</td>\n",
       "      <td>3.59034</td>\n",
       "      <td>0.14244</td>\n",
       "      <td>15.4138</td>\n",
       "      <td>4.18028</td>\n",
       "      <td>1</td>\n",
       "    </tr>\n",
       "    <tr>\n",
       "      <th>0</th>\n",
       "      <td>985.364</td>\n",
       "      <td>111.225</td>\n",
       "      <td>880.502</td>\n",
       "      <td>5.42732e-192</td>\n",
       "      <td>309.984</td>\n",
       "      <td>27192.7</td>\n",
       "      <td>1</td>\n",
       "    </tr>\n",
       "    <tr>\n",
       "      <th>1</th>\n",
       "      <td>1059.02</td>\n",
       "      <td>91.227</td>\n",
       "      <td>954.159</td>\n",
       "      <td>5.50012e-208</td>\n",
       "      <td>318.694</td>\n",
       "      <td>28864.2</td>\n",
       "      <td>1</td>\n",
       "    </tr>\n",
       "  </tbody>\n",
       "</table>\n",
       "</div>"
      ],
      "text/plain": [
       "      WAIC    pWAIC    dWAIC        weight       SE      dSE warning\n",
       "2  104.862  6.43161        0       0.85756   17.161        0       1\n",
       "3  108.452  9.43187  3.59034       0.14244  15.4138  4.18028       1\n",
       "0  985.364  111.225  880.502  5.42732e-192  309.984  27192.7       1\n",
       "1  1059.02   91.227  954.159  5.50012e-208  318.694  28864.2       1"
      ]
     },
     "execution_count": 34,
     "metadata": {},
     "output_type": "execute_result"
    }
   ],
   "source": [
    "# WAIC values still off\n",
    "# Plus warning flag\n",
    "\n",
    "comp_df = pm.compare(traces=[trace_10_6, trace_10_7, trace_10_8, trace_10_9], models=[model_10_6, model_10_7, model_10_8, model_10_9])\n",
    "comp_df"
   ]
  },
  {
   "cell_type": "markdown",
   "metadata": {},
   "source": [
    "#### Code 10.30"
   ]
  },
  {
   "cell_type": "code",
   "execution_count": 35,
   "metadata": {},
   "outputs": [
    {
     "data": {
      "text/html": [
       "<div>\n",
       "<style>\n",
       "    .dataframe thead tr:only-child th {\n",
       "        text-align: right;\n",
       "    }\n",
       "\n",
       "    .dataframe thead th {\n",
       "        text-align: left;\n",
       "    }\n",
       "\n",
       "    .dataframe tbody tr th {\n",
       "        vertical-align: top;\n",
       "    }\n",
       "</style>\n",
       "<table border=\"1\" class=\"dataframe\">\n",
       "  <thead>\n",
       "    <tr style=\"text-align: right;\">\n",
       "      <th></th>\n",
       "      <th>mean</th>\n",
       "      <th>sd</th>\n",
       "      <th>mc_error</th>\n",
       "      <th>hpd_2.5</th>\n",
       "      <th>hpd_97.5</th>\n",
       "    </tr>\n",
       "  </thead>\n",
       "  <tbody>\n",
       "    <tr>\n",
       "      <th>a__0</th>\n",
       "      <td>0.68</td>\n",
       "      <td>0.10</td>\n",
       "      <td>0.0</td>\n",
       "      <td>0.50</td>\n",
       "      <td>0.88</td>\n",
       "    </tr>\n",
       "    <tr>\n",
       "      <th>a__1</th>\n",
       "      <td>0.64</td>\n",
       "      <td>0.12</td>\n",
       "      <td>0.0</td>\n",
       "      <td>0.41</td>\n",
       "      <td>0.86</td>\n",
       "    </tr>\n",
       "    <tr>\n",
       "      <th>a__2</th>\n",
       "      <td>-0.58</td>\n",
       "      <td>0.08</td>\n",
       "      <td>0.0</td>\n",
       "      <td>-0.73</td>\n",
       "      <td>-0.44</td>\n",
       "    </tr>\n",
       "    <tr>\n",
       "      <th>a__3</th>\n",
       "      <td>-0.61</td>\n",
       "      <td>0.09</td>\n",
       "      <td>0.0</td>\n",
       "      <td>-0.79</td>\n",
       "      <td>-0.45</td>\n",
       "    </tr>\n",
       "    <tr>\n",
       "      <th>a__4</th>\n",
       "      <td>-1.06</td>\n",
       "      <td>0.10</td>\n",
       "      <td>0.0</td>\n",
       "      <td>-1.24</td>\n",
       "      <td>-0.86</td>\n",
       "    </tr>\n",
       "    <tr>\n",
       "      <th>a__5</th>\n",
       "      <td>-2.63</td>\n",
       "      <td>0.16</td>\n",
       "      <td>0.0</td>\n",
       "      <td>-2.95</td>\n",
       "      <td>-2.33</td>\n",
       "    </tr>\n",
       "    <tr>\n",
       "      <th>bm</th>\n",
       "      <td>-0.10</td>\n",
       "      <td>0.08</td>\n",
       "      <td>0.0</td>\n",
       "      <td>-0.25</td>\n",
       "      <td>0.06</td>\n",
       "    </tr>\n",
       "  </tbody>\n",
       "</table>\n",
       "</div>"
      ],
      "text/plain": [
       "      mean    sd  mc_error  hpd_2.5  hpd_97.5\n",
       "a__0  0.68  0.10       0.0     0.50      0.88\n",
       "a__1  0.64  0.12       0.0     0.41      0.86\n",
       "a__2 -0.58  0.08       0.0    -0.73     -0.44\n",
       "a__3 -0.61  0.09       0.0    -0.79     -0.45\n",
       "a__4 -1.06  0.10       0.0    -1.24     -0.86\n",
       "a__5 -2.63  0.16       0.0    -2.95     -2.33\n",
       "bm   -0.10  0.08       0.0    -0.25      0.06"
      ]
     },
     "execution_count": 35,
     "metadata": {},
     "output_type": "execute_result"
    }
   ],
   "source": [
    "pm.df_summary(trace_10_9).round(2)"
   ]
  },
  {
   "cell_type": "markdown",
   "metadata": {},
   "source": [
    "#### Code 10.31\n",
    "Replicated model above but with MCMC in book."
   ]
  }
 ],
 "metadata": {
  "kernelspec": {
   "display_name": "Python 3",
   "language": "python",
   "name": "python3"
  },
  "language_info": {
   "codemirror_mode": {
    "name": "ipython",
    "version": 3
   },
   "file_extension": ".py",
   "mimetype": "text/x-python",
   "name": "python",
   "nbconvert_exporter": "python",
   "pygments_lexer": "ipython3",
   "version": "3.5.3"
  }
 },
 "nbformat": 4,
 "nbformat_minor": 1
}
