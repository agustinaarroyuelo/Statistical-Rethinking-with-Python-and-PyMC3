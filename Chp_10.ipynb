{
 "cells": [
  {
   "cell_type": "code",
   "execution_count": 1,
   "metadata": {
    "collapsed": true
   },
   "outputs": [],
   "source": [
    "%matplotlib inline\n",
    "import pymc3 as pm\n",
    "import numpy as np\n",
    "import pandas as pd\n",
    "from scipy import stats\n",
    "from scipy.special import expit as logistic\n",
    "import matplotlib.pyplot as plt\n",
    "plt.style.use(['seaborn-colorblind', 'seaborn-darkgrid'])"
   ]
  },
  {
   "cell_type": "markdown",
   "metadata": {},
   "source": [
    "#### Code 10.1"
   ]
  },
  {
   "cell_type": "code",
   "execution_count": 2,
   "metadata": {
    "collapsed": true
   },
   "outputs": [],
   "source": [
    "d = pd.read_csv('Data/chimpanzees.csv', sep=\";\")\n",
    "# we change \"actor\" to zero-index\n",
    "d.actor = d.actor - 1"
   ]
  },
  {
   "cell_type": "markdown",
   "metadata": {},
   "source": [
    "#### Code 10.2"
   ]
  },
  {
   "cell_type": "code",
   "execution_count": 3,
   "metadata": {},
   "outputs": [
    {
     "name": "stderr",
     "output_type": "stream",
     "text": [
      "Auto-assigning NUTS sampler...\n",
      "Initializing NUTS using jitter+adapt_diag...\n",
      "100%|██████████| 2500/2500 [00:03<00:00, 677.00it/s] \n"
     ]
    }
   ],
   "source": [
    "with pm.Model() as model_10_1:\n",
    "    a = pm.Normal('a', 0, 10)\n",
    "    bp = pm.Normal('bp', 0, 10)\n",
    "    p = pm.math.invlogit(a)    \n",
    "    pulled_left = pm.Binomial('pulled_left', 1, p, observed=d.pulled_left)\n",
    "\n",
    "    trace_10_1 = pm.sample(2000)"
   ]
  },
  {
   "cell_type": "code",
   "execution_count": 4,
   "metadata": {},
   "outputs": [
    {
     "data": {
      "text/html": [
       "<div>\n",
       "<style>\n",
       "    .dataframe thead tr:only-child th {\n",
       "        text-align: right;\n",
       "    }\n",
       "\n",
       "    .dataframe thead th {\n",
       "        text-align: left;\n",
       "    }\n",
       "\n",
       "    .dataframe tbody tr th {\n",
       "        vertical-align: top;\n",
       "    }\n",
       "</style>\n",
       "<table border=\"1\" class=\"dataframe\">\n",
       "  <thead>\n",
       "    <tr style=\"text-align: right;\">\n",
       "      <th></th>\n",
       "      <th>mean</th>\n",
       "      <th>sd</th>\n",
       "      <th>mc_error</th>\n",
       "      <th>hpd_5.5</th>\n",
       "      <th>hpd_94.5</th>\n",
       "    </tr>\n",
       "  </thead>\n",
       "  <tbody>\n",
       "    <tr>\n",
       "      <th>a</th>\n",
       "      <td>0.32</td>\n",
       "      <td>0.09</td>\n",
       "      <td>0.00</td>\n",
       "      <td>0.18</td>\n",
       "      <td>0.45</td>\n",
       "    </tr>\n",
       "    <tr>\n",
       "      <th>bp</th>\n",
       "      <td>-0.13</td>\n",
       "      <td>10.02</td>\n",
       "      <td>0.15</td>\n",
       "      <td>-15.30</td>\n",
       "      <td>16.80</td>\n",
       "    </tr>\n",
       "  </tbody>\n",
       "</table>\n",
       "</div>"
      ],
      "text/plain": [
       "    mean     sd  mc_error  hpd_5.5  hpd_94.5\n",
       "a   0.32   0.09      0.00     0.18      0.45\n",
       "bp -0.13  10.02      0.15   -15.30     16.80"
      ]
     },
     "execution_count": 4,
     "metadata": {},
     "output_type": "execute_result"
    }
   ],
   "source": [
    "df_10_1 = pm.df_summary(trace_10_1, alpha=0.11)\n",
    "df_10_1.round(2)"
   ]
  },
  {
   "cell_type": "markdown",
   "metadata": {},
   "source": [
    "#### Code 10.3"
   ]
  },
  {
   "cell_type": "code",
   "execution_count": 5,
   "metadata": {},
   "outputs": [
    {
     "data": {
      "text/html": [
       "<div>\n",
       "<style>\n",
       "    .dataframe thead tr:only-child th {\n",
       "        text-align: right;\n",
       "    }\n",
       "\n",
       "    .dataframe thead th {\n",
       "        text-align: left;\n",
       "    }\n",
       "\n",
       "    .dataframe tbody tr th {\n",
       "        vertical-align: top;\n",
       "    }\n",
       "</style>\n",
       "<table border=\"1\" class=\"dataframe\">\n",
       "  <thead>\n",
       "    <tr style=\"text-align: right;\">\n",
       "      <th></th>\n",
       "      <th>hpd_5.5</th>\n",
       "      <th>hpd_94.5</th>\n",
       "    </tr>\n",
       "  </thead>\n",
       "  <tbody>\n",
       "    <tr>\n",
       "      <th>a</th>\n",
       "      <td>0.54</td>\n",
       "      <td>0.61</td>\n",
       "    </tr>\n",
       "    <tr>\n",
       "      <th>bp</th>\n",
       "      <td>0.00</td>\n",
       "      <td>1.00</td>\n",
       "    </tr>\n",
       "  </tbody>\n",
       "</table>\n",
       "</div>"
      ],
      "text/plain": [
       "    hpd_5.5  hpd_94.5\n",
       "a      0.54      0.61\n",
       "bp     0.00      1.00"
      ]
     },
     "execution_count": 5,
     "metadata": {},
     "output_type": "execute_result"
    }
   ],
   "source": [
    "logistic(df_10_1.iloc[:,-2:]).round(2)"
   ]
  },
  {
   "cell_type": "markdown",
   "metadata": {},
   "source": [
    "#### Code 10.4"
   ]
  },
  {
   "cell_type": "code",
   "execution_count": 6,
   "metadata": {},
   "outputs": [
    {
     "name": "stderr",
     "output_type": "stream",
     "text": [
      "Auto-assigning NUTS sampler...\n",
      "Initializing NUTS using jitter+adapt_diag...\n",
      "100%|██████████| 2500/2500 [00:06<00:00, 367.30it/s]\n",
      "Auto-assigning NUTS sampler...\n",
      "Initializing NUTS using jitter+adapt_diag...\n",
      "100%|██████████| 2500/2500 [00:09<00:00, 263.73it/s]\n"
     ]
    }
   ],
   "source": [
    "with pm.Model() as model_10_2:\n",
    "    a = pm.Normal('a', 0, 10)\n",
    "    bp = pm.Normal('bp', 0, 10)\n",
    "    p = pm.math.invlogit(a + bp * d.prosoc_left)\n",
    "    pulled_left = pm.Binomial('pulled_left', 1, p, observed=d.pulled_left)\n",
    "\n",
    "    trace_10_2 = pm.sample(2000)\n",
    "\n",
    "with pm.Model() as model_10_3:\n",
    "    a = pm.Normal('a', 0, 10)\n",
    "    bp = pm.Normal('bp', 0, 10)\n",
    "    bpC = pm.Normal('bpC', 0, 10)\n",
    "    p = pm.math.invlogit(a + (bp + bpC * d.condition) * d.prosoc_left)\n",
    "    pulled_left = pm.Binomial('pulled_left', 1, p, observed=d.pulled_left)\n",
    "\n",
    "    trace_10_3 = pm.sample(2000)"
   ]
  },
  {
   "cell_type": "markdown",
   "metadata": {},
   "source": [
    "#### Code 10.5"
   ]
  },
  {
   "cell_type": "code",
   "execution_count": 7,
   "metadata": {},
   "outputs": [
    {
     "data": {
      "text/html": [
       "<div>\n",
       "<style>\n",
       "    .dataframe thead tr:only-child th {\n",
       "        text-align: right;\n",
       "    }\n",
       "\n",
       "    .dataframe thead th {\n",
       "        text-align: left;\n",
       "    }\n",
       "\n",
       "    .dataframe tbody tr th {\n",
       "        vertical-align: top;\n",
       "    }\n",
       "</style>\n",
       "<table border=\"1\" class=\"dataframe\">\n",
       "  <thead>\n",
       "    <tr style=\"text-align: right;\">\n",
       "      <th></th>\n",
       "      <th>WAIC</th>\n",
       "      <th>pWAIC</th>\n",
       "      <th>dWAIC</th>\n",
       "      <th>weight</th>\n",
       "      <th>SE</th>\n",
       "      <th>dSE</th>\n",
       "      <th>warning</th>\n",
       "    </tr>\n",
       "  </thead>\n",
       "  <tbody>\n",
       "    <tr>\n",
       "      <th>1</th>\n",
       "      <td>680.64</td>\n",
       "      <td>2.07</td>\n",
       "      <td>0</td>\n",
       "      <td>0.69</td>\n",
       "      <td>9.36</td>\n",
       "      <td>0</td>\n",
       "      <td>0</td>\n",
       "    </tr>\n",
       "    <tr>\n",
       "      <th>2</th>\n",
       "      <td>682.39</td>\n",
       "      <td>3.02</td>\n",
       "      <td>1.75</td>\n",
       "      <td>0.29</td>\n",
       "      <td>9.48</td>\n",
       "      <td>0.85</td>\n",
       "      <td>0</td>\n",
       "    </tr>\n",
       "    <tr>\n",
       "      <th>0</th>\n",
       "      <td>687.84</td>\n",
       "      <td>0.95</td>\n",
       "      <td>7.2</td>\n",
       "      <td>0.02</td>\n",
       "      <td>7.1</td>\n",
       "      <td>6.2</td>\n",
       "      <td>0</td>\n",
       "    </tr>\n",
       "  </tbody>\n",
       "</table>\n",
       "</div>"
      ],
      "text/plain": [
       "     WAIC pWAIC dWAIC weight    SE   dSE warning\n",
       "1  680.64  2.07     0   0.69  9.36     0       0\n",
       "2  682.39  3.02  1.75   0.29  9.48  0.85       0\n",
       "0  687.84  0.95   7.2   0.02   7.1   6.2       0"
      ]
     },
     "execution_count": 7,
     "metadata": {},
     "output_type": "execute_result"
    }
   ],
   "source": [
    "comp_df = pm.compare(traces=[trace_10_1, trace_10_2, trace_10_3],\n",
    "                     models=[model_10_1, model_10_2, model_10_3],\n",
    "                     method='pseudo-BMA')\n",
    "comp_df.round(2)"
   ]
  },
  {
   "cell_type": "code",
   "execution_count": 8,
   "metadata": {},
   "outputs": [
    {
     "data": {
      "image/png": "[encoded data removed]",
      "text/plain": [
       "<matplotlib.figure.Figure at 0x7f501a2d0898>"
      ]
     },
     "metadata": {},
     "output_type": "display_data"
    }
   ],
   "source": [
    "pm.compareplot(comp_df);"
   ]
  },
  {
   "cell_type": "markdown",
   "metadata": {},
   "source": [
    "#### Code 10.6"
   ]
  },
  {
   "cell_type": "code",
   "execution_count": 9,
   "metadata": {},
   "outputs": [
    {
     "data": {
      "text/html": [
       "<div>\n",
       "<style>\n",
       "    .dataframe thead tr:only-child th {\n",
       "        text-align: right;\n",
       "    }\n",
       "\n",
       "    .dataframe thead th {\n",
       "        text-align: left;\n",
       "    }\n",
       "\n",
       "    .dataframe tbody tr th {\n",
       "        vertical-align: top;\n",
       "    }\n",
       "</style>\n",
       "<table border=\"1\" class=\"dataframe\">\n",
       "  <thead>\n",
       "    <tr style=\"text-align: right;\">\n",
       "      <th></th>\n",
       "      <th>mean</th>\n",
       "      <th>sd</th>\n",
       "      <th>mc_error</th>\n",
       "      <th>hpd_2.5</th>\n",
       "      <th>hpd_97.5</th>\n",
       "    </tr>\n",
       "  </thead>\n",
       "  <tbody>\n",
       "    <tr>\n",
       "      <th>a</th>\n",
       "      <td>0.05</td>\n",
       "      <td>0.12</td>\n",
       "      <td>0.0</td>\n",
       "      <td>-0.18</td>\n",
       "      <td>0.30</td>\n",
       "    </tr>\n",
       "    <tr>\n",
       "      <th>bp</th>\n",
       "      <td>0.62</td>\n",
       "      <td>0.23</td>\n",
       "      <td>0.0</td>\n",
       "      <td>0.16</td>\n",
       "      <td>1.06</td>\n",
       "    </tr>\n",
       "    <tr>\n",
       "      <th>bpC</th>\n",
       "      <td>-0.11</td>\n",
       "      <td>0.26</td>\n",
       "      <td>0.0</td>\n",
       "      <td>-0.60</td>\n",
       "      <td>0.41</td>\n",
       "    </tr>\n",
       "  </tbody>\n",
       "</table>\n",
       "</div>"
      ],
      "text/plain": [
       "     mean    sd  mc_error  hpd_2.5  hpd_97.5\n",
       "a    0.05  0.12       0.0    -0.18      0.30\n",
       "bp   0.62  0.23       0.0     0.16      1.06\n",
       "bpC -0.11  0.26       0.0    -0.60      0.41"
      ]
     },
     "execution_count": 9,
     "metadata": {},
     "output_type": "execute_result"
    }
   ],
   "source": [
    "pm.df_summary(trace_10_3).round(2)"
   ]
  },
  {
   "cell_type": "markdown",
   "metadata": {},
   "source": [
    "#### Code 10.7"
   ]
  },
  {
   "cell_type": "code",
   "execution_count": 10,
   "metadata": {},
   "outputs": [
    {
     "data": {
      "text/plain": [
       "1.8404313987816374"
      ]
     },
     "execution_count": 10,
     "metadata": {},
     "output_type": "execute_result"
    }
   ],
   "source": [
    "np.exp(0.61)"
   ]
  },
  {
   "cell_type": "markdown",
   "metadata": {},
   "source": [
    "#### Code 10.8"
   ]
  },
  {
   "cell_type": "code",
   "execution_count": 11,
   "metadata": {},
   "outputs": [
    {
     "data": {
      "text/plain": [
       "0.98201379003790845"
      ]
     },
     "execution_count": 11,
     "metadata": {},
     "output_type": "execute_result"
    }
   ],
   "source": [
    "logistic(4)"
   ]
  },
  {
   "cell_type": "markdown",
   "metadata": {},
   "source": [
    "#### Code 10.9"
   ]
  },
  {
   "cell_type": "code",
   "execution_count": 12,
   "metadata": {},
   "outputs": [
    {
     "data": {
      "text/plain": [
       "0.99014624447676869"
      ]
     },
     "execution_count": 12,
     "metadata": {},
     "output_type": "execute_result"
    }
   ],
   "source": [
    "logistic(4 + 0.61)"
   ]
  },
  {
   "cell_type": "markdown",
   "metadata": {},
   "source": [
    "#### Code 10.10 and 10.11"
   ]
  },
  {
   "cell_type": "code",
   "execution_count": 13,
   "metadata": {},
   "outputs": [
    {
     "name": "stderr",
     "output_type": "stream",
     "text": [
      "100%|██████████| 1000/1000 [00:00<00:00, 1098.66it/s]\n"
     ]
    }
   ],
   "source": [
    "d_pred = pd.DataFrame({'prosoc_left' : [0, 1, 0, 1], 'condition' : [0, 0, 1, 1]})\n",
    "traces = [trace_10_1, trace_10_2, trace_10_3]\n",
    "models = [model_10_1, model_10_2, model_10_3]\n",
    "\n",
    "\n",
    "chimp_ensemble = pm.sample_ppc_w(traces=traces, models=models, samples=1000, \n",
    "                                 weights=comp_df.weight.sort_index(ascending=True))"
   ]
  },
  {
   "cell_type": "code",
   "execution_count": 14,
   "metadata": {},
   "outputs": [
    {
     "data": {
      "image/png": "[encoded data removed]",
      "text/plain": [
       "<matplotlib.figure.Figure at 0x7f50047ff320>"
      ]
     },
     "metadata": {},
     "output_type": "display_data"
    }
   ],
   "source": [
    "rt = chimp_ensemble['pulled_left']\n",
    "pred_mean = np.zeros((1000, 4))\n",
    "cond = d.condition.unique()\n",
    "prosoc_l = d.prosoc_left.unique()\n",
    "for i in range(len(rt)):\n",
    "    tmp = []\n",
    "    for cp in cond:\n",
    "        for pl in prosoc_l:\n",
    "            tmp.append(np.mean(rt[i][(d.prosoc_left==pl) & (d.chose_prosoc==cp)]))\n",
    "    pred_mean[i] = tmp\n",
    "    \n",
    "ticks = range(4)\n",
    "mp = pred_mean.mean(0)\n",
    "hpd = pm.hpd(pred_mean)\n",
    "plt.fill_between(ticks, hpd[:,1], hpd[:,0], alpha=0.25, color='k')\n",
    "plt.plot(mp, color='k')\n",
    "plt.xticks(ticks, (\"0/0\",\"1/0\",\"0/1\",\"1/1\"))\n",
    "chimps = d.groupby(['actor', 'prosoc_left', 'condition']).agg('mean')['pulled_left'].values.reshape(7, -1)\n",
    "for i in range(7):\n",
    "    plt.plot(chimps[i], 'C0')\n",
    "\n",
    "plt.ylim(0, 1.1);"
   ]
  },
  {
   "cell_type": "markdown",
   "metadata": {},
   "source": [
    "#### Code 10.12 & 10.13\n",
    "This is the same as 10.6, but in the book using MCMC rather than quadratic approximation."
   ]
  },
  {
   "cell_type": "markdown",
   "metadata": {},
   "source": [
    "#### Code 10.14"
   ]
  },
  {
   "cell_type": "code",
   "execution_count": 15,
   "metadata": {},
   "outputs": [
    {
     "name": "stderr",
     "output_type": "stream",
     "text": [
      "Auto-assigning NUTS sampler...\n",
      "Initializing NUTS using jitter+adapt_diag...\n",
      "100%|█████████▉| 2493/2500 [00:18<00:00, 147.29it/s]/home/osvaldo/Documentos/Proyectos/01_PyMC3/pymc3/pymc3/step_methods/hmc/nuts.py:468: UserWarning: Chain 0 contains 3 diverging samples after tuning. If increasing `target_accept` does not help try to reparameterize.\n",
      "  % (self._chain_id, n_diverging))\n",
      "100%|██████████| 2500/2500 [00:18<00:00, 132.72it/s]\n",
      "/home/osvaldo/Documentos/Proyectos/01_PyMC3/pymc3/pymc3/step_methods/hmc/nuts.py:468: UserWarning: Chain 1 contains 2 diverging samples after tuning. If increasing `target_accept` does not help try to reparameterize.\n",
      "  % (self._chain_id, n_diverging))\n"
     ]
    }
   ],
   "source": [
    "with pm.Model() as model_10_4:\n",
    "    a = pm.Normal('alpha', 0, 10, shape=len(d.actor.unique()))\n",
    "    bp = pm.Normal('bp', 0, 10)\n",
    "    bpC = pm.Normal('bpC', 0, 10)\n",
    "    p = pm.math.invlogit(a[d.actor.values] + (bp + bpC * d.condition) * d.prosoc_left)\n",
    "    pulled_left = pm.Binomial('pulled_left', 1, p, observed=d.pulled_left)\n",
    "\n",
    "    trace_10_4 = pm.sample(2000)"
   ]
  },
  {
   "cell_type": "markdown",
   "metadata": {},
   "source": [
    "#### Code 10.15"
   ]
  },
  {
   "cell_type": "code",
   "execution_count": 16,
   "metadata": {},
   "outputs": [
    {
     "data": {
      "text/plain": [
       "array([0, 1, 2, 3, 4, 5, 6])"
      ]
     },
     "execution_count": 16,
     "metadata": {},
     "output_type": "execute_result"
    }
   ],
   "source": [
    "# remember we use a zero-index\n",
    "d['actor'].unique()"
   ]
  },
  {
   "cell_type": "markdown",
   "metadata": {},
   "source": [
    "#### Code 10.16"
   ]
  },
  {
   "cell_type": "code",
   "execution_count": 17,
   "metadata": {},
   "outputs": [
    {
     "data": {
      "text/html": [
       "<div>\n",
       "<style>\n",
       "    .dataframe thead tr:only-child th {\n",
       "        text-align: right;\n",
       "    }\n",
       "\n",
       "    .dataframe thead th {\n",
       "        text-align: left;\n",
       "    }\n",
       "\n",
       "    .dataframe tbody tr th {\n",
       "        vertical-align: top;\n",
       "    }\n",
       "</style>\n",
       "<table border=\"1\" class=\"dataframe\">\n",
       "  <thead>\n",
       "    <tr style=\"text-align: right;\">\n",
       "      <th></th>\n",
       "      <th>mean</th>\n",
       "      <th>sd</th>\n",
       "      <th>mc_error</th>\n",
       "      <th>hpd_5.5</th>\n",
       "      <th>hpd_94.5</th>\n",
       "    </tr>\n",
       "  </thead>\n",
       "  <tbody>\n",
       "    <tr>\n",
       "      <th>alpha__0</th>\n",
       "      <td>-0.74</td>\n",
       "      <td>0.27</td>\n",
       "      <td>0.00</td>\n",
       "      <td>-1.17</td>\n",
       "      <td>-0.34</td>\n",
       "    </tr>\n",
       "    <tr>\n",
       "      <th>alpha__1</th>\n",
       "      <td>10.99</td>\n",
       "      <td>5.41</td>\n",
       "      <td>0.12</td>\n",
       "      <td>3.42</td>\n",
       "      <td>18.22</td>\n",
       "    </tr>\n",
       "    <tr>\n",
       "      <th>alpha__2</th>\n",
       "      <td>-1.06</td>\n",
       "      <td>0.27</td>\n",
       "      <td>0.00</td>\n",
       "      <td>-1.48</td>\n",
       "      <td>-0.61</td>\n",
       "    </tr>\n",
       "    <tr>\n",
       "      <th>alpha__3</th>\n",
       "      <td>-1.06</td>\n",
       "      <td>0.28</td>\n",
       "      <td>0.00</td>\n",
       "      <td>-1.49</td>\n",
       "      <td>-0.60</td>\n",
       "    </tr>\n",
       "    <tr>\n",
       "      <th>alpha__4</th>\n",
       "      <td>-0.74</td>\n",
       "      <td>0.27</td>\n",
       "      <td>0.01</td>\n",
       "      <td>-1.15</td>\n",
       "      <td>-0.31</td>\n",
       "    </tr>\n",
       "    <tr>\n",
       "      <th>alpha__5</th>\n",
       "      <td>0.22</td>\n",
       "      <td>0.27</td>\n",
       "      <td>0.00</td>\n",
       "      <td>-0.18</td>\n",
       "      <td>0.66</td>\n",
       "    </tr>\n",
       "    <tr>\n",
       "      <th>alpha__6</th>\n",
       "      <td>1.82</td>\n",
       "      <td>0.40</td>\n",
       "      <td>0.01</td>\n",
       "      <td>1.23</td>\n",
       "      <td>2.47</td>\n",
       "    </tr>\n",
       "    <tr>\n",
       "      <th>bp</th>\n",
       "      <td>0.84</td>\n",
       "      <td>0.26</td>\n",
       "      <td>0.00</td>\n",
       "      <td>0.41</td>\n",
       "      <td>1.22</td>\n",
       "    </tr>\n",
       "    <tr>\n",
       "      <th>bpC</th>\n",
       "      <td>-0.13</td>\n",
       "      <td>0.30</td>\n",
       "      <td>0.01</td>\n",
       "      <td>-0.63</td>\n",
       "      <td>0.32</td>\n",
       "    </tr>\n",
       "  </tbody>\n",
       "</table>\n",
       "</div>"
      ],
      "text/plain": [
       "           mean    sd  mc_error  hpd_5.5  hpd_94.5\n",
       "alpha__0  -0.74  0.27      0.00    -1.17     -0.34\n",
       "alpha__1  10.99  5.41      0.12     3.42     18.22\n",
       "alpha__2  -1.06  0.27      0.00    -1.48     -0.61\n",
       "alpha__3  -1.06  0.28      0.00    -1.49     -0.60\n",
       "alpha__4  -0.74  0.27      0.01    -1.15     -0.31\n",
       "alpha__5   0.22  0.27      0.00    -0.18      0.66\n",
       "alpha__6   1.82  0.40      0.01     1.23      2.47\n",
       "bp         0.84  0.26      0.00     0.41      1.22\n",
       "bpC       -0.13  0.30      0.01    -0.63      0.32"
      ]
     },
     "execution_count": 17,
     "metadata": {},
     "output_type": "execute_result"
    }
   ],
   "source": [
    "pm.df_summary(trace_10_4, alpha=0.11).round(2)"
   ]
  },
  {
   "cell_type": "markdown",
   "metadata": {},
   "source": [
    "#### Code 10.17"
   ]
  },
  {
   "cell_type": "code",
   "execution_count": 18,
   "metadata": {},
   "outputs": [
    {
     "data": {
      "text/html": [
       "<div>\n",
       "<style>\n",
       "    .dataframe thead tr:only-child th {\n",
       "        text-align: right;\n",
       "    }\n",
       "\n",
       "    .dataframe thead th {\n",
       "        text-align: left;\n",
       "    }\n",
       "\n",
       "    .dataframe tbody tr th {\n",
       "        vertical-align: top;\n",
       "    }\n",
       "</style>\n",
       "<table border=\"1\" class=\"dataframe\">\n",
       "  <thead>\n",
       "    <tr style=\"text-align: right;\">\n",
       "      <th></th>\n",
       "      <th>alpha__0</th>\n",
       "      <th>alpha__1</th>\n",
       "      <th>alpha__2</th>\n",
       "      <th>alpha__3</th>\n",
       "      <th>alpha__4</th>\n",
       "      <th>alpha__5</th>\n",
       "      <th>alpha__6</th>\n",
       "      <th>bp</th>\n",
       "      <th>bpC</th>\n",
       "    </tr>\n",
       "  </thead>\n",
       "  <tbody>\n",
       "    <tr>\n",
       "      <th>0</th>\n",
       "      <td>-0.369312</td>\n",
       "      <td>6.849977</td>\n",
       "      <td>-0.546569</td>\n",
       "      <td>-0.695015</td>\n",
       "      <td>-0.427984</td>\n",
       "      <td>0.199945</td>\n",
       "      <td>1.714003</td>\n",
       "      <td>0.255933</td>\n",
       "      <td>0.125693</td>\n",
       "    </tr>\n",
       "    <tr>\n",
       "      <th>1</th>\n",
       "      <td>-0.405906</td>\n",
       "      <td>11.154481</td>\n",
       "      <td>-1.136661</td>\n",
       "      <td>-1.118322</td>\n",
       "      <td>-0.240653</td>\n",
       "      <td>0.014442</td>\n",
       "      <td>2.471327</td>\n",
       "      <td>0.456748</td>\n",
       "      <td>0.347902</td>\n",
       "    </tr>\n",
       "    <tr>\n",
       "      <th>2</th>\n",
       "      <td>-0.429169</td>\n",
       "      <td>10.953168</td>\n",
       "      <td>-0.811195</td>\n",
       "      <td>-0.798750</td>\n",
       "      <td>-0.507882</td>\n",
       "      <td>0.450651</td>\n",
       "      <td>1.583074</td>\n",
       "      <td>0.758291</td>\n",
       "      <td>-0.163970</td>\n",
       "    </tr>\n",
       "    <tr>\n",
       "      <th>3</th>\n",
       "      <td>-0.543426</td>\n",
       "      <td>9.227145</td>\n",
       "      <td>-0.913931</td>\n",
       "      <td>-0.909290</td>\n",
       "      <td>-0.641100</td>\n",
       "      <td>0.457433</td>\n",
       "      <td>1.575499</td>\n",
       "      <td>0.795047</td>\n",
       "      <td>-0.483523</td>\n",
       "    </tr>\n",
       "    <tr>\n",
       "      <th>4</th>\n",
       "      <td>-0.375340</td>\n",
       "      <td>14.038686</td>\n",
       "      <td>-0.077812</td>\n",
       "      <td>-0.670046</td>\n",
       "      <td>-0.435943</td>\n",
       "      <td>0.332426</td>\n",
       "      <td>1.480141</td>\n",
       "      <td>0.758258</td>\n",
       "      <td>-0.543883</td>\n",
       "    </tr>\n",
       "  </tbody>\n",
       "</table>\n",
       "</div>"
      ],
      "text/plain": [
       "   alpha__0   alpha__1  alpha__2  alpha__3  alpha__4  alpha__5  alpha__6  \\\n",
       "0 -0.369312   6.849977 -0.546569 -0.695015 -0.427984  0.199945  1.714003   \n",
       "1 -0.405906  11.154481 -1.136661 -1.118322 -0.240653  0.014442  2.471327   \n",
       "2 -0.429169  10.953168 -0.811195 -0.798750 -0.507882  0.450651  1.583074   \n",
       "3 -0.543426   9.227145 -0.913931 -0.909290 -0.641100  0.457433  1.575499   \n",
       "4 -0.375340  14.038686 -0.077812 -0.670046 -0.435943  0.332426  1.480141   \n",
       "\n",
       "         bp       bpC  \n",
       "0  0.255933  0.125693  \n",
       "1  0.456748  0.347902  \n",
       "2  0.758291 -0.163970  \n",
       "3  0.795047 -0.483523  \n",
       "4  0.758258 -0.543883  "
      ]
     },
     "execution_count": 18,
     "metadata": {},
     "output_type": "execute_result"
    }
   ],
   "source": [
    "post = pm.trace_to_dataframe(trace_10_4)\n",
    "post.head()"
   ]
  },
  {
   "cell_type": "markdown",
   "metadata": {},
   "source": [
    "#### Code 10.18"
   ]
  },
  {
   "cell_type": "code",
   "execution_count": 19,
   "metadata": {},
   "outputs": [
    {
     "data": {
      "image/png": "[encoded data removed]",
      "text/plain": [
       "<matplotlib.figure.Figure at 0x7f500bfe8278>"
      ]
     },
     "metadata": {},
     "output_type": "display_data"
    }
   ],
   "source": [
    "pm.kdeplot(post['alpha__1']);"
   ]
  },
  {
   "cell_type": "markdown",
   "metadata": {},
   "source": [
    "#### Code 10.19"
   ]
  },
  {
   "cell_type": "code",
   "execution_count": 20,
   "metadata": {},
   "outputs": [
    {
     "name": "stderr",
     "output_type": "stream",
     "text": [
      "100%|██████████| 1000/1000 [00:00<00:00, 1176.21it/s]\n"
     ]
    }
   ],
   "source": [
    "rt = pm.sample_ppc(trace_10_4, 1000, model_10_4)['pulled_left']"
   ]
  },
  {
   "cell_type": "code",
   "execution_count": 21,
   "metadata": {},
   "outputs": [
    {
     "data": {
      "image/png": "[encoded data removed]",
      "text/plain": [
       "<matplotlib.figure.Figure at 0x7f50481b8438>"
      ]
     },
     "metadata": {},
     "output_type": "display_data"
    }
   ],
   "source": [
    "chimp = 2\n",
    "pred_mean = np.zeros((1000, 4))\n",
    "cond = d.condition.unique()\n",
    "prosoc_l = d.prosoc_left.unique()\n",
    "for i in range(len(rt)):\n",
    "    tmp = []\n",
    "    for cp in cond:\n",
    "        for pl in prosoc_l:\n",
    "            tmp.append(np.mean(rt[i][(d.prosoc_left == pl) & (d.chose_prosoc == cp) & (d.actor == chimp)]))\n",
    "    pred_mean[i] = tmp\n",
    "\n",
    "ticks = range(4)\n",
    "mp = pred_mean.mean(0)\n",
    "hpd = pm.hpd(pred_mean, alpha=0.11)\n",
    "plt.fill_between(ticks, hpd[:,1], hpd[:,0], alpha=0.25, color='k')\n",
    "plt.plot(mp, color='k')\n",
    "plt.xticks(ticks, (\"0/0\",\"1/0\",\"0/1\",\"1/1\"))\n",
    "chimps = d[d.actor == chimp].groupby(['condition', 'prosoc_left', ]).agg('mean')['pulled_left'].values\n",
    "plt.plot(chimps, 'C0')\n",
    "\n",
    "plt.ylim(0, 1.1);"
   ]
  },
  {
   "cell_type": "markdown",
   "metadata": {},
   "source": [
    "#### Code 10.20"
   ]
  },
  {
   "cell_type": "code",
   "execution_count": 22,
   "metadata": {},
   "outputs": [
    {
     "data": {
      "text/html": [
       "<div>\n",
       "<style>\n",
       "    .dataframe thead tr:only-child th {\n",
       "        text-align: right;\n",
       "    }\n",
       "\n",
       "    .dataframe thead th {\n",
       "        text-align: left;\n",
       "    }\n",
       "\n",
       "    .dataframe tbody tr th {\n",
       "        vertical-align: top;\n",
       "    }\n",
       "</style>\n",
       "<table border=\"1\" class=\"dataframe\">\n",
       "  <thead>\n",
       "    <tr style=\"text-align: right;\">\n",
       "      <th></th>\n",
       "      <th>actor</th>\n",
       "      <th>condition</th>\n",
       "      <th>prosoc_left</th>\n",
       "      <th>pulled_left</th>\n",
       "    </tr>\n",
       "  </thead>\n",
       "  <tbody>\n",
       "    <tr>\n",
       "      <th>0</th>\n",
       "      <td>0</td>\n",
       "      <td>0</td>\n",
       "      <td>0</td>\n",
       "      <td>6</td>\n",
       "    </tr>\n",
       "    <tr>\n",
       "      <th>1</th>\n",
       "      <td>0</td>\n",
       "      <td>0</td>\n",
       "      <td>1</td>\n",
       "      <td>9</td>\n",
       "    </tr>\n",
       "    <tr>\n",
       "      <th>2</th>\n",
       "      <td>0</td>\n",
       "      <td>1</td>\n",
       "      <td>0</td>\n",
       "      <td>5</td>\n",
       "    </tr>\n",
       "    <tr>\n",
       "      <th>3</th>\n",
       "      <td>0</td>\n",
       "      <td>1</td>\n",
       "      <td>1</td>\n",
       "      <td>10</td>\n",
       "    </tr>\n",
       "    <tr>\n",
       "      <th>4</th>\n",
       "      <td>1</td>\n",
       "      <td>0</td>\n",
       "      <td>0</td>\n",
       "      <td>18</td>\n",
       "    </tr>\n",
       "    <tr>\n",
       "      <th>5</th>\n",
       "      <td>1</td>\n",
       "      <td>0</td>\n",
       "      <td>1</td>\n",
       "      <td>18</td>\n",
       "    </tr>\n",
       "    <tr>\n",
       "      <th>6</th>\n",
       "      <td>1</td>\n",
       "      <td>1</td>\n",
       "      <td>0</td>\n",
       "      <td>18</td>\n",
       "    </tr>\n",
       "  </tbody>\n",
       "</table>\n",
       "</div>"
      ],
      "text/plain": [
       "   actor  condition  prosoc_left  pulled_left\n",
       "0      0          0            0            6\n",
       "1      0          0            1            9\n",
       "2      0          1            0            5\n",
       "3      0          1            1           10\n",
       "4      1          0            0           18\n",
       "5      1          0            1           18\n",
       "6      1          1            0           18"
      ]
     },
     "execution_count": 22,
     "metadata": {},
     "output_type": "execute_result"
    }
   ],
   "source": [
    "d_aggregated = d.groupby(['actor', 'condition', 'prosoc_left',  ])['pulled_left'].sum().reset_index()\n",
    "d_aggregated.head(7)"
   ]
  },
  {
   "cell_type": "markdown",
   "metadata": {},
   "source": [
    "#### Code 10.21"
   ]
  },
  {
   "cell_type": "code",
   "execution_count": 23,
   "metadata": {},
   "outputs": [
    {
     "name": "stderr",
     "output_type": "stream",
     "text": [
      "Auto-assigning NUTS sampler...\n",
      "Initializing NUTS using jitter+adapt_diag...\n",
      "100%|██████████| 2500/2500 [00:07<00:00, 352.83it/s]\n"
     ]
    }
   ],
   "source": [
    "with pm.Model() as model_10_5:\n",
    "    a = pm.Normal('alpha', 0, 10)\n",
    "    bp = pm.Normal('bp', 0, 10)\n",
    "    bpC = pm.Normal('bpC', 0, 10)\n",
    "    p = pm.math.invlogit(a + (bp + bpC * d_aggregated.condition) * d_aggregated.prosoc_left)\n",
    "    pulled_left = pm.Binomial('pulled_left', 18, p, observed=d_aggregated.pulled_left)\n",
    "\n",
    "    trace_10_5 = pm.sample(2000)"
   ]
  },
  {
   "cell_type": "code",
   "execution_count": 24,
   "metadata": {},
   "outputs": [
    {
     "data": {
      "text/html": [
       "<div>\n",
       "<style>\n",
       "    .dataframe thead tr:only-child th {\n",
       "        text-align: right;\n",
       "    }\n",
       "\n",
       "    .dataframe thead th {\n",
       "        text-align: left;\n",
       "    }\n",
       "\n",
       "    .dataframe tbody tr th {\n",
       "        vertical-align: top;\n",
       "    }\n",
       "</style>\n",
       "<table border=\"1\" class=\"dataframe\">\n",
       "  <thead>\n",
       "    <tr style=\"text-align: right;\">\n",
       "      <th></th>\n",
       "      <th>mean</th>\n",
       "      <th>sd</th>\n",
       "      <th>mc_error</th>\n",
       "      <th>hpd_2.5</th>\n",
       "      <th>hpd_97.5</th>\n",
       "    </tr>\n",
       "  </thead>\n",
       "  <tbody>\n",
       "    <tr>\n",
       "      <th>alpha</th>\n",
       "      <td>0.047711</td>\n",
       "      <td>0.129219</td>\n",
       "      <td>0.002632</td>\n",
       "      <td>-0.199846</td>\n",
       "      <td>0.298299</td>\n",
       "    </tr>\n",
       "    <tr>\n",
       "      <th>bp</th>\n",
       "      <td>0.619034</td>\n",
       "      <td>0.234444</td>\n",
       "      <td>0.005256</td>\n",
       "      <td>0.133041</td>\n",
       "      <td>1.055039</td>\n",
       "    </tr>\n",
       "    <tr>\n",
       "      <th>bpC</th>\n",
       "      <td>-0.111058</td>\n",
       "      <td>0.263873</td>\n",
       "      <td>0.005778</td>\n",
       "      <td>-0.632894</td>\n",
       "      <td>0.396342</td>\n",
       "    </tr>\n",
       "  </tbody>\n",
       "</table>\n",
       "</div>"
      ],
      "text/plain": [
       "           mean        sd  mc_error   hpd_2.5  hpd_97.5\n",
       "alpha  0.047711  0.129219  0.002632 -0.199846  0.298299\n",
       "bp     0.619034  0.234444  0.005256  0.133041  1.055039\n",
       "bpC   -0.111058  0.263873  0.005778 -0.632894  0.396342"
      ]
     },
     "execution_count": 24,
     "metadata": {},
     "output_type": "execute_result"
    }
   ],
   "source": [
    "pm.df_summary(trace_10_5)"
   ]
  },
  {
   "cell_type": "code",
   "execution_count": 25,
   "metadata": {},
   "outputs": [
    {
     "data": {
      "text/plain": [
       "array([[ True,  True,  True, False,  True],\n",
       "       [ True,  True,  True, False,  True],\n",
       "       [ True,  True,  True, False, False]], dtype=bool)"
      ]
     },
     "execution_count": 25,
     "metadata": {},
     "output_type": "execute_result"
    }
   ],
   "source": [
    "# hacky check of similarity to 10_3, within a hundreth\n",
    "np.isclose(pm.df_summary(trace_10_5), pm.df_summary(trace_10_3), atol=0.01)"
   ]
  },
  {
   "cell_type": "markdown",
   "metadata": {},
   "source": [
    "#### Code 10.22"
   ]
  },
  {
   "cell_type": "code",
   "execution_count": 26,
   "metadata": {},
   "outputs": [
    {
     "data": {
      "text/html": [
       "<div>\n",
       "<style>\n",
       "    .dataframe thead tr:only-child th {\n",
       "        text-align: right;\n",
       "    }\n",
       "\n",
       "    .dataframe thead th {\n",
       "        text-align: left;\n",
       "    }\n",
       "\n",
       "    .dataframe tbody tr th {\n",
       "        vertical-align: top;\n",
       "    }\n",
       "</style>\n",
       "<table border=\"1\" class=\"dataframe\">\n",
       "  <thead>\n",
       "    <tr style=\"text-align: right;\">\n",
       "      <th></th>\n",
       "      <th>dept</th>\n",
       "      <th>applicant.gender</th>\n",
       "      <th>admit</th>\n",
       "      <th>reject</th>\n",
       "      <th>applications</th>\n",
       "    </tr>\n",
       "  </thead>\n",
       "  <tbody>\n",
       "    <tr>\n",
       "      <th>1</th>\n",
       "      <td>A</td>\n",
       "      <td>male</td>\n",
       "      <td>512</td>\n",
       "      <td>313</td>\n",
       "      <td>825</td>\n",
       "    </tr>\n",
       "    <tr>\n",
       "      <th>2</th>\n",
       "      <td>A</td>\n",
       "      <td>female</td>\n",
       "      <td>89</td>\n",
       "      <td>19</td>\n",
       "      <td>108</td>\n",
       "    </tr>\n",
       "    <tr>\n",
       "      <th>3</th>\n",
       "      <td>B</td>\n",
       "      <td>male</td>\n",
       "      <td>353</td>\n",
       "      <td>207</td>\n",
       "      <td>560</td>\n",
       "    </tr>\n",
       "    <tr>\n",
       "      <th>4</th>\n",
       "      <td>B</td>\n",
       "      <td>female</td>\n",
       "      <td>17</td>\n",
       "      <td>8</td>\n",
       "      <td>25</td>\n",
       "    </tr>\n",
       "    <tr>\n",
       "      <th>5</th>\n",
       "      <td>C</td>\n",
       "      <td>male</td>\n",
       "      <td>120</td>\n",
       "      <td>205</td>\n",
       "      <td>325</td>\n",
       "    </tr>\n",
       "    <tr>\n",
       "      <th>6</th>\n",
       "      <td>C</td>\n",
       "      <td>female</td>\n",
       "      <td>202</td>\n",
       "      <td>391</td>\n",
       "      <td>593</td>\n",
       "    </tr>\n",
       "    <tr>\n",
       "      <th>7</th>\n",
       "      <td>D</td>\n",
       "      <td>male</td>\n",
       "      <td>138</td>\n",
       "      <td>279</td>\n",
       "      <td>417</td>\n",
       "    </tr>\n",
       "    <tr>\n",
       "      <th>8</th>\n",
       "      <td>D</td>\n",
       "      <td>female</td>\n",
       "      <td>131</td>\n",
       "      <td>244</td>\n",
       "      <td>375</td>\n",
       "    </tr>\n",
       "    <tr>\n",
       "      <th>9</th>\n",
       "      <td>E</td>\n",
       "      <td>male</td>\n",
       "      <td>53</td>\n",
       "      <td>138</td>\n",
       "      <td>191</td>\n",
       "    </tr>\n",
       "    <tr>\n",
       "      <th>10</th>\n",
       "      <td>E</td>\n",
       "      <td>female</td>\n",
       "      <td>94</td>\n",
       "      <td>299</td>\n",
       "      <td>393</td>\n",
       "    </tr>\n",
       "    <tr>\n",
       "      <th>11</th>\n",
       "      <td>F</td>\n",
       "      <td>male</td>\n",
       "      <td>22</td>\n",
       "      <td>351</td>\n",
       "      <td>373</td>\n",
       "    </tr>\n",
       "    <tr>\n",
       "      <th>12</th>\n",
       "      <td>F</td>\n",
       "      <td>female</td>\n",
       "      <td>24</td>\n",
       "      <td>317</td>\n",
       "      <td>341</td>\n",
       "    </tr>\n",
       "  </tbody>\n",
       "</table>\n",
       "</div>"
      ],
      "text/plain": [
       "   dept applicant.gender  admit  reject  applications\n",
       "1     A             male    512     313           825\n",
       "2     A           female     89      19           108\n",
       "3     B             male    353     207           560\n",
       "4     B           female     17       8            25\n",
       "5     C             male    120     205           325\n",
       "6     C           female    202     391           593\n",
       "7     D             male    138     279           417\n",
       "8     D           female    131     244           375\n",
       "9     E             male     53     138           191\n",
       "10    E           female     94     299           393\n",
       "11    F             male     22     351           373\n",
       "12    F           female     24     317           341"
      ]
     },
     "execution_count": 26,
     "metadata": {},
     "output_type": "execute_result"
    }
   ],
   "source": [
    "d_ad = pd.read_csv('./Data/UCBadmit.csv', sep=';')\n",
    "d_ad"
   ]
  },
  {
   "cell_type": "markdown",
   "metadata": {},
   "source": [
    "#### Code 10.23"
   ]
  },
  {
   "cell_type": "code",
   "execution_count": 27,
   "metadata": {},
   "outputs": [
    {
     "name": "stderr",
     "output_type": "stream",
     "text": [
      "Auto-assigning NUTS sampler...\n",
      "Initializing NUTS using jitter+adapt_diag...\n",
      "100%|██████████| 3000/3000 [00:07<00:00, 409.01it/s]\n",
      "Auto-assigning NUTS sampler...\n",
      "Initializing NUTS using jitter+adapt_diag...\n",
      "100%|██████████| 3000/3000 [00:02<00:00, 1065.86it/s]\n"
     ]
    }
   ],
   "source": [
    "d_ad['male'] = (d_ad['applicant.gender'] == 'male').astype(int)\n",
    "\n",
    "with pm.Model() as model_10_6:\n",
    "    a = pm.Normal('a', 0, 10)\n",
    "    bm = pm.Normal('bm', 0, 10)\n",
    "    p = pm.math.invlogit(a + bm * d_ad.male)\n",
    "    admit = pm.Binomial('admit', p=p, n=d_ad.applications, observed=d_ad.admit)\n",
    "    \n",
    "    trace_10_6 = pm.sample(2000, tune=1000)\n",
    "    \n",
    "with pm.Model() as model_10_7:\n",
    "    a = pm.Normal('a', 0, 10)\n",
    "    p = pm.math.invlogit(a)\n",
    "    admit = pm.Binomial('admit', p=p, n=d_ad.applications, observed=d_ad.admit)\n",
    "    \n",
    "    trace_10_7 = pm.sample(2000, tune=1000)"
   ]
  },
  {
   "cell_type": "markdown",
   "metadata": {},
   "source": [
    "#### Code 10.24"
   ]
  },
  {
   "cell_type": "code",
   "execution_count": 28,
   "metadata": {},
   "outputs": [
    {
     "data": {
      "text/html": [
       "<div>\n",
       "<style>\n",
       "    .dataframe thead tr:only-child th {\n",
       "        text-align: right;\n",
       "    }\n",
       "\n",
       "    .dataframe thead th {\n",
       "        text-align: left;\n",
       "    }\n",
       "\n",
       "    .dataframe tbody tr th {\n",
       "        vertical-align: top;\n",
       "    }\n",
       "</style>\n",
       "<table border=\"1\" class=\"dataframe\">\n",
       "  <thead>\n",
       "    <tr style=\"text-align: right;\">\n",
       "      <th></th>\n",
       "      <th>WAIC</th>\n",
       "      <th>pWAIC</th>\n",
       "      <th>dWAIC</th>\n",
       "      <th>weight</th>\n",
       "      <th>SE</th>\n",
       "      <th>dSE</th>\n",
       "      <th>warning</th>\n",
       "    </tr>\n",
       "  </thead>\n",
       "  <tbody>\n",
       "    <tr>\n",
       "      <th>0</th>\n",
       "      <td>988.84</td>\n",
       "      <td>112.82</td>\n",
       "      <td>0</td>\n",
       "      <td>1</td>\n",
       "      <td>313.56</td>\n",
       "      <td>0</td>\n",
       "      <td>1</td>\n",
       "    </tr>\n",
       "    <tr>\n",
       "      <th>1</th>\n",
       "      <td>1051.26</td>\n",
       "      <td>85.37</td>\n",
       "      <td>62.42</td>\n",
       "      <td>0</td>\n",
       "      <td>315.56</td>\n",
       "      <td>161.82</td>\n",
       "      <td>1</td>\n",
       "    </tr>\n",
       "  </tbody>\n",
       "</table>\n",
       "</div>"
      ],
      "text/plain": [
       "      WAIC   pWAIC  dWAIC weight      SE     dSE warning\n",
       "0   988.84  112.82      0      1  313.56       0       1\n",
       "1  1051.26   85.37  62.42      0  315.56  161.82       1"
      ]
     },
     "execution_count": 28,
     "metadata": {},
     "output_type": "execute_result"
    }
   ],
   "source": [
    "# Something goofy here... \n",
    "# not even close to WAIC values, larger standard error\n",
    "\n",
    "comp_df = pm.compare([trace_10_6, trace_10_7], [model_10_6, model_10_7], method='pseudo-BMA')\n",
    "comp_df"
   ]
  },
  {
   "cell_type": "markdown",
   "metadata": {},
   "source": [
    "#### Code 10.25"
   ]
  },
  {
   "cell_type": "code",
   "execution_count": 29,
   "metadata": {},
   "outputs": [
    {
     "data": {
      "text/html": [
       "<div>\n",
       "<style>\n",
       "    .dataframe thead tr:only-child th {\n",
       "        text-align: right;\n",
       "    }\n",
       "\n",
       "    .dataframe thead th {\n",
       "        text-align: left;\n",
       "    }\n",
       "\n",
       "    .dataframe tbody tr th {\n",
       "        vertical-align: top;\n",
       "    }\n",
       "</style>\n",
       "<table border=\"1\" class=\"dataframe\">\n",
       "  <thead>\n",
       "    <tr style=\"text-align: right;\">\n",
       "      <th></th>\n",
       "      <th>mean</th>\n",
       "      <th>sd</th>\n",
       "      <th>mc_error</th>\n",
       "      <th>hpd_2.5</th>\n",
       "      <th>hpd_97.5</th>\n",
       "    </tr>\n",
       "  </thead>\n",
       "  <tbody>\n",
       "    <tr>\n",
       "      <th>a</th>\n",
       "      <td>-0.83</td>\n",
       "      <td>0.05</td>\n",
       "      <td>0.0</td>\n",
       "      <td>-0.93</td>\n",
       "      <td>-0.73</td>\n",
       "    </tr>\n",
       "    <tr>\n",
       "      <th>bm</th>\n",
       "      <td>0.61</td>\n",
       "      <td>0.06</td>\n",
       "      <td>0.0</td>\n",
       "      <td>0.49</td>\n",
       "      <td>0.74</td>\n",
       "    </tr>\n",
       "  </tbody>\n",
       "</table>\n",
       "</div>"
      ],
      "text/plain": [
       "    mean    sd  mc_error  hpd_2.5  hpd_97.5\n",
       "a  -0.83  0.05       0.0    -0.93     -0.73\n",
       "bm  0.61  0.06       0.0     0.49      0.74"
      ]
     },
     "execution_count": 29,
     "metadata": {},
     "output_type": "execute_result"
    }
   ],
   "source": [
    "pm.df_summary(trace_10_6).round(2)"
   ]
  },
  {
   "cell_type": "markdown",
   "metadata": {},
   "source": [
    "#### Code 10.26"
   ]
  },
  {
   "cell_type": "code",
   "execution_count": 30,
   "metadata": {},
   "outputs": [
    {
     "data": {
      "text/plain": [
       "2.5%     0.113051\n",
       "50%      0.141382\n",
       "97.5%    0.169554\n",
       "dtype: float64"
      ]
     },
     "execution_count": 30,
     "metadata": {},
     "output_type": "execute_result"
    }
   ],
   "source": [
    "post = pm.trace_to_dataframe(trace_10_6)\n",
    "p_admit_male = logistic(post['a'] + post['bm'])\n",
    "p_admit_female = logistic(post['a'])\n",
    "diff_admit = p_admit_male - p_admit_female\n",
    "diff_admit.describe(percentiles=[.025, .5, .975])[['2.5%', '50%', '97.5%']]"
   ]
  },
  {
   "cell_type": "markdown",
   "metadata": {},
   "source": [
    "#### Code 10.27"
   ]
  },
  {
   "cell_type": "code",
   "execution_count": 31,
   "metadata": {},
   "outputs": [
    {
     "data": {
      "text/plain": [
       "(0, 1)"
      ]
     },
     "execution_count": 31,
     "metadata": {},
     "output_type": "execute_result"
    },
    {
     "data": {
      "image/png": "[encoded data removed]",
      "text/plain": [
       "<matplotlib.figure.Figure at 0x7f4ffbda50f0>"
      ]
     },
     "metadata": {},
     "output_type": "display_data"
    }
   ],
   "source": [
    "for i in range(6):\n",
    "    x = 1 + 2 * i\n",
    "    y1 = d_ad.admit[x] / d_ad.applications[x]\n",
    "    y2 = d_ad.admit[x+1] / d_ad.applications[x+1]\n",
    "    plt.plot([x, x+1], [y1, y2], '-C0o', lw=2)\n",
    "    plt.text(x + 0.25, (y1+y2)/2 + 0.05, d_ad.dept[x])\n",
    "plt.ylim(0, 1)"
   ]
  },
  {
   "cell_type": "markdown",
   "metadata": {},
   "source": [
    "#### Code 10.28"
   ]
  },
  {
   "cell_type": "code",
   "execution_count": 32,
   "metadata": {},
   "outputs": [],
   "source": [
    "d_ad['dept_id'] = pd.Categorical(d_ad['dept']).codes"
   ]
  },
  {
   "cell_type": "code",
   "execution_count": 36,
   "metadata": {},
   "outputs": [
    {
     "name": "stderr",
     "output_type": "stream",
     "text": [
      "Auto-assigning NUTS sampler...\n",
      "Initializing NUTS using jitter+adapt_diag...\n",
      "100%|██████████| 2500/2500 [00:04<00:00, 526.49it/s]\n",
      "Auto-assigning NUTS sampler...\n",
      "Initializing NUTS using jitter+adapt_diag...\n",
      "100%|██████████| 2500/2500 [00:06<00:00, 387.67it/s]\n"
     ]
    }
   ],
   "source": [
    "with pm.Model() as model_10_8:\n",
    "    a = pm.Normal('a', 0, 10, shape=len(d_ad['dept'].unique()))\n",
    "    p = pm.math.invlogit(a[d_ad['dept_id'].values])\n",
    "    admit = pm.Binomial('admit', p=p, n=d_ad['applications'], observed=d_ad['admit'])\n",
    "    \n",
    "    trace_10_8 = pm.sample(2000)\n",
    "\n",
    "with pm.Model() as model_10_9:\n",
    "    a = pm.Normal('a', 0, 10, shape=len(d_ad['dept'].unique()))\n",
    "    bm = pm.Normal('bm', 0, 10)\n",
    "    p = pm.math.invlogit(a[d_ad['dept_id'].values] + bm * d_ad['male'])\n",
    "    admit = pm.Binomial('admit', p=p, n=d_ad['applications'], observed=d_ad['admit'])\n",
    "    \n",
    "    trace_10_9 = pm.sample(2000)"
   ]
  },
  {
   "cell_type": "markdown",
   "metadata": {},
   "source": [
    "#### Code 10.29"
   ]
  },
  {
   "cell_type": "code",
   "execution_count": 37,
   "metadata": {},
   "outputs": [
    {
     "data": {
      "text/html": [
       "<div>\n",
       "<style>\n",
       "    .dataframe thead tr:only-child th {\n",
       "        text-align: right;\n",
       "    }\n",
       "\n",
       "    .dataframe thead th {\n",
       "        text-align: left;\n",
       "    }\n",
       "\n",
       "    .dataframe tbody tr th {\n",
       "        vertical-align: top;\n",
       "    }\n",
       "</style>\n",
       "<table border=\"1\" class=\"dataframe\">\n",
       "  <thead>\n",
       "    <tr style=\"text-align: right;\">\n",
       "      <th></th>\n",
       "      <th>WAIC</th>\n",
       "      <th>pWAIC</th>\n",
       "      <th>dWAIC</th>\n",
       "      <th>weight</th>\n",
       "      <th>SE</th>\n",
       "      <th>dSE</th>\n",
       "      <th>warning</th>\n",
       "    </tr>\n",
       "  </thead>\n",
       "  <tbody>\n",
       "    <tr>\n",
       "      <th>2</th>\n",
       "      <td>105.16</td>\n",
       "      <td>6.57</td>\n",
       "      <td>0</td>\n",
       "      <td>0.9</td>\n",
       "      <td>17.12</td>\n",
       "      <td>0</td>\n",
       "      <td>1</td>\n",
       "    </tr>\n",
       "    <tr>\n",
       "      <th>3</th>\n",
       "      <td>109.45</td>\n",
       "      <td>9.94</td>\n",
       "      <td>4.29</td>\n",
       "      <td>0.1</td>\n",
       "      <td>15.89</td>\n",
       "      <td>3.37</td>\n",
       "      <td>1</td>\n",
       "    </tr>\n",
       "    <tr>\n",
       "      <th>0</th>\n",
       "      <td>988.84</td>\n",
       "      <td>112.82</td>\n",
       "      <td>883.69</td>\n",
       "      <td>0</td>\n",
       "      <td>313.56</td>\n",
       "      <td>310.67</td>\n",
       "      <td>1</td>\n",
       "    </tr>\n",
       "    <tr>\n",
       "      <th>1</th>\n",
       "      <td>1051.26</td>\n",
       "      <td>85.37</td>\n",
       "      <td>946.1</td>\n",
       "      <td>0</td>\n",
       "      <td>315.56</td>\n",
       "      <td>313.19</td>\n",
       "      <td>1</td>\n",
       "    </tr>\n",
       "  </tbody>\n",
       "</table>\n",
       "</div>"
      ],
      "text/plain": [
       "      WAIC   pWAIC   dWAIC weight      SE     dSE warning\n",
       "2   105.16    6.57       0    0.9   17.12       0       1\n",
       "3   109.45    9.94    4.29    0.1   15.89    3.37       1\n",
       "0   988.84  112.82  883.69      0  313.56  310.67       1\n",
       "1  1051.26   85.37   946.1      0  315.56  313.19       1"
      ]
     },
     "execution_count": 37,
     "metadata": {},
     "output_type": "execute_result"
    }
   ],
   "source": [
    "# WAIC values still off\n",
    "# Plus warning flag\n",
    "\n",
    "comp_df = pm.compare(traces=[trace_10_6, trace_10_7, trace_10_8, trace_10_9],\n",
    "                     models=[model_10_6, model_10_7, model_10_8, model_10_9], method='pseudo-BMA')\n",
    "comp_df"
   ]
  },
  {
   "cell_type": "markdown",
   "metadata": {},
   "source": [
    "#### Code 10.30"
   ]
  },
  {
   "cell_type": "code",
   "execution_count": 38,
   "metadata": {},
   "outputs": [
    {
     "data": {
      "text/html": [
       "<div>\n",
       "<style>\n",
       "    .dataframe thead tr:only-child th {\n",
       "        text-align: right;\n",
       "    }\n",
       "\n",
       "    .dataframe thead th {\n",
       "        text-align: left;\n",
       "    }\n",
       "\n",
       "    .dataframe tbody tr th {\n",
       "        vertical-align: top;\n",
       "    }\n",
       "</style>\n",
       "<table border=\"1\" class=\"dataframe\">\n",
       "  <thead>\n",
       "    <tr style=\"text-align: right;\">\n",
       "      <th></th>\n",
       "      <th>mean</th>\n",
       "      <th>sd</th>\n",
       "      <th>mc_error</th>\n",
       "      <th>hpd_2.5</th>\n",
       "      <th>hpd_97.5</th>\n",
       "    </tr>\n",
       "  </thead>\n",
       "  <tbody>\n",
       "    <tr>\n",
       "      <th>a__0</th>\n",
       "      <td>0.68</td>\n",
       "      <td>0.10</td>\n",
       "      <td>0.0</td>\n",
       "      <td>0.49</td>\n",
       "      <td>0.89</td>\n",
       "    </tr>\n",
       "    <tr>\n",
       "      <th>a__1</th>\n",
       "      <td>0.64</td>\n",
       "      <td>0.12</td>\n",
       "      <td>0.0</td>\n",
       "      <td>0.40</td>\n",
       "      <td>0.86</td>\n",
       "    </tr>\n",
       "    <tr>\n",
       "      <th>a__2</th>\n",
       "      <td>-0.58</td>\n",
       "      <td>0.07</td>\n",
       "      <td>0.0</td>\n",
       "      <td>-0.72</td>\n",
       "      <td>-0.43</td>\n",
       "    </tr>\n",
       "    <tr>\n",
       "      <th>a__3</th>\n",
       "      <td>-0.61</td>\n",
       "      <td>0.09</td>\n",
       "      <td>0.0</td>\n",
       "      <td>-0.77</td>\n",
       "      <td>-0.44</td>\n",
       "    </tr>\n",
       "    <tr>\n",
       "      <th>a__4</th>\n",
       "      <td>-1.06</td>\n",
       "      <td>0.10</td>\n",
       "      <td>0.0</td>\n",
       "      <td>-1.25</td>\n",
       "      <td>-0.86</td>\n",
       "    </tr>\n",
       "    <tr>\n",
       "      <th>a__5</th>\n",
       "      <td>-2.63</td>\n",
       "      <td>0.16</td>\n",
       "      <td>0.0</td>\n",
       "      <td>-2.95</td>\n",
       "      <td>-2.33</td>\n",
       "    </tr>\n",
       "    <tr>\n",
       "      <th>bm</th>\n",
       "      <td>-0.10</td>\n",
       "      <td>0.08</td>\n",
       "      <td>0.0</td>\n",
       "      <td>-0.25</td>\n",
       "      <td>0.06</td>\n",
       "    </tr>\n",
       "  </tbody>\n",
       "</table>\n",
       "</div>"
      ],
      "text/plain": [
       "      mean    sd  mc_error  hpd_2.5  hpd_97.5\n",
       "a__0  0.68  0.10       0.0     0.49      0.89\n",
       "a__1  0.64  0.12       0.0     0.40      0.86\n",
       "a__2 -0.58  0.07       0.0    -0.72     -0.43\n",
       "a__3 -0.61  0.09       0.0    -0.77     -0.44\n",
       "a__4 -1.06  0.10       0.0    -1.25     -0.86\n",
       "a__5 -2.63  0.16       0.0    -2.95     -2.33\n",
       "bm   -0.10  0.08       0.0    -0.25      0.06"
      ]
     },
     "execution_count": 38,
     "metadata": {},
     "output_type": "execute_result"
    }
   ],
   "source": [
    "pm.df_summary(trace_10_9).round(2)"
   ]
  },
  {
   "cell_type": "markdown",
   "metadata": {},
   "source": [
    "#### Code 10.31\n",
    "Replicated model above but with MCMC in book."
   ]
  },
  {
   "cell_type": "code",
   "execution_count": 39,
   "metadata": {},
   "outputs": [
    {
     "name": "stdout",
     "output_type": "stream",
     "text": [
      "This notebook was createad on a computer x86_64 running debian stretch/sid and using:\n",
      "Python 3.6.2\n",
      "IPython 6.1.0\n",
      "PyMC3 3.2\n",
      "NumPy 1.13.1\n",
      "Pandas 0.20.3\n",
      "SciPy 0.19.1\n",
      "Matplotlib 2.0.2\n",
      "\n"
     ]
    }
   ],
   "source": [
    "import sys, IPython, scipy, matplotlib, platform\n",
    "print(\"This notebook was createad on a computer %s running %s and using:\\nPython %s\\nIPython %s\\nPyMC3 %s\\nNumPy %s\\nPandas %s\\nSciPy %s\\nMatplotlib %s\\n\" % (platform.machine(), ' '.join(platform.linux_distribution()[:2]), sys.version[:5], IPython.__version__, pm.__version__, np.__version__, pd.__version__, scipy.__version__, matplotlib.__version__))"
   ]
  }
 ],
 "metadata": {
  "kernelspec": {
   "display_name": "Python 3",
   "language": "python",
   "name": "python3"
  },
  "language_info": {
   "codemirror_mode": {
    "name": "ipython",
    "version": 3
   },
   "file_extension": ".py",
   "mimetype": "text/x-python",
   "name": "python",
   "nbconvert_exporter": "python",
   "pygments_lexer": "ipython3",
   "version": "3.6.2"
  }
 },
 "nbformat": 4,
 "nbformat_minor": 1
}
