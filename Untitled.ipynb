{
 "cells": [
  {
   "cell_type": "code",
   "execution_count": 4,
   "metadata": {},
   "outputs": [],
   "source": [
    "%matplotlib inline\n",
    "import pymc3 as pm\n",
    "import numpy as np\n",
    "import pandas as pd\n",
    "from scipy import stats\n",
    "# R-like interface, alternatively you can import statsmodels as import statsmodels.api as sm\n",
    "import statsmodels.formula.api as smf \n",
    "import statsmodels.api as sm\n",
    "import matplotlib.pyplot as plt\n",
    "palette = 'colorblind'\n",
    "import seaborn as sns; sns.set_palette(palette); sns.set_color_codes(palette)\n",
    "import numpy as np\n",
    "from numba import jit"
   ]
  },
  {
   "cell_type": "code",
   "execution_count": 19,
   "metadata": {},
   "outputs": [],
   "source": [
    "data = pd.read_csv('Data/cars.csv', sep=',')"
   ]
  },
  {
   "cell_type": "code",
   "execution_count": 20,
   "metadata": {},
   "outputs": [
    {
     "name": "stderr",
     "output_type": "stream",
     "text": [
      "Average Loss = 221.3:   8%|▊         | 15143/200000 [00:06<01:31, 2029.36it/s] \n",
      "100%|██████████| 1500/1500 [00:11<00:00, 128.53it/s]\n"
     ]
    }
   ],
   "source": [
    "with pm.Model() as m_6_15 :\n",
    "    a = pm.Normal('a', mu=0, sd=100)\n",
    "    b = pm.Normal('b', mu=0, sd=10)\n",
    "    sigma = pm.Uniform('sigma', 0, 30)\n",
    "    mu = pm.Deterministic('mu', a + b * data['speed'])\n",
    "    dist = pm.Normal('dist', mu=mu, sd=sigma, observed = data['dist'])\n",
    "    m_6_15 = pm.sample(1000) "
   ]
  },
  {
   "cell_type": "code",
   "execution_count": 30,
   "metadata": {},
   "outputs": [
    {
     "data": {
      "text/html": [
       "<div>\n",
       "<style>\n",
       "    .dataframe thead tr:only-child th {\n",
       "        text-align: right;\n",
       "    }\n",
       "\n",
       "    .dataframe thead th {\n",
       "        text-align: left;\n",
       "    }\n",
       "\n",
       "    .dataframe tbody tr th {\n",
       "        vertical-align: top;\n",
       "    }\n",
       "</style>\n",
       "<table border=\"1\" class=\"dataframe\">\n",
       "  <thead>\n",
       "    <tr style=\"text-align: right;\">\n",
       "      <th></th>\n",
       "      <th>mean</th>\n",
       "      <th>sd</th>\n",
       "      <th>mc_error</th>\n",
       "      <th>hpd_2.5</th>\n",
       "      <th>hpd_97.5</th>\n",
       "    </tr>\n",
       "  </thead>\n",
       "  <tbody>\n",
       "    <tr>\n",
       "      <th>a</th>\n",
       "      <td>-17.803236</td>\n",
       "      <td>7.108258</td>\n",
       "      <td>0.400903</td>\n",
       "      <td>-30.853534</td>\n",
       "      <td>-2.527974</td>\n",
       "    </tr>\n",
       "    <tr>\n",
       "      <th>b</th>\n",
       "      <td>3.941001</td>\n",
       "      <td>0.435073</td>\n",
       "      <td>0.023961</td>\n",
       "      <td>3.072963</td>\n",
       "      <td>4.780359</td>\n",
       "    </tr>\n",
       "    <tr>\n",
       "      <th>sigma</th>\n",
       "      <td>15.746206</td>\n",
       "      <td>1.553937</td>\n",
       "      <td>0.065725</td>\n",
       "      <td>12.844436</td>\n",
       "      <td>18.733017</td>\n",
       "    </tr>\n",
       "  </tbody>\n",
       "</table>\n",
       "</div>"
      ],
      "text/plain": [
       "            mean        sd  mc_error    hpd_2.5   hpd_97.5\n",
       "a     -17.803236  7.108258  0.400903 -30.853534  -2.527974\n",
       "b       3.941001  0.435073  0.023961   3.072963   4.780359\n",
       "sigma  15.746206  1.553937  0.065725  12.844436  18.733017"
      ]
     },
     "execution_count": 30,
     "metadata": {},
     "output_type": "execute_result"
    }
   ],
   "source": [
    "pm.df_summary(m_6_15, varnames=['a', 'b', 'sigma'])"
   ]
  },
  {
   "cell_type": "code",
   "execution_count": 79,
   "metadata": {},
   "outputs": [],
   "source": [
    "n_samples = 1000\n",
    "n_cases = data.shape[0]\n",
    "p = np.zeros((n_cases, n_samples))"
   ]
  },
  {
   "cell_type": "code",
   "execution_count": 80,
   "metadata": {},
   "outputs": [],
   "source": [
    "def function1(n):\n",
    "    for s in range(0, n):\n",
    "        mu = m_6_15['a'][s] + m_6_15['b'][s] * data['speed']\n",
    "        p_ = np.random.normal(loc=mu, scale=m_6_15['sigma'][s], size=None)\n",
    "        p[:,s] = np.log(p_)\n",
    "    return p\n",
    "ll = function1(n_samples)"
   ]
  },
  {
   "cell_type": "code",
   "execution_count": 84,
   "metadata": {},
   "outputs": [],
   "source": [
    "for i in range(1, n_cases):\n",
    "    #lppd = np.logaddexp(ll) - np.log(n_samples)\n",
    "    lppd = np.sum(ll[i,:]) - np.log(n_samples)"
   ]
  },
  {
   "cell_type": "code",
   "execution_count": 85,
   "metadata": {},
   "outputs": [
    {
     "data": {
      "text/plain": [
       "4361.672822345894"
      ]
     },
     "execution_count": 85,
     "metadata": {},
     "output_type": "execute_result"
    }
   ],
   "source": [
    "lppd"
   ]
  },
  {
   "cell_type": "code",
   "execution_count": 87,
   "metadata": {},
   "outputs": [],
   "source": [
    "pWAIC = []\n",
    "for a in range(n_cases):    \n",
    "    pWAIC.append(np.var(ll[a,:]))"
   ]
  },
  {
   "cell_type": "code",
   "execution_count": 88,
   "metadata": {},
   "outputs": [
    {
     "data": {
      "text/plain": [
       "nan"
      ]
     },
     "execution_count": 88,
     "metadata": {},
     "output_type": "execute_result"
    }
   ],
   "source": [
    "-2 * (lppd - np.sum(pWAIC))"
   ]
  },
  {
   "cell_type": "code",
   "execution_count": null,
   "metadata": {
    "collapsed": true
   },
   "outputs": [],
   "source": []
  }
 ],
 "metadata": {
  "kernelspec": {
   "display_name": "Python 3",
   "language": "python",
   "name": "python3"
  },
  "language_info": {
   "codemirror_mode": {
    "name": "ipython",
    "version": 3
   },
   "file_extension": ".py",
   "mimetype": "text/x-python",
   "name": "python",
   "nbconvert_exporter": "python",
   "pygments_lexer": "ipython3",
   "version": "3.5.2"
  }
 },
 "nbformat": 4,
 "nbformat_minor": 2
}
